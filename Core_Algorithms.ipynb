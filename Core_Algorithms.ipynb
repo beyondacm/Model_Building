{
 "cells": [
  {
   "cell_type": "code",
   "execution_count": 1,
   "metadata": {
    "collapsed": true
   },
   "outputs": [],
   "source": [
    "import pandas as pd\n",
    "import numpy as np"
   ]
  },
  {
   "cell_type": "code",
   "execution_count": 2,
   "metadata": {
    "collapsed": false
   },
   "outputs": [],
   "source": [
    "# Before you doing this, you need to remove the first line(header) of the below file\n",
    "match_best = pd.read_csv('Algorithm/match_best.csv', header=None)\n",
    "match_second = pd.read_csv('Algorithm/match_second.csv', header=None)\n",
    "match_third = pd.read_csv('Algorithm/match_third.csv', header=None)\n",
    "raw_data = pd.read_csv('Algorithm/raw_data.csv', header=None)\n",
    "Training_data = pd.read_csv('Algorithm/training_data.csv', header=None)\n",
    "Testing_data = pd.read_csv('Algorithm/testing_data.csv', header=None)\n",
    "\n",
    "similar_best = pd.read_csv('Algorithm/similar_best.csv', header=None)\n",
    "similar_second = pd.read_csv('Algorithm/similar_second.csv', header=None)\n",
    "similar_third = pd.read_csv('Algorithm/similar_third.csv', header=None)"
   ]
  },
  {
   "cell_type": "code",
   "execution_count": 3,
   "metadata": {
    "collapsed": false,
    "scrolled": true
   },
   "outputs": [],
   "source": [
    "# Training_data # 17583 rows × 117 columns"
   ]
  },
  {
   "cell_type": "code",
   "execution_count": 4,
   "metadata": {
    "collapsed": false
   },
   "outputs": [],
   "source": [
    "# similar_best 1959 rows × 116 columns"
   ]
  },
  {
   "cell_type": "code",
   "execution_count": 5,
   "metadata": {
    "collapsed": false
   },
   "outputs": [],
   "source": [
    "U = match_second - match_third\n",
    "# U1 = similar_best - similar_second \n",
    "U2 = similar_second - similar_third "
   ]
  },
  {
   "cell_type": "code",
   "execution_count": 6,
   "metadata": {
    "collapsed": false
   },
   "outputs": [],
   "source": [
    "# U = U.append(U1)\n",
    "U = U.append(U2)"
   ]
  },
  {
   "cell_type": "code",
   "execution_count": 7,
   "metadata": {
    "collapsed": false
   },
   "outputs": [],
   "source": [
    "U = U.reset_index() # 5877 rows × 116 columns\n",
    "U = U.drop('index', axis=1)"
   ]
  },
  {
   "cell_type": "code",
   "execution_count": 8,
   "metadata": {
    "collapsed": false
   },
   "outputs": [],
   "source": [
    "# U 5877 rows × 116 columns"
   ]
  },
  {
   "cell_type": "code",
   "execution_count": 9,
   "metadata": {
    "collapsed": false
   },
   "outputs": [],
   "source": [
    "# U # 1959 rows × 116 columns\n",
    "numOfColumns = U.shape[1]"
   ]
  },
  {
   "cell_type": "code",
   "execution_count": 10,
   "metadata": {
    "collapsed": true
   },
   "outputs": [],
   "source": [
    "# INPORTANT : numOfColumns + 1 \n",
    "data = np.identity( numOfColumns + 1 )   # with topic features"
   ]
  },
  {
   "cell_type": "code",
   "execution_count": 11,
   "metadata": {
    "collapsed": false
   },
   "outputs": [],
   "source": [
    "# data"
   ]
  },
  {
   "cell_type": "code",
   "execution_count": 12,
   "metadata": {
    "collapsed": false
   },
   "outputs": [],
   "source": [
    "I = pd.DataFrame(data=data[1:,1:])"
   ]
  },
  {
   "cell_type": "code",
   "execution_count": 13,
   "metadata": {
    "collapsed": false
   },
   "outputs": [],
   "source": [
    "# I"
   ]
  },
  {
   "cell_type": "code",
   "execution_count": 14,
   "metadata": {
    "collapsed": true
   },
   "outputs": [],
   "source": [
    "parameter_l = 0.5\n",
    "parameter_u = 0.5\n",
    "# 0.01,1.32,0.04\n",
    "C = pd.concat([parameter_l * I, parameter_u * U],ignore_index=True)"
   ]
  },
  {
   "cell_type": "code",
   "execution_count": 15,
   "metadata": {
    "collapsed": false
   },
   "outputs": [],
   "source": [
    "# C"
   ]
  },
  {
   "cell_type": "code",
   "execution_count": 16,
   "metadata": {
    "collapsed": false
   },
   "outputs": [],
   "source": [
    "def S(x) :\n",
    "    if x > -1 and x < 1:\n",
    "        return x\n",
    "    elif x >= 1 :\n",
    "        return 1\n",
    "    else :\n",
    "        return -1\n",
    "\n",
    "# test the S(x)\n",
    "# print S(0)\n",
    "# print S(0.5)\n",
    "# print S(-0.7)\n",
    "# print S(-2)\n",
    "# print S(1.8)"
   ]
  },
  {
   "cell_type": "code",
   "execution_count": 17,
   "metadata": {
    "collapsed": true
   },
   "outputs": [],
   "source": [
    "random_num = np.random.uniform(-1, 1, size=numOfColumns)"
   ]
  },
  {
   "cell_type": "code",
   "execution_count": 18,
   "metadata": {
    "collapsed": false
   },
   "outputs": [],
   "source": [
    "w = pd.DataFrame(data=random_num)"
   ]
  },
  {
   "cell_type": "code",
   "execution_count": 19,
   "metadata": {
    "collapsed": false
   },
   "outputs": [],
   "source": [
    "# w # 116 rows × 1 columns"
   ]
  },
  {
   "cell_type": "code",
   "execution_count": 20,
   "metadata": {
    "collapsed": false
   },
   "outputs": [],
   "source": [
    "parameter_g = 0.04\n",
    "#0.01,1.32,0.04\n",
    "C_Dot_W = C.dot(w) / parameter_g"
   ]
  },
  {
   "cell_type": "code",
   "execution_count": 21,
   "metadata": {
    "collapsed": false
   },
   "outputs": [],
   "source": [
    "# C_Dot_W"
   ]
  },
  {
   "cell_type": "code",
   "execution_count": 22,
   "metadata": {
    "collapsed": false
   },
   "outputs": [],
   "source": [
    "A = C_Dot_W[0].apply(S)"
   ]
  },
  {
   "cell_type": "code",
   "execution_count": 23,
   "metadata": {
    "collapsed": false
   },
   "outputs": [],
   "source": [
    "# A"
   ]
  },
  {
   "cell_type": "code",
   "execution_count": 24,
   "metadata": {
    "collapsed": false
   },
   "outputs": [],
   "source": [
    "# C_T : C 's transpose\n",
    "C_T = C.transpose()"
   ]
  },
  {
   "cell_type": "code",
   "execution_count": 25,
   "metadata": {
    "collapsed": false
   },
   "outputs": [],
   "source": [
    "C_T_Dot_A = 0.5 * C_T.dot(A)"
   ]
  },
  {
   "cell_type": "code",
   "execution_count": 26,
   "metadata": {
    "collapsed": false
   },
   "outputs": [],
   "source": [
    "# C_T_Dot_A"
   ]
  },
  {
   "cell_type": "code",
   "execution_count": 27,
   "metadata": {
    "collapsed": false
   },
   "outputs": [],
   "source": [
    "# Training_data # 17583 rows × 118 columns"
   ]
  },
  {
   "cell_type": "code",
   "execution_count": 28,
   "metadata": {
    "collapsed": false
   },
   "outputs": [],
   "source": [
    "# with topic features\n",
    "X = Training_data.ix[0:, 0:numOfColumns-1]\n",
    "Y = Training_data.ix[0:, numOfColumns]"
   ]
  },
  {
   "cell_type": "code",
   "execution_count": 29,
   "metadata": {
    "collapsed": false
   },
   "outputs": [],
   "source": [
    "# X"
   ]
  },
  {
   "cell_type": "code",
   "execution_count": 30,
   "metadata": {
    "collapsed": false
   },
   "outputs": [],
   "source": [
    "# Y "
   ]
  },
  {
   "cell_type": "code",
   "execution_count": 31,
   "metadata": {
    "collapsed": false
   },
   "outputs": [],
   "source": [
    "X_Mul_Y = X.mul(Y, axis=0)"
   ]
  },
  {
   "cell_type": "code",
   "execution_count": 32,
   "metadata": {
    "collapsed": false
   },
   "outputs": [],
   "source": [
    "# X_Mul_Y"
   ]
  },
  {
   "cell_type": "code",
   "execution_count": 33,
   "metadata": {
    "collapsed": false
   },
   "outputs": [],
   "source": [
    "Sum_X_Mul_Y = X_Mul_Y.sum()"
   ]
  },
  {
   "cell_type": "code",
   "execution_count": 34,
   "metadata": {
    "collapsed": false
   },
   "outputs": [],
   "source": [
    "# Sum_X_Mul_Y"
   ]
  },
  {
   "cell_type": "code",
   "execution_count": 35,
   "metadata": {
    "collapsed": false
   },
   "outputs": [],
   "source": [
    "Target = Sum_X_Mul_Y - C_T_Dot_A"
   ]
  },
  {
   "cell_type": "code",
   "execution_count": 36,
   "metadata": {
    "collapsed": false
   },
   "outputs": [],
   "source": [
    "Target = Target.as_matrix()"
   ]
  },
  {
   "cell_type": "code",
   "execution_count": 37,
   "metadata": {
    "collapsed": false
   },
   "outputs": [],
   "source": [
    "# Target"
   ]
  },
  {
   "cell_type": "code",
   "execution_count": 38,
   "metadata": {
    "collapsed": false
   },
   "outputs": [],
   "source": [
    "X_T = X.transpose()"
   ]
  },
  {
   "cell_type": "code",
   "execution_count": 39,
   "metadata": {
    "collapsed": false
   },
   "outputs": [],
   "source": [
    "X_T_Dot_X = X_T.dot(X)"
   ]
  },
  {
   "cell_type": "code",
   "execution_count": 40,
   "metadata": {
    "collapsed": false
   },
   "outputs": [],
   "source": [
    "# X_T_Dot_X"
   ]
  },
  {
   "cell_type": "code",
   "execution_count": 41,
   "metadata": {
    "collapsed": true
   },
   "outputs": [],
   "source": [
    "Parameter = X_T_Dot_X.as_matrix()"
   ]
  },
  {
   "cell_type": "code",
   "execution_count": 42,
   "metadata": {
    "collapsed": false
   },
   "outputs": [],
   "source": [
    "# Parameter"
   ]
  },
  {
   "cell_type": "code",
   "execution_count": 43,
   "metadata": {
    "collapsed": false
   },
   "outputs": [],
   "source": [
    "w = np.linalg.solve(Parameter, Target)"
   ]
  },
  {
   "cell_type": "code",
   "execution_count": 44,
   "metadata": {
    "collapsed": false
   },
   "outputs": [],
   "source": [
    "# w"
   ]
  },
  {
   "cell_type": "markdown",
   "metadata": {
    "collapsed": true
   },
   "source": [
    "# Optimaization Algorithm"
   ]
  },
  {
   "cell_type": "code",
   "execution_count": 45,
   "metadata": {
    "collapsed": false
   },
   "outputs": [
    {
     "name": "stdout",
     "output_type": "stream",
     "text": [
      "iterations:1 delta_A:88.4836718229 delta_w:0.153399340747\n",
      "iterations:2 delta_A:7.03067575854 delta_w:0.00969215622228\n",
      "iterations:3 delta_A:0.579218891993 delta_w:0.000906727789654\n",
      "iterations:4 delta_A:0.0572591037624 delta_w:9.63008706301e-05\n",
      "[-0.2884248  -0.36043954  0.04194215 -0.12658938  0.02781907  0.04888246\n",
      " -0.26063814 -0.10031102  0.09761134  0.50331918  0.17211192  0.1367237\n",
      "  0.37504426 -0.18550922 -0.2117833   0.16474997 -0.39608793 -0.32707212\n",
      " -0.49751799  0.16206974  0.62664075 -0.06312156  0.01072981  0.18914725\n",
      " -0.5172251   0.25979526 -0.94348554  0.54246265 -0.01424099 -0.5602165\n",
      "  0.01761075  0.54287118 -0.01420257  0.33395628 -0.4082404   0.42405477\n",
      " -0.24999469 -0.25710865  0.39298689 -0.0128898  -0.13154522  0.3866475\n",
      "  0.64352381  0.40949528  0.29158691 -0.01960798 -0.0333494  -0.03437356\n",
      "  0.08624006  0.22994603 -0.13038038 -0.40682071  0.43291735  0.25125965\n",
      "  0.0546492  -0.60723173 -0.84607449 -0.55737892 -0.93903798 -0.27038564\n",
      "  0.20812801 -0.15645588 -0.35328779  0.02039406  0.30908829 -0.38082929\n",
      "  0.70722419  0.71523312  0.71277332  0.6246905   0.46992832  0.65769133\n",
      "  0.46382959  0.49913636  0.44789284  0.83370133  0.47512967  0.92665501\n",
      "  0.07276264  0.38734786  0.33678441  0.6776175   0.91494147  0.32300318\n",
      "  0.74607234  0.53193127  0.70956495  0.81629294  0.71742848  0.5440341\n",
      "  0.80027504  0.60010634  0.7521704   0.42413689  0.51529374  0.63577283\n",
      "  1.00959271  0.44034512  0.52456633  0.19764346  0.59896791  0.78391544\n",
      "  0.10465293  0.15364486  0.70217177  0.94218007  0.37070721  0.89199429\n",
      "  0.58570292  0.42997506  0.68825125  0.7602078   0.82025339  1.02147508\n",
      "  0.0889936   0.66024687]\n"
     ]
    }
   ],
   "source": [
    "iterations = 0\n",
    "delta_A = 1000\n",
    "delta_w = 1000\n",
    "bound = 0.0001\n",
    "\n",
    "while delta_A > bound and delta_w > bound :\n",
    "    iterations += 1\n",
    "    \n",
    "    C_Dot_W = C.dot(w) / parameter_g\n",
    "    \n",
    "    # update vector A\n",
    "    A_now = C_Dot_W.apply(S)\n",
    "    \n",
    "    C_T_Dot_A = 0.5 * C_T.dot(A_now)\n",
    "    Target = Sum_X_Mul_Y - C_T_Dot_A\n",
    "    Target = Target.as_matrix()\n",
    "    \n",
    "    # update vector w\n",
    "    w_now = np.linalg.solve(Parameter, Target)\n",
    "    \n",
    "    delta_A = np.linalg.norm(A_now-A)\n",
    "    delta_w = np.linalg.norm(w_now-w)\n",
    "    \n",
    "    A = A_now\n",
    "    w = w_now\n",
    "    \n",
    "    print 'iterations:' + str(iterations) + ' ' + \\\n",
    "            'delta_A:' + str(delta_A) + ' ' + \\\n",
    "            'delta_w:' + str(delta_w)  \n",
    "print w"
   ]
  },
  {
   "cell_type": "code",
   "execution_count": 46,
   "metadata": {
    "collapsed": true
   },
   "outputs": [],
   "source": [
    "test_features = Testing_data.ix[0:, 0:numOfColumns-1]\n",
    "test_flag = Testing_data.ix[0:, numOfColumns]"
   ]
  },
  {
   "cell_type": "code",
   "execution_count": 47,
   "metadata": {
    "collapsed": false
   },
   "outputs": [],
   "source": [
    "# Testing_data\n",
    "# test_features"
   ]
  },
  {
   "cell_type": "code",
   "execution_count": 48,
   "metadata": {
    "collapsed": false
   },
   "outputs": [],
   "source": [
    "result = np.dot(test_features, w)"
   ]
  },
  {
   "cell_type": "code",
   "execution_count": 49,
   "metadata": {
    "collapsed": false
   },
   "outputs": [
    {
     "name": "stdout",
     "output_type": "stream",
     "text": [
      "2.42742283459\n",
      "-2.40825894524\n"
     ]
    }
   ],
   "source": [
    "print result.max()\n",
    "print result.min()\n",
    "#print result\n",
    "predict_flag = result > 0"
   ]
  },
  {
   "cell_type": "code",
   "execution_count": 50,
   "metadata": {
    "collapsed": false
   },
   "outputs": [
    {
     "name": "stdout",
     "output_type": "stream",
     "text": [
      "True\n",
      "True == 1\n"
     ]
    }
   ],
   "source": [
    "len(predict_flag)\n",
    "print predict_flag[0]\n",
    "if predict_flag[0] == 1:\n",
    "    print \"True == 1\""
   ]
  },
  {
   "cell_type": "code",
   "execution_count": 51,
   "metadata": {
    "collapsed": false
   },
   "outputs": [
    {
     "name": "stdout",
     "output_type": "stream",
     "text": [
      "0.941017802553\n",
      "0.940684133916\n",
      "0.94\n",
      "0.940341942525\n"
     ]
    }
   ],
   "source": [
    "#test_flag\n",
    "\n",
    "true_positive = 0.0\n",
    "true_negative = 0.0\n",
    "false_positive = 0.0\n",
    "false_negative = 0.0\n",
    "\n",
    "for i in range( len(predict_flag) ):\n",
    "    if predict_flag[i] == True and test_flag[i] == 1 :\n",
    "        true_positive += 1\n",
    "    if predict_flag[i] == False and test_flag[i] == -1 :\n",
    "        true_negative += 1\n",
    "    if predict_flag[i] == True and test_flag[i] == -1 :\n",
    "        false_positive += 1\n",
    "    if predict_flag[i] == False and test_flag[i] == 1 :\n",
    "        false_negative += 1\n",
    "        \n",
    "#print true_positive\n",
    "#print true_negative\n",
    "#print false_positive\n",
    "#print false_negative\n",
    "\n",
    "ACC = (true_positive + true_negative) / (true_positive + true_negative + false_positive + false_negative)\n",
    "PRE = true_positive / (true_positive + false_positive)\n",
    "REC = true_positive / (true_positive + false_negative)\n",
    "F1 = 2*( PRE * REC) / (PRE + REC)\n",
    "print ACC\n",
    "print PRE\n",
    "print REC\n",
    "print F1"
   ]
  },
  {
   "cell_type": "code",
   "execution_count": 52,
   "metadata": {
    "collapsed": true
   },
   "outputs": [],
   "source": [
    "def Store_Model( Weights , File ) :\n",
    "    # Write Model's performance to the File\n",
    "    File.write(str(F1*100) + '%')\n",
    "    \n",
    "    # Write coefficients to the Filse \n",
    "    coefficients = Weights\n",
    "    for i in range( len(coefficients) ) :\n",
    "        # print i,coefficients[i]\n",
    "        File.write(',' + str(coefficients[i]) )"
   ]
  },
  {
   "cell_type": "code",
   "execution_count": 53,
   "metadata": {
    "collapsed": false
   },
   "outputs": [],
   "source": [
    "with open('./MODEL/MODEL_03.txt', 'w') as model :\n",
    "    Store_Model(w, model)"
   ]
  },
  {
   "cell_type": "code",
   "execution_count": null,
   "metadata": {
    "collapsed": true
   },
   "outputs": [],
   "source": []
  }
 ],
 "metadata": {
  "kernelspec": {
   "display_name": "Python 2",
   "language": "python",
   "name": "python2"
  },
  "language_info": {
   "codemirror_mode": {
    "name": "ipython",
    "version": 2
   },
   "file_extension": ".py",
   "mimetype": "text/x-python",
   "name": "python",
   "nbconvert_exporter": "python",
   "pygments_lexer": "ipython2",
   "version": "2.7.11"
  }
 },
 "nbformat": 4,
 "nbformat_minor": 0
}
