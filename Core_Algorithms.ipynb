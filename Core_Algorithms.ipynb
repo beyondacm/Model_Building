{
 "cells": [
  {
   "cell_type": "code",
   "execution_count": 1,
   "metadata": {
    "collapsed": true
   },
   "outputs": [],
   "source": [
    "import pandas as pd\n",
    "import numpy as np"
   ]
  },
  {
   "cell_type": "code",
   "execution_count": 2,
   "metadata": {
    "collapsed": false
   },
   "outputs": [],
   "source": [
    "# Before you doing this, you need to remove the first line(header) of the below file\n",
    "match_best = pd.read_csv('Algorithm/match_best.csv', header=None)\n",
    "match_second = pd.read_csv('Algorithm/match_second.csv', header=None)\n",
    "match_third = pd.read_csv('Algorithm/match_third.csv', header=None)\n",
    "raw_data = pd.read_csv('Algorithm/raw_data.csv', header=None)\n",
    "Training_data = pd.read_csv('Algorithm/training_data.csv', header=None)\n",
    "Testing_data = pd.read_csv('Algorithm/testing_data.csv', header=None)\n",
    "\n",
    "similar01_best = pd.read_csv('Algorithm/similar01_best.csv', header=None)\n",
    "similar01_second = pd.read_csv('Algorithm/similar01_second.csv', header=None)\n",
    "similar01_third = pd.read_csv('Algorithm/similar01_third.csv', header=None)\n",
    "\n",
    "similar02_best = pd.read_csv('Algorithm/similar02_best.csv', header=None)\n",
    "similar02_second = pd.read_csv('Algorithm/similar02_second.csv', header=None)\n",
    "similar02_third = pd.read_csv('Algorithm/similar02_third.csv', header=None)\n",
    "\n",
    "similar03_best = pd.read_csv('Algorithm/similar03_best.csv', header=None)\n",
    "similar03_second = pd.read_csv('Algorithm/similar03_second.csv', header=None)\n",
    "similar03_third = pd.read_csv('Algorithm/similar03_third.csv', header=None)"
   ]
  },
  {
   "cell_type": "code",
   "execution_count": 3,
   "metadata": {
    "collapsed": false
   },
   "outputs": [],
   "source": [
    "# match_best"
   ]
  },
  {
   "cell_type": "code",
   "execution_count": 4,
   "metadata": {
    "collapsed": false
   },
   "outputs": [],
   "source": [
    "# U = match_second - match_third\n",
    "U  = similar01_best - similar01_second \n",
    "U1 = similar02_best - similar02_second \n",
    "U2 = similar03_best - similar03_second\n",
    "U3 = similar01_best - similar02_best\n",
    "U4 = similar02_best - similar03_best\n",
    "U5 = similar01_third - similar01_best\n",
    "U6 = similar02_second - similar03_third"
   ]
  },
  {
   "cell_type": "code",
   "execution_count": 5,
   "metadata": {
    "collapsed": false
   },
   "outputs": [],
   "source": [
    "# U = U.append(U1)\n",
    "# U = U.append(U2)\n",
    "U = U.append(U3)\n",
    "# U = U.append(U4)\n",
    "U = U.append(U5)\n",
    "U = U.append(U6)"
   ]
  },
  {
   "cell_type": "code",
   "execution_count": 6,
   "metadata": {
    "collapsed": false
   },
   "outputs": [],
   "source": [
    "U = U.reset_index() # 5877 rows × 116 columns\n",
    "U = U.drop('index', axis=1)"
   ]
  },
  {
   "cell_type": "code",
   "execution_count": 7,
   "metadata": {
    "collapsed": false
   },
   "outputs": [],
   "source": [
    "# U 5877 rows × 116 columns"
   ]
  },
  {
   "cell_type": "code",
   "execution_count": 8,
   "metadata": {
    "collapsed": false
   },
   "outputs": [],
   "source": [
    "# U # 1959 rows × 116 columns\n",
    "numOfColumns = U.shape[1]"
   ]
  },
  {
   "cell_type": "code",
   "execution_count": 9,
   "metadata": {
    "collapsed": true
   },
   "outputs": [],
   "source": [
    "# INPORTANT : numOfColumns + 1 \n",
    "data = np.identity( numOfColumns + 1 )   # with topic features"
   ]
  },
  {
   "cell_type": "code",
   "execution_count": 10,
   "metadata": {
    "collapsed": false
   },
   "outputs": [],
   "source": [
    "# data"
   ]
  },
  {
   "cell_type": "code",
   "execution_count": 11,
   "metadata": {
    "collapsed": false
   },
   "outputs": [],
   "source": [
    "I = pd.DataFrame(data=data[1:,1:])"
   ]
  },
  {
   "cell_type": "code",
   "execution_count": 12,
   "metadata": {
    "collapsed": false
   },
   "outputs": [],
   "source": [
    "# I"
   ]
  },
  {
   "cell_type": "code",
   "execution_count": 13,
   "metadata": {
    "collapsed": true
   },
   "outputs": [],
   "source": [
    "parameter_l = 0.01\n",
    "parameter_u = 1.32\n",
    "# 0.01,1.32,0.04\n",
    "C = pd.concat([parameter_l * I, parameter_u * U],ignore_index=True)"
   ]
  },
  {
   "cell_type": "code",
   "execution_count": 14,
   "metadata": {
    "collapsed": false
   },
   "outputs": [],
   "source": [
    "# C"
   ]
  },
  {
   "cell_type": "code",
   "execution_count": 15,
   "metadata": {
    "collapsed": false
   },
   "outputs": [],
   "source": [
    "def S(x) :\n",
    "    if x > -1 and x < 1:\n",
    "        return x\n",
    "    elif x >= 1 :\n",
    "        return 1\n",
    "    else :\n",
    "        return -1\n",
    "\n",
    "# test the S(x)\n",
    "# print S(0)\n",
    "# print S(0.5)\n",
    "# print S(-0.7)\n",
    "# print S(-2)\n",
    "# print S(1.8)"
   ]
  },
  {
   "cell_type": "code",
   "execution_count": 16,
   "metadata": {
    "collapsed": true
   },
   "outputs": [],
   "source": [
    "random_num = np.random.uniform(-1, 1, size=numOfColumns)"
   ]
  },
  {
   "cell_type": "code",
   "execution_count": 17,
   "metadata": {
    "collapsed": false
   },
   "outputs": [],
   "source": [
    "w = pd.DataFrame(data=random_num)"
   ]
  },
  {
   "cell_type": "code",
   "execution_count": 18,
   "metadata": {
    "collapsed": false
   },
   "outputs": [],
   "source": [
    "# w # 116 rows × 1 columns"
   ]
  },
  {
   "cell_type": "code",
   "execution_count": 19,
   "metadata": {
    "collapsed": false
   },
   "outputs": [],
   "source": [
    "parameter_g = 0.04\n",
    "#0.01,1.32,0.04\n",
    "C_Dot_W = C.dot(w) / parameter_g"
   ]
  },
  {
   "cell_type": "code",
   "execution_count": 20,
   "metadata": {
    "collapsed": false
   },
   "outputs": [],
   "source": [
    "# C_Dot_W"
   ]
  },
  {
   "cell_type": "code",
   "execution_count": 21,
   "metadata": {
    "collapsed": false
   },
   "outputs": [],
   "source": [
    "A = C_Dot_W[0].apply(S)"
   ]
  },
  {
   "cell_type": "code",
   "execution_count": 22,
   "metadata": {
    "collapsed": false
   },
   "outputs": [],
   "source": [
    "# A"
   ]
  },
  {
   "cell_type": "code",
   "execution_count": 23,
   "metadata": {
    "collapsed": false
   },
   "outputs": [],
   "source": [
    "# C_T : C 's transpose\n",
    "C_T = C.transpose()"
   ]
  },
  {
   "cell_type": "code",
   "execution_count": 24,
   "metadata": {
    "collapsed": false
   },
   "outputs": [],
   "source": [
    "C_T_Dot_A = 0.5 * C_T.dot(A)"
   ]
  },
  {
   "cell_type": "code",
   "execution_count": 25,
   "metadata": {
    "collapsed": false
   },
   "outputs": [],
   "source": [
    "# C_T_Dot_A"
   ]
  },
  {
   "cell_type": "code",
   "execution_count": 26,
   "metadata": {
    "collapsed": false
   },
   "outputs": [],
   "source": [
    "# Training_data # 17583 rows × 118 columns"
   ]
  },
  {
   "cell_type": "code",
   "execution_count": 27,
   "metadata": {
    "collapsed": false
   },
   "outputs": [],
   "source": [
    "# with topic features\n",
    "X = Training_data.ix[0:, 0:numOfColumns-1]\n",
    "Y = Training_data.ix[0:, numOfColumns]"
   ]
  },
  {
   "cell_type": "code",
   "execution_count": 28,
   "metadata": {
    "collapsed": false
   },
   "outputs": [],
   "source": [
    "# X"
   ]
  },
  {
   "cell_type": "code",
   "execution_count": 29,
   "metadata": {
    "collapsed": false
   },
   "outputs": [],
   "source": [
    "# Y "
   ]
  },
  {
   "cell_type": "code",
   "execution_count": 30,
   "metadata": {
    "collapsed": false
   },
   "outputs": [],
   "source": [
    "X_Mul_Y = X.mul(Y, axis=0)"
   ]
  },
  {
   "cell_type": "code",
   "execution_count": 31,
   "metadata": {
    "collapsed": false
   },
   "outputs": [],
   "source": [
    "# X_Mul_Y"
   ]
  },
  {
   "cell_type": "code",
   "execution_count": 32,
   "metadata": {
    "collapsed": false
   },
   "outputs": [],
   "source": [
    "Sum_X_Mul_Y = X_Mul_Y.sum()"
   ]
  },
  {
   "cell_type": "code",
   "execution_count": 33,
   "metadata": {
    "collapsed": false
   },
   "outputs": [],
   "source": [
    "# Sum_X_Mul_Y"
   ]
  },
  {
   "cell_type": "code",
   "execution_count": 34,
   "metadata": {
    "collapsed": false
   },
   "outputs": [],
   "source": [
    "Target = Sum_X_Mul_Y - C_T_Dot_A"
   ]
  },
  {
   "cell_type": "code",
   "execution_count": 35,
   "metadata": {
    "collapsed": false
   },
   "outputs": [],
   "source": [
    "Target = Target.as_matrix()"
   ]
  },
  {
   "cell_type": "code",
   "execution_count": 36,
   "metadata": {
    "collapsed": false
   },
   "outputs": [
    {
     "data": {
      "text/plain": [
       "array([  1.59091355e+02,   3.67649159e+01,   3.88296434e+02,\n",
       "         1.59783049e+03,  -1.64221865e+02,   1.16803023e+01,\n",
       "         2.28732881e+03,   2.19261604e+03,   2.12497864e+03,\n",
       "         2.12591037e+03,   1.91700728e+03,   3.94862268e+04,\n",
       "         3.39130977e+04,  -2.61153548e+03,   9.26505324e+03,\n",
       "         9.87341364e+03,   5.75486584e+03,  -1.83073276e+03,\n",
       "        -5.39966589e+03,   2.60956763e+03,   4.66351813e+03,\n",
       "        -1.63766543e+03,  -2.65232899e+03,  -2.63306298e+03,\n",
       "        -8.71157674e+02,  -7.15411225e+03,   3.22598609e+03,\n",
       "        -4.66601586e+03,   4.99061814e+03,   1.40866415e+03,\n",
       "        -1.69100749e+03,  -1.27792533e+03,  -9.75075892e+03,\n",
       "         4.90953089e+03,   6.31200605e+03,  -6.56757597e+03,\n",
       "        -2.07475906e+03,   6.53604981e+02,  -3.41276464e+02,\n",
       "        -2.79135683e+03,  -2.04746869e+03,  -3.42708503e+02,\n",
       "         3.05850672e+03,  -1.51509662e+03,   7.01671035e+03,\n",
       "         1.82955281e+03,   6.08893570e+03,   5.85731978e+03,\n",
       "         3.09110648e+03,  -1.65228782e+03,  -4.30138868e+02,\n",
       "         1.03510212e+03,  -8.07707609e+03,   2.00241490e+03,\n",
       "        -8.69552054e+02,  -3.77600898e+03,   3.32330808e+03,\n",
       "        -5.24626952e+02,  -9.67989553e+03,   2.18816585e+03,\n",
       "        -7.88772662e+03,   1.81688228e+03,   1.24228543e+03,\n",
       "         2.13368741e+03,  -9.93894275e+03,  -1.86986475e+03,\n",
       "        -1.07088698e+03,  -8.06317604e+02,  -2.29145587e+03,\n",
       "        -7.01796558e+02,  -4.93495696e+02,  -1.52442020e+03,\n",
       "        -1.59634003e+03,  -2.27743268e+03,  -2.53934987e+03,\n",
       "        -1.85187942e+03,  -3.38610777e+03,  -2.40744437e+03,\n",
       "        -2.66160895e+03,  -4.95025344e+02,  -6.27092383e+02,\n",
       "        -1.32434030e+03,  -1.05054148e+03,  -8.40029282e+02,\n",
       "        -3.53427836e+01,  -1.39001751e+03,  -2.30688647e+03,\n",
       "        -8.08989289e+02,  -2.15750023e+02,  -1.18450139e+03,\n",
       "        -2.51152638e+02,  -6.66696833e+02,  -9.06361455e+02,\n",
       "        -2.75458197e+03,  -1.96668405e+02,  -1.38275588e+03,\n",
       "        -6.60753223e+02,  -1.97602332e+03,  -7.58677681e+01,\n",
       "        -1.92808799e+03,  -3.91439790e+02,  -1.80592337e+03,\n",
       "        -1.23062972e+03,  -8.69270302e+02,   1.54222836e+02,\n",
       "        -1.48514544e+03,   5.20935513e+02,  -1.63625492e+03,\n",
       "        -6.63424730e+02,  -5.14571091e+02,  -2.42376814e+03,\n",
       "        -5.11802706e+02,  -1.64793342e+03,  -2.62526088e+03,\n",
       "        -1.34677843e+03,  -1.77286549e+03])"
      ]
     },
     "execution_count": 36,
     "metadata": {},
     "output_type": "execute_result"
    }
   ],
   "source": [
    "Target"
   ]
  },
  {
   "cell_type": "code",
   "execution_count": 37,
   "metadata": {
    "collapsed": false
   },
   "outputs": [],
   "source": [
    "X_T = X.transpose()"
   ]
  },
  {
   "cell_type": "code",
   "execution_count": 38,
   "metadata": {
    "collapsed": false
   },
   "outputs": [],
   "source": [
    "# X"
   ]
  },
  {
   "cell_type": "code",
   "execution_count": 39,
   "metadata": {
    "collapsed": false
   },
   "outputs": [],
   "source": [
    "X_T_Dot_X = X_T.dot(X)"
   ]
  },
  {
   "cell_type": "code",
   "execution_count": 40,
   "metadata": {
    "collapsed": false
   },
   "outputs": [],
   "source": [
    "# X_T_Dot_X"
   ]
  },
  {
   "cell_type": "code",
   "execution_count": 41,
   "metadata": {
    "collapsed": true
   },
   "outputs": [],
   "source": [
    "Parameter = X_T_Dot_X.as_matrix()"
   ]
  },
  {
   "cell_type": "code",
   "execution_count": 42,
   "metadata": {
    "collapsed": false
   },
   "outputs": [],
   "source": [
    "# Parameter"
   ]
  },
  {
   "cell_type": "code",
   "execution_count": 43,
   "metadata": {
    "collapsed": false
   },
   "outputs": [],
   "source": [
    "w = np.linalg.solve(Parameter, Target)"
   ]
  },
  {
   "cell_type": "code",
   "execution_count": 44,
   "metadata": {
    "collapsed": false
   },
   "outputs": [
    {
     "data": {
      "text/plain": [
       "array([-0.1117785 ,  0.00173618,  0.00790041,  0.01123176, -0.07679574,\n",
       "       -0.00754902,  0.01691777, -0.02625912,  0.01848837,  0.01355444,\n",
       "        0.02668187,  0.20600112,  0.12680727, -0.12734784,  0.06399816,\n",
       "        0.04882731,  0.04038998, -0.01085313, -0.05902376, -0.01522123,\n",
       "        0.03183532, -0.02280793, -0.02795132, -0.01725533, -0.00293717,\n",
       "       -0.07629864,  0.01846314, -0.03267451,  0.10183762, -0.0303582 ,\n",
       "        0.01570603, -0.03046188, -0.08732466,  0.04643173,  0.05308311,\n",
       "       -0.06188583, -0.02776748,  0.01466274,  0.00025309, -0.00689453,\n",
       "       -0.03745389,  0.02159741,  0.00426024,  0.01649525,  0.06055234,\n",
       "        0.00693885,  0.05543801,  0.05548259,  0.01227776, -0.05467931,\n",
       "        0.00037942,  0.01334262, -0.14184074, -0.03416055, -0.03447573,\n",
       "       -0.02815413,  0.03083244, -0.02662715, -0.11448553,  0.01985667,\n",
       "       -0.05336616,  0.01701678,  0.07771233,  0.04855517, -0.07866458,\n",
       "       -0.01180201,  0.01591582, -0.01126484, -0.00639143,  0.00432989,\n",
       "       -0.00840712, -0.00280348, -0.00280387, -0.0057337 ,  0.02506948,\n",
       "       -0.02065614, -0.01584476, -0.00849665, -0.02415406, -0.00833793,\n",
       "        0.00916959,  0.00171208, -0.00032896, -0.0002333 ,  0.02934595,\n",
       "       -0.00050327, -0.03539467, -0.00283592, -0.00211243, -0.02224541,\n",
       "       -0.01919361, -0.00419932,  0.00957868, -0.05768792,  0.02566064,\n",
       "       -0.02437863,  0.00392824,  0.00205007,  0.052821  ,  0.01242323,\n",
       "        0.02369821, -0.00274883,  0.01141275,  0.02407799, -0.00496089,\n",
       "       -0.01245608, -0.02304399,  0.00253886, -0.00834008, -0.00066017,\n",
       "       -0.02437915,  0.02592943,  0.0043235 , -0.02178386, -0.02122473,\n",
       "        0.0286595 ])"
      ]
     },
     "execution_count": 44,
     "metadata": {},
     "output_type": "execute_result"
    }
   ],
   "source": [
    "w"
   ]
  },
  {
   "cell_type": "markdown",
   "metadata": {
    "collapsed": true
   },
   "source": [
    "# Optimaization Algorithm"
   ]
  },
  {
   "cell_type": "code",
   "execution_count": 45,
   "metadata": {
    "collapsed": false
   },
   "outputs": [
    {
     "name": "stdout",
     "output_type": "stream",
     "text": [
      "iterations:1 delta_A:132.890276216 delta_w:0.108549305766\n",
      "iterations:2 delta_A:43.0328718092 delta_w:0.0233948284749\n",
      "iterations:3 delta_A:15.6329295632 delta_w:0.00690060870381\n",
      "iterations:4 delta_A:5.67465178665 delta_w:0.00239459573701\n",
      "iterations:5 delta_A:2.2031856747 delta_w:0.000963016170433\n",
      "iterations:6 delta_A:0.923485389386 delta_w:0.000413489408379\n",
      "iterations:7 delta_A:0.406528708392 delta_w:0.000184059121517\n",
      "iterations:8 delta_A:0.18380230781 delta_w:8.47696373149e-05\n",
      "[-0.09041714  0.00289954  0.01273929 -0.00270814 -0.06062897  0.0012211\n",
      " -0.00151561 -0.03971846  0.00765696  0.04503135  0.01788767  0.18883011\n",
      "  0.11569789 -0.11281279  0.04797693  0.04942322  0.03393779 -0.0129661\n",
      " -0.05911903 -0.00902413  0.03487935 -0.01481584 -0.02172821 -0.01350269\n",
      " -0.00483131 -0.07633226  0.02596377 -0.02473642  0.10147816 -0.02303762\n",
      "  0.02502386 -0.02537419 -0.07376557  0.03538545  0.05088656 -0.06910297\n",
      " -0.01517739  0.0114508   0.00438863 -0.00359194 -0.03763638  0.0170373\n",
      "  0.00743084  0.01492432  0.05668008  0.01572995  0.05139525  0.04655869\n",
      "  0.00592881 -0.05242146 -0.00820695  0.01164283 -0.13119745 -0.02903272\n",
      " -0.0331698  -0.02243529  0.0338018  -0.02910548 -0.1118319   0.02562929\n",
      " -0.05915462  0.01340418  0.05985161  0.0425282  -0.07853128 -0.01309526\n",
      "  0.01408648 -0.00608862 -0.0029957   0.00393288 -0.01671503 -0.00044016\n",
      " -0.0098485   0.00029903  0.03550692 -0.01888963 -0.00229049 -0.01792593\n",
      " -0.01038286 -0.015589   -0.00021257  0.00520938  0.00271274 -0.00827993\n",
      "  0.02537673 -0.01255261 -0.02550903  0.00059047 -0.01504581 -0.02745027\n",
      " -0.02415887  0.00097781  0.00166439 -0.04247786  0.02509225 -0.01755496\n",
      "  0.00949147  0.0091732   0.04852068  0.0222114   0.01188362  0.00470139\n",
      "  0.00270233  0.01820487 -0.01676581 -0.00547615 -0.0289944   0.00285344\n",
      " -0.00349491  0.00830266 -0.01775872  0.01976922  0.00270421 -0.01032399\n",
      " -0.01828333  0.02642515]\n"
     ]
    }
   ],
   "source": [
    "iterations = 0\n",
    "delta_A = 1000\n",
    "delta_w = 1000\n",
    "bound = 0.0001\n",
    "\n",
    "while delta_A > bound and delta_w > bound :\n",
    "    iterations += 1\n",
    "    \n",
    "    C_Dot_W = C.dot(w) / parameter_g\n",
    "    \n",
    "    # update vector A\n",
    "    A_now = C_Dot_W.apply(S)\n",
    "    \n",
    "    C_T_Dot_A = 0.5 * C_T.dot(A_now)\n",
    "    Target = Sum_X_Mul_Y - C_T_Dot_A\n",
    "    Target = Target.as_matrix()\n",
    "    \n",
    "    # update vector w\n",
    "    w_now = np.linalg.solve(Parameter, Target)\n",
    "    \n",
    "    delta_A = np.linalg.norm(A_now-A)\n",
    "    delta_w = np.linalg.norm(w_now-w)\n",
    "    \n",
    "    A = A_now\n",
    "    w = w_now\n",
    "    \n",
    "    print 'iterations:' + str(iterations) + ' ' + \\\n",
    "            'delta_A:' + str(delta_A) + ' ' + \\\n",
    "            'delta_w:' + str(delta_w)  \n",
    "print w"
   ]
  },
  {
   "cell_type": "code",
   "execution_count": 46,
   "metadata": {
    "collapsed": true
   },
   "outputs": [],
   "source": [
    "test_features = Testing_data.ix[0:, 0:numOfColumns-1]\n",
    "test_flag = Testing_data.ix[0:, numOfColumns]"
   ]
  },
  {
   "cell_type": "code",
   "execution_count": 47,
   "metadata": {
    "collapsed": false
   },
   "outputs": [],
   "source": [
    "# Testing_data\n",
    "# test_features"
   ]
  },
  {
   "cell_type": "code",
   "execution_count": 48,
   "metadata": {
    "collapsed": false
   },
   "outputs": [],
   "source": [
    "result = np.dot(test_features, w)"
   ]
  },
  {
   "cell_type": "code",
   "execution_count": 49,
   "metadata": {
    "collapsed": false
   },
   "outputs": [
    {
     "name": "stdout",
     "output_type": "stream",
     "text": [
      "2.14033306495\n",
      "-2.33928732817\n"
     ]
    }
   ],
   "source": [
    "print result.max()\n",
    "print result.min()\n",
    "#print result\n",
    "predict_flag = result > 0"
   ]
  },
  {
   "cell_type": "code",
   "execution_count": 50,
   "metadata": {
    "collapsed": false
   },
   "outputs": [
    {
     "name": "stdout",
     "output_type": "stream",
     "text": [
      "True\n",
      "True == 1\n"
     ]
    }
   ],
   "source": [
    "len(predict_flag)\n",
    "print predict_flag[0]\n",
    "if predict_flag[0] == 1:\n",
    "    print \"True == 1\""
   ]
  },
  {
   "cell_type": "code",
   "execution_count": 51,
   "metadata": {
    "collapsed": false
   },
   "outputs": [
    {
     "name": "stdout",
     "output_type": "stream",
     "text": [
      "0.837798957022\n",
      "0.838958180484\n",
      "0.831636363636\n",
      "0.835281227173\n"
     ]
    }
   ],
   "source": [
    "#test_flag\n",
    "\n",
    "true_positive = 0.0\n",
    "true_negative = 0.0\n",
    "false_positive = 0.0\n",
    "false_negative = 0.0\n",
    "\n",
    "for i in range( len(predict_flag) ):\n",
    "    if predict_flag[i] == True and test_flag[i] == 1 :\n",
    "        true_positive += 1\n",
    "    if predict_flag[i] == False and test_flag[i] == -1 :\n",
    "        true_negative += 1\n",
    "    if predict_flag[i] == True and test_flag[i] == -1 :\n",
    "        false_positive += 1\n",
    "    if predict_flag[i] == False and test_flag[i] == 1 :\n",
    "        false_negative += 1\n",
    "        \n",
    "#print true_positive\n",
    "#print true_negative\n",
    "#print false_positive\n",
    "#print false_negative\n",
    "\n",
    "ACC = (true_positive + true_negative) / (true_positive + true_negative + false_positive + false_negative)\n",
    "PRE = true_positive / (true_positive + false_positive)\n",
    "REC = true_positive / (true_positive + false_negative)\n",
    "F1 = 2*( PRE * REC) / (PRE + REC)\n",
    "print ACC\n",
    "print PRE\n",
    "print REC\n",
    "print F1"
   ]
  },
  {
   "cell_type": "code",
   "execution_count": 53,
   "metadata": {
    "collapsed": true
   },
   "outputs": [],
   "source": [
    "def Store_Model( Weights , File ) :\n",
    "    # Write Model's performance to the File\n",
    "    File.write(str(F1*100) + '%')\n",
    "    \n",
    "    # Write coefficients to the Filse \n",
    "    coefficients = Weights\n",
    "    for i in range( len(coefficients) ) :\n",
    "        # print i,coefficients[i]\n",
    "        File.write(',' + str(coefficients[i]) )"
   ]
  },
  {
   "cell_type": "code",
   "execution_count": 54,
   "metadata": {
    "collapsed": false
   },
   "outputs": [],
   "source": [
    "with open('./MODEL/MODEL_17.txt', 'w') as model :\n",
    "    Store_Model(w, model)"
   ]
  },
  {
   "cell_type": "code",
   "execution_count": null,
   "metadata": {
    "collapsed": true
   },
   "outputs": [],
   "source": []
  }
 ],
 "metadata": {
  "kernelspec": {
   "display_name": "Python 2",
   "language": "python",
   "name": "python2"
  },
  "language_info": {
   "codemirror_mode": {
    "name": "ipython",
    "version": 2
   },
   "file_extension": ".py",
   "mimetype": "text/x-python",
   "name": "python",
   "nbconvert_exporter": "python",
   "pygments_lexer": "ipython2",
   "version": "2.7.11"
  }
 },
 "nbformat": 4,
 "nbformat_minor": 0
}
