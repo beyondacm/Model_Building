{
 "cells": [
  {
   "cell_type": "code",
   "execution_count": 1,
   "metadata": {
    "collapsed": true
   },
   "outputs": [],
   "source": [
    "import pandas as pd\n",
    "import numpy as np"
   ]
  },
  {
   "cell_type": "code",
   "execution_count": 2,
   "metadata": {
    "collapsed": false
   },
   "outputs": [],
   "source": [
    "# Before you doing this, you need to remove the first line(header) of the below file\n",
    "match_best = pd.read_csv('Algorithm/match_best.csv', header=None)\n",
    "match_second = pd.read_csv('Algorithm/match_second.csv', header=None)\n",
    "match_third = pd.read_csv('Algorithm/match_third.csv', header=None)\n",
    "raw_data = pd.read_csv('Algorithm/raw_data.csv', header=None)\n",
    "Training_data = pd.read_csv('Algorithm/training_data.csv', header=None)\n",
    "Testing_data = pd.read_csv('Algorithm/testing_data.csv', header=None)\n",
    "\n",
    "similar01_best = pd.read_csv('Algorithm/similar01_best.csv', header=None)\n",
    "similar01_second = pd.read_csv('Algorithm/similar01_second.csv', header=None)\n",
    "similar01_third = pd.read_csv('Algorithm/similar01_third.csv', header=None)\n",
    "\n",
    "similar02_best = pd.read_csv('Algorithm/similar02_best.csv', header=None)\n",
    "similar02_second = pd.read_csv('Algorithm/similar02_second.csv', header=None)\n",
    "similar02_third = pd.read_csv('Algorithm/similar02_third.csv', header=None)\n",
    "\n",
    "similar03_best = pd.read_csv('Algorithm/similar03_best.csv', header=None)\n",
    "similar03_second = pd.read_csv('Algorithm/similar03_second.csv', header=None)\n",
    "similar03_third = pd.read_csv('Algorithm/similar03_third.csv', header=None)"
   ]
  },
  {
   "cell_type": "code",
   "execution_count": 3,
   "metadata": {
    "collapsed": false
   },
   "outputs": [],
   "source": [
    "# match_best"
   ]
  },
  {
   "cell_type": "code",
   "execution_count": 4,
   "metadata": {
    "collapsed": false
   },
   "outputs": [],
   "source": [
    "# U = match_second - match_third\n",
    "U  = similar01_best - similar01_second \n",
    "U1 = similar02_best - similar02_second \n",
    "U2 = similar03_best - similar03_second\n",
    "U3 = similar01_best - similar02_best\n",
    "U4 = similar02_best - similar03_best\n",
    "U5 = similar01_third - similar01_best\n",
    "U6 = similar02_second - similar03_third"
   ]
  },
  {
   "cell_type": "code",
   "execution_count": 5,
   "metadata": {
    "collapsed": false
   },
   "outputs": [],
   "source": [
    "# U = U.append(U1)\n",
    "# U = U.append(U2)\n",
    "U = U.append(U3)\n",
    "# U = U.append(U4)\n",
    "U = U.append(U5)\n",
    "U = U.append(U6)"
   ]
  },
  {
   "cell_type": "code",
   "execution_count": 6,
   "metadata": {
    "collapsed": false
   },
   "outputs": [],
   "source": [
    "U = U.reset_index() # 5877 rows × 116 columns\n",
    "U = U.drop('index', axis=1)"
   ]
  },
  {
   "cell_type": "code",
   "execution_count": 7,
   "metadata": {
    "collapsed": false
   },
   "outputs": [],
   "source": [
    "# U 5877 rows × 116 columns"
   ]
  },
  {
   "cell_type": "code",
   "execution_count": 8,
   "metadata": {
    "collapsed": false
   },
   "outputs": [],
   "source": [
    "# U # 1959 rows × 116 columns\n",
    "numOfColumns = U.shape[1]"
   ]
  },
  {
   "cell_type": "code",
   "execution_count": 9,
   "metadata": {
    "collapsed": true
   },
   "outputs": [],
   "source": [
    "# INPORTANT : numOfColumns + 1 \n",
    "data = np.identity( numOfColumns + 1 )   # with topic features"
   ]
  },
  {
   "cell_type": "code",
   "execution_count": 10,
   "metadata": {
    "collapsed": false
   },
   "outputs": [],
   "source": [
    "# data"
   ]
  },
  {
   "cell_type": "code",
   "execution_count": 11,
   "metadata": {
    "collapsed": false
   },
   "outputs": [],
   "source": [
    "I = pd.DataFrame(data=data[1:,1:])"
   ]
  },
  {
   "cell_type": "code",
   "execution_count": 12,
   "metadata": {
    "collapsed": false
   },
   "outputs": [],
   "source": [
    "# I"
   ]
  },
  {
   "cell_type": "code",
   "execution_count": 13,
   "metadata": {
    "collapsed": true
   },
   "outputs": [],
   "source": [
    "parameter_l = 0.01\n",
    "parameter_u = 1.32\n",
    "# 0.01,1.32,0.04\n",
    "C = pd.concat([parameter_l * I, parameter_u * U],ignore_index=True)"
   ]
  },
  {
   "cell_type": "code",
   "execution_count": 14,
   "metadata": {
    "collapsed": false
   },
   "outputs": [],
   "source": [
    "# C"
   ]
  },
  {
   "cell_type": "code",
   "execution_count": 15,
   "metadata": {
    "collapsed": false
   },
   "outputs": [],
   "source": [
    "def S(x) :\n",
    "    if x > -1 and x < 1:\n",
    "        return x\n",
    "    elif x >= 1 :\n",
    "        return 1\n",
    "    else :\n",
    "        return -1\n",
    "\n",
    "# test the S(x)\n",
    "# print S(0)\n",
    "# print S(0.5)\n",
    "# print S(-0.7)\n",
    "# print S(-2)\n",
    "# print S(1.8)"
   ]
  },
  {
   "cell_type": "code",
   "execution_count": 16,
   "metadata": {
    "collapsed": true
   },
   "outputs": [],
   "source": [
    "random_num = np.random.uniform(-1, 1, size=numOfColumns)"
   ]
  },
  {
   "cell_type": "code",
   "execution_count": 17,
   "metadata": {
    "collapsed": false
   },
   "outputs": [],
   "source": [
    "w = pd.DataFrame(data=random_num)"
   ]
  },
  {
   "cell_type": "code",
   "execution_count": 18,
   "metadata": {
    "collapsed": false
   },
   "outputs": [],
   "source": [
    "# w # 116 rows × 1 columns"
   ]
  },
  {
   "cell_type": "code",
   "execution_count": 19,
   "metadata": {
    "collapsed": false
   },
   "outputs": [],
   "source": [
    "parameter_g = 0.04\n",
    "#0.01,1.32,0.04\n",
    "C_Dot_W = C.dot(w) / parameter_g"
   ]
  },
  {
   "cell_type": "code",
   "execution_count": 20,
   "metadata": {
    "collapsed": false
   },
   "outputs": [],
   "source": [
    "# C_Dot_W"
   ]
  },
  {
   "cell_type": "code",
   "execution_count": 21,
   "metadata": {
    "collapsed": false
   },
   "outputs": [],
   "source": [
    "A = C_Dot_W[0].apply(S)"
   ]
  },
  {
   "cell_type": "code",
   "execution_count": 22,
   "metadata": {
    "collapsed": false
   },
   "outputs": [],
   "source": [
    "# A"
   ]
  },
  {
   "cell_type": "code",
   "execution_count": 23,
   "metadata": {
    "collapsed": false
   },
   "outputs": [],
   "source": [
    "# C_T : C 's transpose\n",
    "C_T = C.transpose()"
   ]
  },
  {
   "cell_type": "code",
   "execution_count": 24,
   "metadata": {
    "collapsed": false
   },
   "outputs": [],
   "source": [
    "C_T_Dot_A = 0.5 * C_T.dot(A)"
   ]
  },
  {
   "cell_type": "code",
   "execution_count": 25,
   "metadata": {
    "collapsed": false
   },
   "outputs": [],
   "source": [
    "# C_T_Dot_A"
   ]
  },
  {
   "cell_type": "code",
   "execution_count": 26,
   "metadata": {
    "collapsed": false
   },
   "outputs": [],
   "source": [
    "# Training_data # 17583 rows × 118 columns"
   ]
  },
  {
   "cell_type": "code",
   "execution_count": 27,
   "metadata": {
    "collapsed": false
   },
   "outputs": [],
   "source": [
    "# with topic features\n",
    "X = Training_data.ix[0:, 0:numOfColumns-1]\n",
    "Y = Training_data.ix[0:, numOfColumns]"
   ]
  },
  {
   "cell_type": "code",
   "execution_count": 28,
   "metadata": {
    "collapsed": false
   },
   "outputs": [],
   "source": [
    "# X"
   ]
  },
  {
   "cell_type": "code",
   "execution_count": 29,
   "metadata": {
    "collapsed": false
   },
   "outputs": [],
   "source": [
    "# Y "
   ]
  },
  {
   "cell_type": "code",
   "execution_count": 30,
   "metadata": {
    "collapsed": false
   },
   "outputs": [],
   "source": [
    "X_Mul_Y = X.mul(Y, axis=0)"
   ]
  },
  {
   "cell_type": "code",
   "execution_count": 31,
   "metadata": {
    "collapsed": false
   },
   "outputs": [],
   "source": [
    "# X_Mul_Y"
   ]
  },
  {
   "cell_type": "code",
   "execution_count": 32,
   "metadata": {
    "collapsed": false
   },
   "outputs": [],
   "source": [
    "Sum_X_Mul_Y = X_Mul_Y.sum()"
   ]
  },
  {
   "cell_type": "code",
   "execution_count": 33,
   "metadata": {
    "collapsed": false
   },
   "outputs": [],
   "source": [
    "# Sum_X_Mul_Y"
   ]
  },
  {
   "cell_type": "code",
   "execution_count": 34,
   "metadata": {
    "collapsed": false
   },
   "outputs": [],
   "source": [
    "Target = Sum_X_Mul_Y - C_T_Dot_A"
   ]
  },
  {
   "cell_type": "code",
   "execution_count": 35,
   "metadata": {
    "collapsed": false
   },
   "outputs": [],
   "source": [
    "Target = Target.as_matrix()"
   ]
  },
  {
   "cell_type": "code",
   "execution_count": 36,
   "metadata": {
    "collapsed": false
   },
   "outputs": [
    {
     "data": {
      "text/plain": [
       "array([  2.66426527e+03,   7.61284006e+02,   7.13818890e+02,\n",
       "         1.30677645e+03,   2.47106707e+03,   2.01398613e+03,\n",
       "         2.22271902e+03,   2.05409006e+03,   1.86747259e+03,\n",
       "         2.14546081e+03,   1.90286371e+03,   4.03070683e+04,\n",
       "         3.48722249e+04,   9.80270590e+01,   1.10182867e+04,\n",
       "         1.20177556e+04,  -1.34234633e+03,  -4.45928936e+03,\n",
       "         3.94509436e+02,   3.23935800e+03,   9.10771761e+02,\n",
       "        -1.95298520e+03,   1.43307181e+03,   1.22920848e+03,\n",
       "        -2.95836812e+03,   1.25124555e+03,  -1.47722165e+03,\n",
       "        -3.39266170e+03,   7.70331499e+03,  -2.45001248e+03,\n",
       "        -4.45391434e+01,  -1.10563806e+03,  -1.87413274e+02,\n",
       "         3.13990902e+01,  -2.55458769e+03,   2.07647827e+03,\n",
       "        -2.83706648e+03,   9.83745962e+01,  -1.18352579e+03,\n",
       "        -5.81938778e+03,   1.31852483e+02,   1.45559839e+03,\n",
       "        -7.23833645e+02,  -8.17155683e+00,   1.25586290e+03,\n",
       "         2.02206366e+03,  -3.64484426e+03,   3.10730832e+03,\n",
       "         1.48474641e+03,   7.05923903e+02,   4.00295013e+02,\n",
       "         9.02770755e+02,   5.66540185e+03,  -1.49149990e+03,\n",
       "         6.24912357e+01,   1.37792586e+03,  -3.52262581e+02,\n",
       "         6.61499305e+02,  -2.58984467e+03,   5.19734763e+02,\n",
       "        -4.96350488e+03,  -1.31294589e+03,  -4.90836511e+03,\n",
       "        -2.39490550e+03,  -1.43966400e+03,  -3.83013202e+03,\n",
       "        -8.48909852e+02,  -1.36876498e+03,  -1.48310822e+03,\n",
       "        -1.65369311e+03,  -5.46390230e+02,  -2.01061788e+03,\n",
       "         8.36072681e+02,  -2.69096369e+02,  -1.33510737e+03,\n",
       "        -1.89885166e+03,  -1.11415701e+03,  -2.09824308e+03,\n",
       "        -1.40812327e+03,  -1.21949343e+03,  -2.75726557e+03,\n",
       "        -2.10788327e+03,  -3.25579617e+03,  -6.40608112e+02,\n",
       "        -1.96685859e+03,  -3.33015473e+03,  -1.71593307e+03,\n",
       "        -1.41917912e+03,  -9.17455666e+02,  -1.60949240e+03,\n",
       "        -1.07955828e+03,  -2.57122727e+03,  -1.95530541e+03,\n",
       "        -1.61667937e+03,  -5.15536164e+02,   6.47529943e+02,\n",
       "        -1.52936562e+03,  -2.30305198e+03,  -2.32728794e+03,\n",
       "        -1.69035270e+03,  -2.07827200e+03,  -1.68108794e+03,\n",
       "        -1.09319154e+03,  -3.58660773e+03,  -1.30035992e+03,\n",
       "        -1.17772751e+03,  -1.55533255e+03,  -9.11554935e+02,\n",
       "        -2.50232260e+03,   4.76156103e+02,  -5.16326757e+02,\n",
       "        -1.90539744e+03,  -5.55612727e+02,  -2.61798870e+03,\n",
       "        -1.85117185e+03,  -1.49063906e+03])"
      ]
     },
     "execution_count": 36,
     "metadata": {},
     "output_type": "execute_result"
    }
   ],
   "source": [
    "Target"
   ]
  },
  {
   "cell_type": "code",
   "execution_count": 37,
   "metadata": {
    "collapsed": false
   },
   "outputs": [],
   "source": [
    "X_T = X.transpose()"
   ]
  },
  {
   "cell_type": "code",
   "execution_count": 38,
   "metadata": {
    "collapsed": false
   },
   "outputs": [],
   "source": [
    "# X"
   ]
  },
  {
   "cell_type": "code",
   "execution_count": 39,
   "metadata": {
    "collapsed": false
   },
   "outputs": [],
   "source": [
    "X_T_Dot_X = X_T.dot(X)"
   ]
  },
  {
   "cell_type": "code",
   "execution_count": 40,
   "metadata": {
    "collapsed": false
   },
   "outputs": [],
   "source": [
    "# X_T_Dot_X"
   ]
  },
  {
   "cell_type": "code",
   "execution_count": 41,
   "metadata": {
    "collapsed": true
   },
   "outputs": [],
   "source": [
    "Parameter = X_T_Dot_X.as_matrix()"
   ]
  },
  {
   "cell_type": "code",
   "execution_count": 42,
   "metadata": {
    "collapsed": false
   },
   "outputs": [],
   "source": [
    "# Parameter"
   ]
  },
  {
   "cell_type": "code",
   "execution_count": 43,
   "metadata": {
    "collapsed": false
   },
   "outputs": [],
   "source": [
    "w = np.linalg.solve(Parameter, Target)"
   ]
  },
  {
   "cell_type": "code",
   "execution_count": 44,
   "metadata": {
    "collapsed": false
   },
   "outputs": [
    {
     "data": {
      "text/plain": [
       "array([-0.12585257, -0.00062353,  0.0135995 ,  0.00589639, -0.02284962,\n",
       "        0.00986556,  0.02380394, -0.00293562, -0.00610833, -0.01214191,\n",
       "        0.02816039,  0.22912249,  0.13973986, -0.14482514,  0.05887308,\n",
       "        0.05500679,  0.00670394, -0.05878544,  0.00329083,  0.04092005,\n",
       "        0.0176933 , -0.03919961,  0.03831153,  0.00943804, -0.0398778 ,\n",
       "        0.03396906, -0.00500183, -0.09362008,  0.11371662, -0.0349498 ,\n",
       "        0.02124854, -0.00810669,  0.00560856,  0.01255528, -0.04330864,\n",
       "        0.02567309, -0.05292714,  0.00099863, -0.04225534, -0.05096476,\n",
       "       -0.00400858, -0.02903488, -0.01170155, -0.02572713,  0.00158669,\n",
       "        0.01410843, -0.03717434,  0.05775318,  0.04156082,  0.00064977,\n",
       "        0.00980189,  0.05448597,  0.08462365, -0.00125973,  0.02691249,\n",
       "        0.01518131, -0.01924753,  0.02447212, -0.02329051,  0.00940473,\n",
       "       -0.06808906, -0.04407135, -0.05275332, -0.05999558, -0.01802719,\n",
       "       -0.07146907, -0.00404967, -0.00044132,  0.02807527, -0.01630813,\n",
       "       -0.00791425, -0.01421409,  0.0401174 , -0.01798224, -0.03171877,\n",
       "       -0.0148795 ,  0.01837483,  0.01299166, -0.01867219,  0.00659589,\n",
       "       -0.03565869, -0.02752638, -0.05398263,  0.02176359, -0.0055327 ,\n",
       "       -0.00514394,  0.00190523,  0.00290767, -0.00549908,  0.01271968,\n",
       "       -0.01418586, -0.03395377,  0.01022155,  0.00171102,  0.03049817,\n",
       "        0.00557304,  0.01173301, -0.02530418,  0.00133843, -0.00712285,\n",
       "       -0.02904113, -0.02463452, -0.0072839 , -0.10621639,  0.00260893,\n",
       "       -0.01012525,  0.01228433,  0.00124314, -0.02363337, -0.01548983,\n",
       "        0.03043963,  0.00205194,  0.03554512, -0.01748569, -0.01109032,\n",
       "       -0.00786568])"
      ]
     },
     "execution_count": 44,
     "metadata": {},
     "output_type": "execute_result"
    }
   ],
   "source": [
    "w"
   ]
  },
  {
   "cell_type": "markdown",
   "metadata": {
    "collapsed": true
   },
   "source": [
    "# Optimaization Algorithm"
   ]
  },
  {
   "cell_type": "code",
   "execution_count": 45,
   "metadata": {
    "collapsed": false
   },
   "outputs": [
    {
     "name": "stdout",
     "output_type": "stream",
     "text": [
      "iterations:1 delta_A:134.402735388 delta_w:0.102748290919\n",
      "iterations:2 delta_A:44.1844626735 delta_w:0.0241460485501\n",
      "iterations:3 delta_A:16.2240284431 delta_w:0.00734555382223\n",
      "iterations:4 delta_A:5.92476433367 delta_w:0.00289245461758\n",
      "iterations:5 delta_A:2.40616273796 delta_w:0.00125008176092\n",
      "iterations:6 delta_A:1.05393918642 delta_w:0.000566249669046\n",
      "iterations:7 delta_A:0.480119260522 delta_w:0.000263823159174\n",
      "iterations:8 delta_A:0.224135943737 delta_w:0.000124864284045\n",
      "iterations:9 delta_A:0.106592330104 delta_w:5.99977426775e-05\n",
      "[ -1.22043619e-01  -4.74504463e-03   1.46944424e-02  -2.37648746e-03\n",
      "  -3.16011270e-02  -1.41171060e-03   8.22560625e-03  -1.66348068e-02\n",
      "  -3.70747541e-03  -3.46676355e-03   3.06379437e-02   2.12790377e-01\n",
      "   1.31639445e-01  -1.42908722e-01   4.84151791e-02   4.00032634e-02\n",
      "  -1.20195776e-03  -4.82626269e-02   5.33610913e-03   4.33172363e-02\n",
      "   1.86054223e-02  -3.06792485e-02   3.51849054e-02   8.24256921e-03\n",
      "  -4.55584010e-02   3.06752753e-02  -9.31177272e-03  -8.56611281e-02\n",
      "   9.83841493e-02  -2.04964799e-02   1.92593700e-02  -1.67226102e-02\n",
      "   1.10568496e-03   5.85567553e-03  -3.75677544e-02   2.13577630e-02\n",
      "  -5.20878503e-02   1.00613162e-02  -3.98667315e-02  -5.64571522e-02\n",
      "   2.26970465e-03  -2.06373926e-02  -1.19941895e-02  -1.63960585e-02\n",
      "  -3.13821297e-03   1.33152757e-02  -3.16531077e-02   5.07554699e-02\n",
      "   3.14417493e-02   1.18473161e-02   1.52318294e-02   4.18993648e-02\n",
      "   6.47959263e-02  -1.29649392e-02   2.84754281e-02   9.65550740e-03\n",
      "  -2.33530504e-02   1.20119781e-02  -1.07534087e-02   8.50954143e-03\n",
      "  -5.14566672e-02  -3.56377033e-02  -5.52446934e-02  -4.62578917e-02\n",
      "  -8.80813742e-03  -5.67846421e-02   2.21436813e-03  -2.80637307e-03\n",
      "   1.54169886e-02  -9.93749216e-03  -1.78706146e-02  -1.35525847e-02\n",
      "   2.76340062e-02  -1.65012128e-02  -1.91005711e-02  -1.95645276e-02\n",
      "   1.32557977e-02   9.56385712e-03  -1.94657483e-02   2.29134279e-03\n",
      "  -2.72964806e-02  -2.59518962e-02  -4.12717874e-02   1.03045362e-02\n",
      "  -6.43644588e-03   2.06469270e-03   4.96429178e-03  -1.09478069e-04\n",
      "  -6.99222519e-03   1.54055360e-02  -2.24104393e-02  -3.16724074e-02\n",
      "   1.42622487e-02  -1.71630064e-03   2.49727808e-02   4.99107758e-03\n",
      "   1.66285897e-02  -2.64713426e-02   3.38041521e-03  -8.33226394e-03\n",
      "  -2.04350904e-02  -2.44337938e-02  -1.19399718e-02  -8.86609162e-02\n",
      "   6.49386378e-03  -1.72904125e-02   7.23077590e-03   6.49517490e-03\n",
      "  -1.88209438e-02  -1.56310547e-02   1.75123088e-02   4.91416754e-03\n",
      "   2.11396399e-02  -9.47707540e-03  -1.99520807e-02  -4.66773561e-03]\n"
     ]
    }
   ],
   "source": [
    "iterations = 0\n",
    "delta_A = 1000\n",
    "delta_w = 1000\n",
    "bound = 0.0001\n",
    "\n",
    "while delta_A > bound and delta_w > bound :\n",
    "    iterations += 1\n",
    "    \n",
    "    C_Dot_W = C.dot(w) / parameter_g\n",
    "    \n",
    "    # update vector A\n",
    "    A_now = C_Dot_W.apply(S)\n",
    "    \n",
    "    C_T_Dot_A = 0.5 * C_T.dot(A_now)\n",
    "    Target = Sum_X_Mul_Y - C_T_Dot_A\n",
    "    Target = Target.as_matrix()\n",
    "    \n",
    "    # update vector w\n",
    "    w_now = np.linalg.solve(Parameter, Target)\n",
    "    \n",
    "    delta_A = np.linalg.norm(A_now-A)\n",
    "    delta_w = np.linalg.norm(w_now-w)\n",
    "    \n",
    "    A = A_now\n",
    "    w = w_now\n",
    "    \n",
    "    print 'iterations:' + str(iterations) + ' ' + \\\n",
    "            'delta_A:' + str(delta_A) + ' ' + \\\n",
    "            'delta_w:' + str(delta_w)  \n",
    "print w"
   ]
  },
  {
   "cell_type": "code",
   "execution_count": 46,
   "metadata": {
    "collapsed": true
   },
   "outputs": [],
   "source": [
    "test_features = Testing_data.ix[0:, 0:numOfColumns-1]\n",
    "test_flag = Testing_data.ix[0:, numOfColumns]"
   ]
  },
  {
   "cell_type": "code",
   "execution_count": 47,
   "metadata": {
    "collapsed": false
   },
   "outputs": [],
   "source": [
    "# Testing_data\n",
    "# test_features"
   ]
  },
  {
   "cell_type": "code",
   "execution_count": 48,
   "metadata": {
    "collapsed": false
   },
   "outputs": [],
   "source": [
    "result = np.dot(test_features, w)"
   ]
  },
  {
   "cell_type": "code",
   "execution_count": 49,
   "metadata": {
    "collapsed": false
   },
   "outputs": [
    {
     "name": "stdout",
     "output_type": "stream",
     "text": [
      "2.21349168202\n",
      "-2.06062430298\n"
     ]
    }
   ],
   "source": [
    "print result.max()\n",
    "print result.min()\n",
    "#print result\n",
    "predict_flag = result > 0"
   ]
  },
  {
   "cell_type": "code",
   "execution_count": 50,
   "metadata": {
    "collapsed": false
   },
   "outputs": [
    {
     "name": "stdout",
     "output_type": "stream",
     "text": [
      "True\n",
      "True == 1\n"
     ]
    }
   ],
   "source": [
    "len(predict_flag)\n",
    "print predict_flag[0]\n",
    "if predict_flag[0] == 1:\n",
    "    print \"True == 1\""
   ]
  },
  {
   "cell_type": "code",
   "execution_count": 51,
   "metadata": {
    "collapsed": false
   },
   "outputs": [
    {
     "name": "stdout",
     "output_type": "stream",
     "text": [
      "0.80309296889\n",
      "0.800581184163\n",
      "0.801454545455\n",
      "0.801017626749\n"
     ]
    }
   ],
   "source": [
    "#test_flag\n",
    "\n",
    "true_positive = 0.0\n",
    "true_negative = 0.0\n",
    "false_positive = 0.0\n",
    "false_negative = 0.0\n",
    "\n",
    "for i in range( len(predict_flag) ):\n",
    "    if predict_flag[i] == True and test_flag[i] == 1 :\n",
    "        true_positive += 1\n",
    "    if predict_flag[i] == False and test_flag[i] == -1 :\n",
    "        true_negative += 1\n",
    "    if predict_flag[i] == True and test_flag[i] == -1 :\n",
    "        false_positive += 1\n",
    "    if predict_flag[i] == False and test_flag[i] == 1 :\n",
    "        false_negative += 1\n",
    "        \n",
    "#print true_positive\n",
    "#print true_negative\n",
    "#print false_positive\n",
    "#print false_negative\n",
    "\n",
    "ACC = (true_positive + true_negative) / (true_positive + true_negative + false_positive + false_negative)\n",
    "PRE = true_positive / (true_positive + false_positive)\n",
    "REC = true_positive / (true_positive + false_negative)\n",
    "F1 = 2*( PRE * REC) / (PRE + REC)\n",
    "print ACC\n",
    "print PRE\n",
    "print REC\n",
    "print F1"
   ]
  },
  {
   "cell_type": "code",
   "execution_count": 52,
   "metadata": {
    "collapsed": true
   },
   "outputs": [],
   "source": [
    "def Store_Model( Weights , File ) :\n",
    "    # Write Model's performance to the File\n",
    "    File.write(str(F1*100) + '%')\n",
    "    \n",
    "    # Write coefficients to the Filse \n",
    "    coefficients = Weights\n",
    "    for i in range( len(coefficients) ) :\n",
    "        # print i,coefficients[i]\n",
    "        File.write(',' + str(coefficients[i]) )"
   ]
  },
  {
   "cell_type": "code",
   "execution_count": 53,
   "metadata": {
    "collapsed": false
   },
   "outputs": [],
   "source": [
    "with open('./MODEL/MODEL_001.txt', 'w') as model :\n",
    "    Store_Model(w, model)"
   ]
  },
  {
   "cell_type": "code",
   "execution_count": null,
   "metadata": {
    "collapsed": true
   },
   "outputs": [],
   "source": []
  }
 ],
 "metadata": {
  "kernelspec": {
   "display_name": "Python 2",
   "language": "python",
   "name": "python2"
  },
  "language_info": {
   "codemirror_mode": {
    "name": "ipython",
    "version": 2
   },
   "file_extension": ".py",
   "mimetype": "text/x-python",
   "name": "python",
   "nbconvert_exporter": "python",
   "pygments_lexer": "ipython2",
   "version": "2.7.10"
  }
 },
 "nbformat": 4,
 "nbformat_minor": 0
}
