{
 "cells": [
  {
   "cell_type": "code",
   "execution_count": 1,
   "metadata": {
    "collapsed": true
   },
   "outputs": [],
   "source": [
    "import pandas as pd\n",
    "import numpy as np"
   ]
  },
  {
   "cell_type": "code",
   "execution_count": 4,
   "metadata": {
    "collapsed": false
   },
   "outputs": [],
   "source": [
    "match_best = pd.read_csv('Training_Data/match_best.csv')\n",
    "match_second = pd.read_csv('Training_Data/match_second.csv')\n",
    "match_third = pd.read_csv('Training_Data/match_third.csv')\n",
    "raw_data = pd.read_csv('Training_Data/raw_data.csv')\n",
    "training_data = pd.read_csv('Training_Data/Train_valid.csv')\n",
    "testing_data = pd.read_csv('Training_Data/Test.csv')"
   ]
  },
  {
   "cell_type": "code",
   "execution_count": 5,
   "metadata": {
    "collapsed": false
   },
   "outputs": [],
   "source": [
    "# match_best\n",
    "similar01_best = pd.read_csv('Training_Data/similar01_best.csv')\n",
    "similar01_second = pd.read_csv('Training_Data/similar01_second.csv')\n",
    "similar01_third = pd.read_csv('Training_Data/similar01_third.csv')"
   ]
  },
  {
   "cell_type": "code",
   "execution_count": 6,
   "metadata": {
    "collapsed": true
   },
   "outputs": [],
   "source": [
    "similar02_best = pd.read_csv('Training_Data/similar02_best.csv')\n",
    "similar02_second = pd.read_csv('Training_Data/similar02_second.csv')\n",
    "similar02_third = pd.read_csv('Training_Data/similar02_third.csv')"
   ]
  },
  {
   "cell_type": "code",
   "execution_count": 7,
   "metadata": {
    "collapsed": true
   },
   "outputs": [],
   "source": [
    "similar03_best = pd.read_csv('Training_Data/similar03_best.csv')\n",
    "similar03_second = pd.read_csv('Training_Data/similar03_second.csv')\n",
    "similar03_third = pd.read_csv('Training_Data/similar03_third.csv')"
   ]
  },
  {
   "cell_type": "code",
   "execution_count": 8,
   "metadata": {
    "collapsed": false
   },
   "outputs": [],
   "source": [
    "match_best.drop(match_best.columns[[2, 7, 16]], inplace=True, axis=1)\n",
    "match_second.drop(match_second.columns[[2, 7, 16]], inplace=True, axis=1)\n",
    "match_third.drop(match_third.columns[[2, 7, 16]], inplace=True, axis=1)\n",
    "raw_data.drop(raw_data.columns[[2, 7, 16]], inplace=True, axis=1)\n",
    "training_data.drop(training_data.columns[[2, 7, 16]], inplace=True, axis=1)\n",
    "testing_data.drop(testing_data.columns[[2, 7, 16]], inplace=True, axis=1)"
   ]
  },
  {
   "cell_type": "code",
   "execution_count": 9,
   "metadata": {
    "collapsed": false
   },
   "outputs": [],
   "source": [
    "similar01_best.drop(similar01_best.columns[[2, 7, 16]], inplace=True, axis=1)\n",
    "similar01_second.drop(similar01_second.columns[[2, 7, 16]], inplace=True, axis=1)\n",
    "similar01_third.drop(similar01_third.columns[[2, 7, 16]], inplace=True, axis = 1)"
   ]
  },
  {
   "cell_type": "code",
   "execution_count": 10,
   "metadata": {
    "collapsed": true
   },
   "outputs": [],
   "source": [
    "similar02_best.drop(similar02_best.columns[[2, 7, 16]], inplace=True, axis=1)\n",
    "similar02_second.drop(similar02_second.columns[[2, 7, 16]], inplace=True, axis=1)\n",
    "similar02_third.drop(similar02_third.columns[[2, 7, 16]], inplace=True, axis = 1)"
   ]
  },
  {
   "cell_type": "code",
   "execution_count": 11,
   "metadata": {
    "collapsed": true
   },
   "outputs": [],
   "source": [
    "similar03_best.drop(similar03_best.columns[[2, 7, 16]], inplace=True, axis=1)\n",
    "similar03_second.drop(similar03_second.columns[[2, 7, 16]], inplace=True, axis=1)\n",
    "similar03_third.drop(similar03_third.columns[[2, 7, 16]], inplace=True, axis = 1)"
   ]
  },
  {
   "cell_type": "code",
   "execution_count": 12,
   "metadata": {
    "collapsed": false
   },
   "outputs": [],
   "source": [
    "match_best.to_csv('./Algorithm/match_best.csv', encoding='utf-8', index = False, header=False)\n",
    "match_second.to_csv('./Algorithm/match_second.csv', encoding='utf-8', index=False, header=False)\n",
    "match_third.to_csv('./Algorithm/match_third.csv', encoding='utf-8', index=False, header=False)\n",
    "raw_data.to_csv('./Algorithm/raw_data.csv', encoding='utf-8', index=False, header=False)\n",
    "training_data.to_csv('./Algorithm/training_data.csv', encoding='utf-8', index=False, header=False)\n",
    "testing_data.to_csv('./Algorithm/testing_data.csv', encoding='utf-8', index=False, header=False)"
   ]
  },
  {
   "cell_type": "code",
   "execution_count": 13,
   "metadata": {
    "collapsed": true
   },
   "outputs": [],
   "source": [
    "similar01_best.to_csv('./Algorithm/similar01_best.csv', encoding='utf-8', index = False, header=False)\n",
    "similar01_second.to_csv('./Algorithm/similar01_second.csv', encoding='utf-8', index = False, header=False)\n",
    "similar01_third.to_csv('./Algorithm/similar01_third.csv', encoding='utf-8', index = False, header=False)"
   ]
  },
  {
   "cell_type": "code",
   "execution_count": 14,
   "metadata": {
    "collapsed": false
   },
   "outputs": [],
   "source": [
    "similar02_best.to_csv('./Algorithm/similar02_best.csv', encoding='utf-8', index = False, header=False)\n",
    "similar02_second.to_csv('./Algorithm/similar02_second.csv', encoding='utf-8', index = False, header=False)\n",
    "similar02_third.to_csv('./Algorithm/similar02_third.csv', encoding='utf-8', index = False, header=False)"
   ]
  },
  {
   "cell_type": "code",
   "execution_count": 15,
   "metadata": {
    "collapsed": true
   },
   "outputs": [],
   "source": [
    "similar03_best.to_csv('./Algorithm/similar03_best.csv', encoding='utf-8', index = False, header=False)\n",
    "similar03_second.to_csv('./Algorithm/similar03_second.csv', encoding='utf-8', index = False, header=False)\n",
    "similar03_third.to_csv('./Algorithm/similar03_third.csv', encoding='utf-8', index = False, header=False)"
   ]
  },
  {
   "cell_type": "code",
   "execution_count": null,
   "metadata": {
    "collapsed": true
   },
   "outputs": [],
   "source": []
  }
 ],
 "metadata": {
  "kernelspec": {
   "display_name": "Python 2",
   "language": "python",
   "name": "python2"
  },
  "language_info": {
   "codemirror_mode": {
    "name": "ipython",
    "version": 2
   },
   "file_extension": ".py",
   "mimetype": "text/x-python",
   "name": "python",
   "nbconvert_exporter": "python",
   "pygments_lexer": "ipython2",
   "version": "2.7.10"
  }
 },
 "nbformat": 4,
 "nbformat_minor": 0
}
