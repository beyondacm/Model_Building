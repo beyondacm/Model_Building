{
 "cells": [
  {
   "cell_type": "code",
   "execution_count": 1,
   "metadata": {
    "collapsed": true
   },
   "outputs": [],
   "source": [
    "import pandas as pd\n",
    "import numpy as np"
   ]
  },
  {
   "cell_type": "code",
   "execution_count": 2,
   "metadata": {
    "collapsed": false
   },
   "outputs": [],
   "source": [
    "match_best = pd.read_csv('Normal_S2V_Topic/match_best.csv')\n",
    "match_second = pd.read_csv('Normal_S2V_Topic/match_second.csv')\n",
    "match_third = pd.read_csv('Normal_S2V_Topic/match_third.csv')\n",
    "raw_data = pd.read_csv('Normal_S2V_Topic/raw_data.csv')\n",
    "training_data = pd.read_csv('Normal_S2V_Topic/Train_valid.csv')\n",
    "testing_data = pd.read_csv('Normal_S2V_Topic/Test.csv')"
   ]
  },
  {
   "cell_type": "code",
   "execution_count": 3,
   "metadata": {
    "collapsed": false
   },
   "outputs": [],
   "source": [
    "# match_best\n",
    "similar_best = pd.read_csv('Normal_S2V_Topic/similar01_best.csv')\n",
    "similar_second = pd.read_csv('Normal_S2V_Topic/similar01_second.csv')\n",
    "similar_third = pd.read_csv('Normal_S2V_Topic/similar01_third.csv')"
   ]
  },
  {
   "cell_type": "code",
   "execution_count": 4,
   "metadata": {
    "collapsed": false
   },
   "outputs": [],
   "source": [
    "match_best.drop(match_best.columns[[2, 7, 16]], inplace=True, axis=1)\n",
    "match_second.drop(match_second.columns[[2, 7, 16]], inplace=True, axis=1)\n",
    "match_third.drop(match_third.columns[[2, 7, 16]], inplace=True, axis=1)\n",
    "raw_data.drop(raw_data.columns[[2, 7, 16]], inplace=True, axis=1)\n",
    "training_data.drop(training_data.columns[[2, 7, 16]], inplace=True, axis=1)\n",
    "testing_data.drop(testing_data.columns[[2, 7, 16]], inplace=True, axis=1)"
   ]
  },
  {
   "cell_type": "code",
   "execution_count": 5,
   "metadata": {
    "collapsed": false
   },
   "outputs": [],
   "source": [
    "similar_best.drop(similar_best.columns[[2, 7, 16]], inplace=True, axis=1)\n",
    "similar_second.drop(similar_second.columns[[2, 7, 16]], inplace=True, axis=1)\n",
    "similar_third.drop(similar_third.columns[[2, 7, 16]], inplace=True, axis = 1)"
   ]
  },
  {
   "cell_type": "code",
   "execution_count": 6,
   "metadata": {
    "collapsed": false
   },
   "outputs": [],
   "source": [
    "match_best.to_csv('./Algorithm/match_best.csv', encoding='utf-8', index = False, header=False)\n",
    "match_second.to_csv('./Algorithm/match_second.csv', encoding='utf-8', index=False, header=False)\n",
    "match_third.to_csv('./Algorithm/match_third.csv', encoding='utf-8', index=False, header=False)\n",
    "raw_data.to_csv('./Algorithm/raw_data.csv', encoding='utf-8', index=False, header=False)\n",
    "training_data.to_csv('./Algorithm/training_data.csv', encoding='utf-8', index=False, header=False)\n",
    "testing_data.to_csv('./Algorithm/testing_data.csv', encoding='utf-8', index=False, header=False)"
   ]
  },
  {
   "cell_type": "code",
   "execution_count": 7,
   "metadata": {
    "collapsed": true
   },
   "outputs": [],
   "source": [
    "similar_best.to_csv('./Algorithm/similar_best.csv', encoding='utf-8', index = False, header=False)\n",
    "similar_second.to_csv('./Algorithm/similar_second.csv', encoding='utf-8', index = False, header=False)\n",
    "similar_third.to_csv('./Algorithm/similar_third.csv', encoding='utf-8', index = False, header=False)"
   ]
  },
  {
   "cell_type": "code",
   "execution_count": 9,
   "metadata": {
    "collapsed": false
   },
   "outputs": [],
   "source": [
    "# similar_best"
   ]
  },
  {
   "cell_type": "code",
   "execution_count": null,
   "metadata": {
    "collapsed": true
   },
   "outputs": [],
   "source": []
  }
 ],
 "metadata": {
  "kernelspec": {
   "display_name": "Python 2",
   "language": "python",
   "name": "python2"
  },
  "language_info": {
   "codemirror_mode": {
    "name": "ipython",
    "version": 2
   },
   "file_extension": ".py",
   "mimetype": "text/x-python",
   "name": "python",
   "nbconvert_exporter": "python",
   "pygments_lexer": "ipython2",
   "version": "2.7.11"
  }
 },
 "nbformat": 4,
 "nbformat_minor": 0
}
