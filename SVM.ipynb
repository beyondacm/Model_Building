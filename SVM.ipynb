{
 "cells": [
  {
   "cell_type": "code",
   "execution_count": 1,
   "metadata": {
    "collapsed": false
   },
   "outputs": [
    {
     "name": "stderr",
     "output_type": "stream",
     "text": [
      "A newer version of GraphLab Create (v1.8.5) is available! Your current version is v1.7.1.\n",
      "\n",
      "You can use pip to upgrade the graphlab-create package. For more information see https://dato.com/products/create/upgrade.\n",
      "[INFO] \u001b[1;32m1461229013 : INFO:     (initialize_globals_from_environment:282): Setting configuration variable GRAPHLAB_FILEIO_ALTERNATIVE_SSL_CERT_FILE to /home/zpgao/anaconda2/lib/python2.7/site-packages/certifi/cacert.pem\n",
      "\u001b[0m\u001b[1;32m1461229013 : INFO:     (initialize_globals_from_environment:282): Setting configuration variable GRAPHLAB_FILEIO_ALTERNATIVE_SSL_CERT_DIR to \n",
      "\u001b[0mThis non-commercial license of GraphLab Create is assigned to beyond_acm@163.com and will expire on January 04, 2017. For commercial licensing options, visit https://dato.com/buy/.\n",
      "\n",
      "[INFO] Start server at: ipc:///tmp/graphlab_server-5847 - Server binary: /home/zpgao/anaconda2/lib/python2.7/site-packages/graphlab/unity_server - Server log: /tmp/graphlab_server_1461229013.log\n",
      "[INFO] GraphLab Server Version: 1.7.1\n"
     ]
    }
   ],
   "source": [
    "import graphlab\n",
    "import pandas as pd\n",
    "import matplotlib.pyplot as plt\n",
    "# %matplotlib inline"
   ]
  },
  {
   "cell_type": "code",
   "execution_count": 2,
   "metadata": {
    "collapsed": true
   },
   "outputs": [],
   "source": [
    "match_best = pd.read_csv('Normal_S2V_Topic/match_best.csv')\n",
    "match_second = pd.read_csv('Normal_S2V_Topic/match_second.csv')\n",
    "match_third = pd.read_csv('Normal_S2V_Topic/match_third.csv')\n",
    "\n",
    "non_match_best = pd.read_csv('Normal_S2V_Topic/non_match_best.csv')\n",
    "non_match_second = pd.read_csv('Normal_S2V_Topic/non_match_second.csv')\n",
    "non_match_third = pd.read_csv('Normal_S2V_Topic/non_match_third.csv')\n",
    "\n",
    "similar01_best = pd.read_csv('Normal_S2V_Topic/similar01_best.csv')\n",
    "similar01_second = pd.read_csv('Normal_S2V_Topic/similar01_second.csv')\n",
    "similar01_third = pd.read_csv('Normal_S2V_Topic/similar01_third.csv')\n",
    "\n",
    "similar02_best = pd.read_csv('Normal_S2V_Topic/similar02_best.csv')\n",
    "similar02_second = pd.read_csv('Normal_S2V_Topic/similar02_second.csv')\n",
    "similar02_third = pd.read_csv('Normal_S2V_Topic/similar02_third.csv')\n",
    "\n",
    "similar03_best = pd.read_csv('Normal_S2V_Topic/similar03_best.csv')\n",
    "similar03_second = pd.read_csv('Normal_S2V_Topic/similar03_second.csv')\n",
    "similar03_third = pd.read_csv('Normal_S2V_Topic/similar03_third.csv')"
   ]
  },
  {
   "cell_type": "code",
   "execution_count": 3,
   "metadata": {
    "collapsed": false
   },
   "outputs": [],
   "source": [
    "# match_best     # 1959 x 119"
   ]
  },
  {
   "cell_type": "code",
   "execution_count": 4,
   "metadata": {
    "collapsed": true
   },
   "outputs": [],
   "source": [
    "# match_best > match_third \n",
    "positive01 = match_best.sub(match_third)\n",
    "# match_second < match_best\n",
    "negative01 = match_second.sub(match_best)\n",
    "\n",
    "#--------------------------------------------------\n",
    "# match_second > similar01_best\n",
    "positive02 = match_second.sub(similar01_best)\n",
    "# similar01_best < match_thrid\n",
    "negative02 = similar01_best.sub(match_third)\n",
    "\n",
    "# match_best > similar01_best\n",
    "positive03 = match_best.sub(similar01_best)\n",
    "# similar01_third < match_best\n",
    "negative03 = similar01_third.sub(match_best)\n",
    "\n",
    "# match_best > similar01_second\n",
    "positive04 = match_best.sub(similar01_second)\n",
    "# similar01_second < match_second\n",
    "negative04 = similar01_second.sub(match_second)\n",
    "\n",
    "# match_third > similar01_second\n",
    "positive05 = match_third.sub(similar01_second)\n",
    "# similar01_third < match_second\n",
    "negative05 = similar01_third.sub(match_second)\n",
    "\n",
    "#---------------------------------------------------\n",
    "# match_best > similar02_best \n",
    "positive06 = match_best.sub(similar02_best)\n",
    "# similar02_best < match_second\n",
    "negative06 = similar02_best.sub(match_second)\n",
    "\n",
    "# match_second > similar02_second\n",
    "positive07 = match_second.sub(similar02_second)\n",
    "# similar02_second < match_third\n",
    "negative07 = similar02_second.sub(match_third)\n",
    "\n",
    "# match_thrid > similar02_third \n",
    "positive08 = match_third.sub(similar02_third)\n",
    "# similar02_third < match_best\n",
    "negative08 = similar02_third.sub(match_best)\n",
    "\n",
    "# -------------------------------------------------\n",
    "# match_best > similar03_best\n",
    "positive09 = match_best.sub(similar03_best)\n",
    "# similar03_best < match_second \n",
    "negative09 = similar03_best.sub(match_second)\n",
    "\n",
    "# match_second > similar03_second\n",
    "positive10 = match_second.sub(similar03_second)\n",
    "# similar03_second < match_third\n",
    "negative10 = similar03_second.sub(match_third)\n",
    "\n",
    "# match_third > similar03_third\n",
    "positive11 = match_third.sub(similar03_third)\n",
    "# similar03_third < match_best\n",
    "negative11 = similar03_third.sub(match_best)\n",
    "\n",
    "# -------------------------------------------------------\n",
    "# match_best > non_match_best\n",
    "positive12 = match_best.sub(non_match_best)\n",
    "# non_match_third < match_second\n",
    "negative12 = non_match_third.sub(match_second)\n",
    "\n",
    "# match_best > non_match_second \n",
    "positive13 = match_best.sub(non_match_second)\n",
    "# non_match_second < match_third\n",
    "negative13 = non_match_second.sub(match_third)\n",
    "\n",
    "# match_second > non_match_best\n",
    "positive14 = match_second.sub(non_match_best)\n",
    "# non_match_third < match_best\n",
    "negative14 = non_match_third.sub(match_best)"
   ]
  },
  {
   "cell_type": "code",
   "execution_count": 5,
   "metadata": {
    "collapsed": true
   },
   "outputs": [],
   "source": [
    "positive01['flag'] = 1\n",
    "positive02['flag'] = 1\n",
    "positive03['flag'] = 1\n",
    "positive04['flag'] = 1\n",
    "positive05['flag'] = 1\n",
    "positive06['flag'] = 1\n",
    "positive07['flag'] = 1\n",
    "positive08['flag'] = 1\n",
    "positive09['flag'] = 1\n",
    "positive10['flag'] = 1\n",
    "positive11['flag'] = 1\n",
    "positive12['flag'] = 1\n",
    "positive13['flag'] = 1\n",
    "positive14['flag'] = 1\n",
    "\n",
    "negative01['flag'] = -1\n",
    "negative02['flag'] = -1\n",
    "negative03['flag'] = -1\n",
    "negative04['flag'] = -1\n",
    "negative05['flag'] = -1\n",
    "negative06['flag'] = -1\n",
    "negative07['flag'] = -1\n",
    "negative08['flag'] = -1\n",
    "negative09['flag'] = -1\n",
    "negative10['flag'] = -1\n",
    "negative11['flag'] = -1\n",
    "negative12['flag'] = -1\n",
    "negative13['flag'] = -1\n",
    "negative14['flag'] = -1"
   ]
  },
  {
   "cell_type": "code",
   "execution_count": 6,
   "metadata": {
    "collapsed": false
   },
   "outputs": [],
   "source": [
    "dataset = pd.concat([positive01, negative01, \n",
    "                     positive02, negative02,\n",
    "                     positive03, negative03, \n",
    "                     positive04, negative04,\n",
    "                     positive05, negative05,\n",
    "                     positive06, negative06,\n",
    "                     positive07, negative07,\n",
    "                     positive08, negative08,\n",
    "                     positive09, negative09,\n",
    "                     positive10, negative10,\n",
    "                     positive11, negative11,\n",
    "                     positive12, negative12,\n",
    "                     positive13, negative13,\n",
    "                     positive14, negative14\n",
    "                    ], ignore_index=True)"
   ]
  },
  {
   "cell_type": "code",
   "execution_count": 7,
   "metadata": {
    "collapsed": false
   },
   "outputs": [],
   "source": [
    "# dataset  # 54852 rows × 120 columns"
   ]
  },
  {
   "cell_type": "code",
   "execution_count": 8,
   "metadata": {
    "collapsed": true
   },
   "outputs": [],
   "source": [
    "# dataset = dataset.dropna()\n",
    "dataset = dataset.fillna(0)"
   ]
  },
  {
   "cell_type": "code",
   "execution_count": 9,
   "metadata": {
    "collapsed": false
   },
   "outputs": [],
   "source": [
    "# dataset  # 19590 rows × 120 columns"
   ]
  },
  {
   "cell_type": "code",
   "execution_count": 10,
   "metadata": {
    "collapsed": true
   },
   "outputs": [],
   "source": [
    "dataset.to_csv('Normal_S2V_Topic/raw_data.csv', encoding='utf-8', index = False)"
   ]
  },
  {
   "cell_type": "code",
   "execution_count": 11,
   "metadata": {
    "collapsed": false
   },
   "outputs": [
    {
     "name": "stdout",
     "output_type": "stream",
     "text": [
      "PROGRESS: Finished parsing file /home/zpgao/ML/Best_Answer/Model_Building/Normal_S2V_Topic/raw_data.csv\n",
      "PROGRESS: Parsing completed. Parsed 100 lines in 0.785701 secs.\n",
      "------------------------------------------------------\n",
      "Inferred types from first line of file as \n",
      "column_type_hints=[float,float,float,float,float,float,float,float,float,float,float,float,float,float,float,float,float,float,float,float,float,float,float,float,float,float,float,float,float,float,float,float,float,float,float,float,float,float,float,float,float,float,float,float,float,float,float,float,float,float,float,float,float,float,float,float,float,float,float,float,float,float,float,float,float,float,float,float,float,float,float,float,float,float,float,float,float,float,float,float,float,float,float,float,float,float,float,float,float,float,float,float,float,float,float,float,float,float,float,float,float,float,float,float,float,float,float,float,float,float,float,float,float,float,float,float,float,float,float,int]\n",
      "If parsing fails due to incorrect types, you can correct\n",
      "the inferred type list above and pass it to read_csv in\n",
      "the column_type_hints argument\n",
      "------------------------------------------------------\n",
      "PROGRESS: Read 34521 lines. Lines per second: 27615.6\n",
      "PROGRESS: Finished parsing file /home/zpgao/ML/Best_Answer/Model_Building/Normal_S2V_Topic/raw_data.csv\n",
      "PROGRESS: Parsing completed. Parsed 54852 lines in 1.32098 secs.\n"
     ]
    }
   ],
   "source": [
    "raw_data = graphlab.SFrame.read_csv('Normal_S2V_Topic/raw_data.csv')"
   ]
  },
  {
   "cell_type": "code",
   "execution_count": 12,
   "metadata": {
    "collapsed": true
   },
   "outputs": [],
   "source": [
    "train_valid, test = raw_data.random_split(0.9, seed=0.3)\n",
    "train_valid_shuffled = graphlab.toolkits.cross_validation.shuffle(train_valid, random_seed=0.3)\n",
    "\n",
    "train_valid.save('Normal_S2V_Topic/Train_valid.csv', format='csv')\n",
    "test.save('Normal_S2V_Topic/Test.csv', format='csv')"
   ]
  },
  {
   "cell_type": "code",
   "execution_count": 13,
   "metadata": {
    "collapsed": false
   },
   "outputs": [],
   "source": [
    "# train_valid"
   ]
  },
  {
   "cell_type": "code",
   "execution_count": 14,
   "metadata": {
    "collapsed": false
   },
   "outputs": [
    {
     "name": "stdout",
     "output_type": "stream",
     "text": [
      "['len_answer_content', 'len_user_intro', 'len_question_content', 'user_exp', 'len_user_edu', 'num_user_interst', 'num_user_followed', 'num_question_tags', 'num_user_saved', 'num_user_thanks', 'num_user_agrees', 'num_user_helped', 'num_user_recommend', 'ac_qc_overlap', 'ac_qt_overlap', 'ac_ui_overlap', 'qc_qt_overlap', 'qc_ui_overlap', 'qt_ui_overlap', 's2v_0', 's2v_1', 's2v_2', 's2v_3', 's2v_4', 's2v_5', 's2v_6', 's2v_7', 's2v_8', 's2v_9', 's2v_10', 's2v_11', 's2v_12', 's2v_13', 's2v_14', 's2v_15', 's2v_16', 's2v_17', 's2v_18', 's2v_19', 's2v_20', 's2v_21', 's2v_22', 's2v_23', 's2v_24', 's2v_25', 's2v_26', 's2v_27', 's2v_28', 's2v_29', 's2v_30', 's2v_31', 's2v_32', 's2v_33', 's2v_34', 's2v_35', 's2v_36', 's2v_37', 's2v_38', 's2v_39', 's2v_40', 's2v_41', 's2v_42', 's2v_43', 's2v_44', 's2v_45', 's2v_46', 's2v_47', 's2v_48', 's2v_49', 'topic_0', 'topic_1', 'topic_2', 'topic_3', 'topic_4', 'topic_5', 'topic_6', 'topic_7', 'topic_8', 'topic_9', 'topic_10', 'topic_11', 'topic_12', 'topic_13', 'topic_14', 'topic_15', 'topic_16', 'topic_17', 'topic_18', 'topic_19', 'topic_20', 'topic_21', 'topic_22', 'topic_23', 'topic_24', 'topic_25', 'topic_26', 'topic_27', 'topic_28', 'topic_29', 'topic_30', 'topic_31', 'topic_32', 'topic_33', 'topic_34', 'topic_35', 'topic_36', 'topic_37', 'topic_38', 'topic_39', 'topic_40', 'topic_41', 'topic_42', 'topic_43', 'topic_44', 'topic_45', 'topic_46', 'topic_47', 'topic_48', 'topic_49', 'flag']\n",
      "['len_answer_content', 'len_user_intro', 'len_question_content', 'user_exp', 'len_user_edu', 'num_user_interst', 'num_user_followed', 'num_question_tags', 'num_user_saved', 'num_user_thanks', 'num_user_agrees', 'num_user_helped', 'num_user_recommend', 'ac_qc_overlap', 'ac_qt_overlap', 'ac_ui_overlap', 'qc_qt_overlap', 'qc_ui_overlap', 'qt_ui_overlap', 's2v_0', 's2v_1', 's2v_2', 's2v_3', 's2v_4', 's2v_5', 's2v_6', 's2v_7', 's2v_8', 's2v_9', 's2v_10', 's2v_11', 's2v_12', 's2v_13', 's2v_14', 's2v_15', 's2v_16', 's2v_17', 's2v_18', 's2v_19', 's2v_20', 's2v_21', 's2v_22', 's2v_23', 's2v_24', 's2v_25', 's2v_26', 's2v_27', 's2v_28', 's2v_29', 's2v_30', 's2v_31', 's2v_32', 's2v_33', 's2v_34', 's2v_35', 's2v_36', 's2v_37', 's2v_38', 's2v_39', 's2v_40', 's2v_41', 's2v_42', 's2v_43', 's2v_44', 's2v_45', 's2v_46', 's2v_47', 's2v_48', 's2v_49', 'topic_0', 'topic_1', 'topic_2', 'topic_3', 'topic_4', 'topic_5', 'topic_6', 'topic_7', 'topic_8', 'topic_9', 'topic_10', 'topic_11', 'topic_12', 'topic_13', 'topic_14', 'topic_15', 'topic_16', 'topic_17', 'topic_18', 'topic_19', 'topic_20', 'topic_21', 'topic_22', 'topic_23', 'topic_24', 'topic_25', 'topic_26', 'topic_27', 'topic_28', 'topic_29', 'topic_30', 'topic_31', 'topic_32', 'topic_33', 'topic_34', 'topic_35', 'topic_36', 'topic_37', 'topic_38', 'topic_39', 'topic_40', 'topic_41', 'topic_42', 'topic_43', 'topic_44', 'topic_45', 'topic_46', 'topic_47', 'topic_48', 'topic_49']\n",
      "119\n"
     ]
    }
   ],
   "source": [
    "# get all the features\n",
    "all_features = train_valid_shuffled.column_names()\n",
    "# need to pop and 'flag' \n",
    "print all_features\n",
    "all_features.pop(-1)\n",
    "print all_features\n",
    "all_features\n",
    "print len(all_features)"
   ]
  },
  {
   "cell_type": "markdown",
   "metadata": {},
   "source": [
    "# Selecting L1 penalty via the k cross validation "
   ]
  },
  {
   "cell_type": "code",
   "execution_count": 12,
   "metadata": {
    "collapsed": false
   },
   "outputs": [
    {
     "name": "stdout",
     "output_type": "stream",
     "text": [
      "0 (0, 3000)\n",
      "1 (3001, 6001)\n",
      "2 (6002, 9003)\n",
      "3 (9004, 12004)\n",
      "4 (12005, 15006)\n",
      "5 (15007, 18007)\n",
      "6 (18008, 21008)\n",
      "7 (21009, 24010)\n",
      "8 (24011, 27011)\n",
      "9 (27012, 30013)\n"
     ]
    }
   ],
   "source": [
    "n = len(train_valid_shuffled)\n",
    "k = 10 \n",
    "\n",
    "for i in xrange(k):\n",
    "    start = (n*i)/k\n",
    "    end = (n*(i+1))/k-1\n",
    "    print i, (start, end)"
   ]
  },
  {
   "cell_type": "markdown",
   "metadata": {},
   "source": [
    "After designating one of the k segments as the validation set, we train a model using the rest of the data. To choose the reaminder, we slice (0:start) && (end+1:n) of the data and paste them together. SFrame append() method can pastes together tow disjoint sets of rows originating from a common dataset."
   ]
  },
  {
   "cell_type": "code",
   "execution_count": 13,
   "metadata": {
    "collapsed": true
   },
   "outputs": [],
   "source": [
    "# implement the k-fold-cross-validation \n",
    "def k_fold_cross_validation(k, penalty, data, target, features_list):\n",
    "    sum_validation_accuracy = 0\n",
    "    n = len(data)\n",
    "    for i in xrange(k):\n",
    "        start = (n*i) / k\n",
    "        end = ( n*(i+1) ) / k\n",
    "        validation_set = data[start:end+1]\n",
    "        training_set = data[0:start].append( data[end+1:n] )\n",
    "        svm_model = graphlab.svm_classifier.create( training_set, \n",
    "                                                    target = target, \n",
    "                                                    features = features_list,\n",
    "                                                    penalty = penalty,\n",
    "                                                    validation_set = None, \n",
    "                                                    max_iterations = 20,\n",
    "                                                    verbose = False)\n",
    "        results = svm_model.evaluate(validation_set)\n",
    "        validation_acc = results['accuracy']\n",
    "        \n",
    "        sum_validation_accuracy = sum_validation_accuracy + validation_acc\n",
    "        \n",
    "    average_validation_accuracy = (sum_validation_accuracy) / k\n",
    "    return average_validation_accuracy"
   ]
  },
  {
   "cell_type": "markdown",
   "metadata": {},
   "source": [
    "We can write a loop to find the model that maximizes the average_validation_accuracy\n",
    "- For penalty in [10^1, 10^1.5, 10^2, 10^2.5, ..., 10^7]\n",
    "- Run the 10-fold corss-validation with the penalty"
   ]
  },
  {
   "cell_type": "code",
   "execution_count": 16,
   "metadata": {
    "collapsed": false
   },
   "outputs": [
    {
     "name": "stdout",
     "output_type": "stream",
     "text": [
      "penalty :0.1 accuracy:0.955500894841\n",
      "\n",
      "penalty :0.3 accuracy:0.955301050271\n",
      "\n",
      "penalty :1.0 accuracy:0.955534183782\n",
      "\n",
      "penalty :3.3 accuracy:0.955334317027\n",
      "\n",
      "penalty :10.0 accuracy:0.955334328119\n",
      "\n",
      "penalty :33.3 accuracy:0.955334328119\n",
      "\n",
      "penalty :100.0 accuracy:0.955334328119\n",
      "\n"
     ]
    }
   ],
   "source": [
    "average_validation_acc_dict = {}\n",
    "\n",
    "penalty = 0.1\n",
    "val_acc = k_fold_cross_validation(10, penalty, train_valid_shuffled, 'flag', all_features)\n",
    "print 'penalty :' + str(penalty) + ' accuracy:' + str(val_acc) + '\\n'\n",
    "average_validation_acc_dict[penalty] = val_acc\n",
    "\n",
    "penalty = 0.3\n",
    "val_acc = k_fold_cross_validation(10, penalty, train_valid_shuffled, 'flag', all_features)\n",
    "print 'penalty :' + str(penalty) + ' accuracy:' + str(val_acc) + '\\n'\n",
    "average_validation_acc_dict[penalty] = val_acc\n",
    "\n",
    "penalty = 1.0\n",
    "val_acc = k_fold_cross_validation(10, penalty, train_valid_shuffled, 'flag', all_features)\n",
    "print 'penalty :' + str(penalty) + ' accuracy:' + str(val_acc) + '\\n'\n",
    "average_validation_acc_dict[penalty] = val_acc\n",
    "\n",
    "penalty = 3.3\n",
    "val_acc = k_fold_cross_validation(10, penalty, train_valid_shuffled, 'flag', all_features)\n",
    "print 'penalty :' + str(penalty) + ' accuracy:' + str(val_acc) + '\\n'\n",
    "average_validation_acc_dict[penalty] = val_acc\n",
    "\n",
    "penalty = 10.0\n",
    "val_acc = k_fold_cross_validation(10, penalty, train_valid_shuffled, 'flag', all_features)\n",
    "print 'penalty :' + str(penalty) + ' accuracy:' + str(val_acc) + '\\n'\n",
    "average_validation_acc_dict[penalty] = val_acc\n",
    "\n",
    "penalty = 33.3\n",
    "val_acc = k_fold_cross_validation(10, penalty, train_valid_shuffled, 'flag', all_features)\n",
    "print 'penalty :' + str(penalty) + ' accuracy:' + str(val_acc) + '\\n'\n",
    "average_validation_acc_dict[penalty] = val_acc\n",
    "\n",
    "penalty = 100.0\n",
    "val_acc = k_fold_cross_validation(10, penalty, train_valid_shuffled, 'flag', all_features)\n",
    "print 'penalty :' + str(penalty) + ' accuracy:' + str(val_acc) + '\\n'\n",
    "average_validation_acc_dict[penalty] = val_acc"
   ]
  },
  {
   "cell_type": "code",
   "execution_count": 17,
   "metadata": {
    "collapsed": false
   },
   "outputs": [
    {
     "name": "stdout",
     "output_type": "stream",
     "text": [
      "{1.0: 0.9555341837820187, 100.0: 0.9553343281191383, 0.1: 0.9555008948413345, 10.0: 0.9553343281191383, 0.3: 0.9553010502710704, 3.3: 0.955334317026522, 33.3: 0.9553343281191383}\n",
      "+---------+---------------------+\n",
      "| penalty | validation_accuracy |\n",
      "+---------+---------------------+\n",
      "|   1.0   |    0.955534183782   |\n",
      "|  100.0  |    0.955334328119   |\n",
      "|   0.1   |    0.955500894841   |\n",
      "|   10.0  |    0.955334328119   |\n",
      "|   0.3   |    0.955301050271   |\n",
      "|   3.3   |    0.955334317027   |\n",
      "|   33.3  |    0.955334328119   |\n",
      "+---------+---------------------+\n",
      "[7 rows x 2 columns]\n",
      "\n"
     ]
    },
    {
     "data": {
      "image/png": "[encoded data removed]",
      "text/plain": [
       "<matplotlib.figure.Figure at 0x7fdf2e2aead0>"
      ]
     },
     "metadata": {},
     "output_type": "display_data"
    }
   ],
   "source": [
    "# Plot the penalty in x axis and the cross-validation-accuracy in the y axis\n",
    "# using plt.xscale('log') will make your plot more intuitive\n",
    "print average_validation_acc_dict\n",
    "\n",
    "penalty = graphlab.SArray( average_validation_acc_dict.keys() )\n",
    "validation_accuracy = graphlab.SArray( average_validation_acc_dict.values() )\n",
    "\n",
    "sf = graphlab.SFrame({'penalty':penalty,'validation_accuracy':validation_accuracy})\n",
    "print sf \n",
    "\n",
    "plt.plot(sf['penalty'], sf['validation_accuracy'], 'k.')\n",
    "plt.xscale('log')\n"
   ]
  },
  {
   "cell_type": "markdown",
   "metadata": {},
   "source": [
    "# Building SVM Model"
   ]
  },
  {
   "cell_type": "code",
   "execution_count": 15,
   "metadata": {
    "collapsed": false
   },
   "outputs": [
    {
     "name": "stdout",
     "output_type": "stream",
     "text": [
      "PROGRESS: WARNING: Detected extremely low variance for feature(s) 'len_question_content', 'num_question_tags', 'qc_qt_overlap' because all entries are nearly the same.\n",
      "Proceeding with model training using all features. If the model does not provide results of adequate quality, exclude the above mentioned feature(s) from the input dataset.\n",
      "PROGRESS: SVM:\n",
      "PROGRESS: --------------------------------------------------------\n",
      "PROGRESS: Number of examples          : 49291\n",
      "PROGRESS: Number of classes           : 2\n",
      "PROGRESS: Number of feature columns   : 119\n",
      "PROGRESS: Number of unpacked features : 119\n",
      "PROGRESS: Number of coefficients    : 120\n",
      "PROGRESS: Starting L-BFGS\n",
      "PROGRESS: --------------------------------------------------------\n",
      "PROGRESS: +-----------+----------+-----------+--------------+-------------------+\n",
      "PROGRESS: | Iteration | Passes   | Step size | Elapsed Time | Training-accuracy |\n",
      "PROGRESS: +-----------+----------+-----------+--------------+-------------------+\n",
      "PROGRESS: | 1         | 3        | 0.000020  | 1.271862     | 0.762776          |\n",
      "PROGRESS: | 2         | 5        | 1.000000  | 1.640360     | 0.804650          |\n",
      "PROGRESS: | 3         | 6        | 1.000000  | 2.140003     | 0.824451          |\n",
      "PROGRESS: | 4         | 7        | 1.000000  | 2.343427     | 0.828853          |\n",
      "PROGRESS: | 5         | 8        | 1.000000  | 2.526534     | 0.830395          |\n",
      "PROGRESS: | 6         | 9        | 1.000000  | 2.674595     | 0.831105          |\n",
      "PROGRESS: | 10        | 13       | 1.000000  | 3.283631     | 0.832464          |\n",
      "PROGRESS: | 11        | 14       | 1.000000  | 3.428403     | 0.832505          |\n",
      "PROGRESS: | 15        | 18       | 1.000000  | 4.020203     | 0.832201          |\n",
      "PROGRESS: | 20        | 23       | 1.000000  | 4.765671     | 0.832464          |\n",
      "PROGRESS: | 25        | 28       | 1.000000  | 5.508529     | 0.832424          |\n",
      "PROGRESS: | 30        | 33       | 1.000000  | 6.302719     | 0.832322          |\n",
      "PROGRESS: | 35        | 39       | 1.000000  | 7.365207     | 0.832302          |\n",
      "PROGRESS: | 40        | 44       | 1.000000  | 8.165818     | 0.832322          |\n",
      "PROGRESS: | 45        | 49       | 1.000000  | 8.965897     | 0.832343          |\n",
      "PROGRESS: | 50        | 54       | 1.000000  | 9.768314     | 0.832343          |\n",
      "PROGRESS: | 51        | 55       | 1.000000  | 9.915511     | 0.832343          |\n",
      "PROGRESS: +-----------+----------+-----------+--------------+-------------------+\n",
      "PROGRESS: SUCCESS: Optimal solution found.\n",
      "PROGRESS:\n"
     ]
    }
   ],
   "source": [
    "final_model = graphlab.svm_classifier.create( train_valid_shuffled, \n",
    "                                              target = 'flag', \n",
    "                                              features = all_features,\n",
    "                                              penalty = 1.0,\n",
    "                                              validation_set = None, \n",
    "                                              max_iterations = 100)"
   ]
  },
  {
   "cell_type": "code",
   "execution_count": 16,
   "metadata": {
    "collapsed": false
   },
   "outputs": [],
   "source": [
    "# final_model.get('coefficients').print_rows(num_rows=100)\n",
    "# len ( final_model.get('coefficients')['value'] )"
   ]
  },
  {
   "cell_type": "code",
   "execution_count": 17,
   "metadata": {
    "collapsed": false
   },
   "outputs": [],
   "source": [
    "results = final_model.evaluate(test)"
   ]
  },
  {
   "cell_type": "code",
   "execution_count": 18,
   "metadata": {
    "collapsed": false
   },
   "outputs": [],
   "source": [
    "# test"
   ]
  },
  {
   "cell_type": "code",
   "execution_count": 19,
   "metadata": {
    "collapsed": false
   },
   "outputs": [
    {
     "name": "stdout",
     "output_type": "stream",
     "text": [
      "0.833150784958\n"
     ]
    }
   ],
   "source": [
    "print results['f1_score']"
   ]
  },
  {
   "cell_type": "code",
   "execution_count": 20,
   "metadata": {
    "collapsed": true
   },
   "outputs": [],
   "source": [
    "def Store_Model( Model, File ) :\n",
    "    # Write the Model's performance to a File\n",
    "    f1_score = final_model.evaluate(test)['f1_score'] * 100\n",
    "    File.write(str(f1_score) + '%' )\n",
    "    \n",
    "    coefficients = Model.get('coefficients')['value']\n",
    "    # Write the Model's coefficients to a File\n",
    "    for i in range( len(coefficients) ) :\n",
    "        # print i,coefficients[i]\n",
    "        File.write( ',' + str(coefficients[i]) )\n",
    "    "
   ]
  },
  {
   "cell_type": "code",
   "execution_count": 21,
   "metadata": {
    "collapsed": false
   },
   "outputs": [],
   "source": [
    "with open('./MODEL/SVM_11.txt', 'w') as svm01 :\n",
    "    Store_Model( final_model, svm01 )"
   ]
  },
  {
   "cell_type": "code",
   "execution_count": null,
   "metadata": {
    "collapsed": true
   },
   "outputs": [],
   "source": []
  }
 ],
 "metadata": {
  "kernelspec": {
   "display_name": "Python 2",
   "language": "python",
   "name": "python2"
  },
  "language_info": {
   "codemirror_mode": {
    "name": "ipython",
    "version": 2
   },
   "file_extension": ".py",
   "mimetype": "text/x-python",
   "name": "python",
   "nbconvert_exporter": "python",
   "pygments_lexer": "ipython2",
   "version": "2.7.11"
  }
 },
 "nbformat": 4,
 "nbformat_minor": 0
}
