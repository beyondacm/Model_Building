{
 "cells": [
  {
   "cell_type": "code",
   "execution_count": 1,
   "metadata": {
    "collapsed": false
   },
   "outputs": [
    {
     "name": "stderr",
     "output_type": "stream",
     "text": [
      "A newer version of GraphLab Create (v1.8.5) is available! Your current version is v1.7.1.\n",
      "\n",
      "You can use pip to upgrade the graphlab-create package. For more information see https://dato.com/products/create/upgrade.\n",
      "[INFO] \u001b[1;32m1460080243 : INFO:     (initialize_globals_from_environment:282): Setting configuration variable GRAPHLAB_FILEIO_ALTERNATIVE_SSL_CERT_FILE to /home/zpgao/anaconda2/lib/python2.7/site-packages/certifi/cacert.pem\n",
      "\u001b[0m\u001b[1;32m1460080243 : INFO:     (initialize_globals_from_environment:282): Setting configuration variable GRAPHLAB_FILEIO_ALTERNATIVE_SSL_CERT_DIR to \n",
      "\u001b[0mThis non-commercial license of GraphLab Create is assigned to beyond_acm@163.com and will expire on January 04, 2017. For commercial licensing options, visit https://dato.com/buy/.\n",
      "\n",
      "[INFO] Start server at: ipc:///tmp/graphlab_server-3046 - Server binary: /home/zpgao/anaconda2/lib/python2.7/site-packages/graphlab/unity_server - Server log: /tmp/graphlab_server_1460080243.log\n",
      "[INFO] GraphLab Server Version: 1.7.1\n"
     ]
    }
   ],
   "source": [
    "import graphlab\n",
    "import pandas as pd\n",
    "import matplotlib.pyplot as plt\n",
    "%matplotlib inline"
   ]
  },
  {
   "cell_type": "code",
   "execution_count": 2,
   "metadata": {
    "collapsed": true
   },
   "outputs": [],
   "source": [
    "match_best = pd.read_csv('Normal_S2V_Topic/match_best.csv')\n",
    "match_second = pd.read_csv('Normal_S2V_Topic/match_second.csv')\n",
    "match_third = pd.read_csv('Normal_S2V_Topic/match_third.csv')\n",
    "\n",
    "non_match_best = pd.read_csv('Normal_S2V_Topic/non_match_best.csv')\n",
    "non_match_second = pd.read_csv('Normal_S2V_Topic/non_match_second.csv')\n",
    "non_match_third = pd.read_csv('Normal_S2V_Topic/non_match_third.csv')"
   ]
  },
  {
   "cell_type": "code",
   "execution_count": 3,
   "metadata": {
    "collapsed": true
   },
   "outputs": [],
   "source": [
    "# match_best > match_third \n",
    "positive01 = match_best.sub(match_third)\n",
    "# match_second < match_best\n",
    "negative01 = match_second.sub(match_best)\n",
    "\n",
    "# match_second > non_match_best\n",
    "positive02 = match_second.sub(non_match_best)\n",
    "# non_match_best < match_thrid\n",
    "negative02 = non_match_best.sub(match_third)\n",
    "\n",
    "# match_best > non_match_best\n",
    "positive03 = match_best.sub(non_match_best)\n",
    "# non_match_third < match_best\n",
    "negative03 = non_match_third.sub(match_best)\n",
    "\n",
    "# match_best > non_match_second\n",
    "positive04 = match_best.sub(non_match_second)\n",
    "# non_match_second < match_second\n",
    "negative04 = non_match_second.sub(match_second)\n",
    "\n",
    "# match_third > non_match_second\n",
    "positive05 = match_third.sub(non_match_second)\n",
    "# non_match_third < match_second\n",
    "negative05 = non_match_third.sub(match_second)"
   ]
  },
  {
   "cell_type": "code",
   "execution_count": 4,
   "metadata": {
    "collapsed": true
   },
   "outputs": [],
   "source": [
    "positive01['flag'] = 1\n",
    "positive02['flag'] = 1\n",
    "positive03['flag'] = 1\n",
    "positive04['flag'] = 1\n",
    "positive05['flag'] = 1\n",
    "\n",
    "negative01['flag'] = -1\n",
    "negative02['flag'] = -1\n",
    "negative03['flag'] = -1\n",
    "negative04['flag'] = -1\n",
    "negative05['flag'] = -1"
   ]
  },
  {
   "cell_type": "code",
   "execution_count": 5,
   "metadata": {
    "collapsed": false
   },
   "outputs": [],
   "source": [
    "dataset = pd.concat([positive01, negative01, \n",
    "                     positive02, negative02,\n",
    "                     positive03, negative03, \n",
    "                     positive04, negative04,\n",
    "                     positive05, negative05\n",
    "                    ], ignore_index=True)"
   ]
  },
  {
   "cell_type": "code",
   "execution_count": 6,
   "metadata": {
    "collapsed": false
   },
   "outputs": [],
   "source": [
    "# dataset"
   ]
  },
  {
   "cell_type": "code",
   "execution_count": 7,
   "metadata": {
    "collapsed": true
   },
   "outputs": [],
   "source": [
    "dataset = dataset.dropna()"
   ]
  },
  {
   "cell_type": "code",
   "execution_count": 8,
   "metadata": {
    "collapsed": true
   },
   "outputs": [],
   "source": [
    "# dataset"
   ]
  },
  {
   "cell_type": "code",
   "execution_count": 9,
   "metadata": {
    "collapsed": true
   },
   "outputs": [],
   "source": [
    "dataset.to_csv('Normal_S2V_Topic/raw_data.csv', encoding='utf-8', index = False)"
   ]
  },
  {
   "cell_type": "code",
   "execution_count": 10,
   "metadata": {
    "collapsed": false
   },
   "outputs": [
    {
     "name": "stdout",
     "output_type": "stream",
     "text": [
      "PROGRESS: Finished parsing file /home/zpgao/ML/Best_Answer/Model_Building/Normal_S2V_Topic/raw_data.csv\n",
      "PROGRESS: Parsing completed. Parsed 100 lines in 0.871875 secs.\n",
      "------------------------------------------------------\n",
      "Inferred types from first line of file as \n",
      "column_type_hints=[float,float,float,float,float,float,float,float,float,float,float,float,float,float,float,float,float,float,float,float,float,float,float,float,float,float,float,float,float,float,float,float,float,float,float,float,float,float,float,float,float,float,float,float,float,float,float,float,float,float,float,float,float,float,float,float,float,float,float,float,float,float,float,float,float,float,float,float,float,float,float,float,float,float,float,float,float,float,float,float,float,float,float,float,float,float,float,float,float,float,float,float,float,float,float,float,float,float,float,float,float,float,float,float,float,float,float,float,float,float,float,float,float,float,float,float,int]\n",
      "If parsing fails due to incorrect types, you can correct\n",
      "the inferred type list above and pass it to read_csv in\n",
      "the column_type_hints argument\n",
      "------------------------------------------------------\n",
      "PROGRESS: Finished parsing file /home/zpgao/ML/Best_Answer/Model_Building/Normal_S2V_Topic/raw_data.csv\n",
      "PROGRESS: Parsing completed. Parsed 33400 lines in 0.972042 secs.\n"
     ]
    }
   ],
   "source": [
    "raw_data = graphlab.SFrame.read_csv('Normal_S2V_Topic/raw_data.csv')"
   ]
  },
  {
   "cell_type": "code",
   "execution_count": 11,
   "metadata": {
    "collapsed": true
   },
   "outputs": [],
   "source": [
    "train_valid, test = raw_data.random_split(0.9, seed=0.3)\n",
    "train_valid_shuffled = graphlab.toolkits.cross_validation.shuffle(train_valid, random_seed=0.3)\n",
    "\n",
    "train_valid.save('Normal_S2V_Topic/Train_valid.csv', format='csv')\n",
    "test.save('Normal_S2V_Topic/Test.csv', format='csv')"
   ]
  },
  {
   "cell_type": "code",
   "execution_count": 12,
   "metadata": {
    "collapsed": false
   },
   "outputs": [],
   "source": [
    "# train_valid"
   ]
  },
  {
   "cell_type": "code",
   "execution_count": 13,
   "metadata": {
    "collapsed": false
   },
   "outputs": [
    {
     "name": "stdout",
     "output_type": "stream",
     "text": [
      "['len_answer_content', 'len_user_intro', 'len_question_content', 'user_exp', 'len_user_edu', 'num_user_interst', 'num_user_followed', 'num_question_tags', 'num_user_saved', 'num_user_thanks', 'num_user_agrees', 'num_user_helped', 'num_user_recommend', 'answer_question_overlap', 'question_uinterest_overlap', 'uinterest_answer_overlap', 's2v_0', 's2v_1', 's2v_2', 's2v_3', 's2v_4', 's2v_5', 's2v_6', 's2v_7', 's2v_8', 's2v_9', 's2v_10', 's2v_11', 's2v_12', 's2v_13', 's2v_14', 's2v_15', 's2v_16', 's2v_17', 's2v_18', 's2v_19', 's2v_20', 's2v_21', 's2v_22', 's2v_23', 's2v_24', 's2v_25', 's2v_26', 's2v_27', 's2v_28', 's2v_29', 's2v_30', 's2v_31', 's2v_32', 's2v_33', 's2v_34', 's2v_35', 's2v_36', 's2v_37', 's2v_38', 's2v_39', 's2v_40', 's2v_41', 's2v_42', 's2v_43', 's2v_44', 's2v_45', 's2v_46', 's2v_47', 's2v_48', 's2v_49', 'topic_0', 'topic_1', 'topic_2', 'topic_3', 'topic_4', 'topic_5', 'topic_6', 'topic_7', 'topic_8', 'topic_9', 'topic_10', 'topic_11', 'topic_12', 'topic_13', 'topic_14', 'topic_15', 'topic_16', 'topic_17', 'topic_18', 'topic_19', 'topic_20', 'topic_21', 'topic_22', 'topic_23', 'topic_24', 'topic_25', 'topic_26', 'topic_27', 'topic_28', 'topic_29', 'topic_30', 'topic_31', 'topic_32', 'topic_33', 'topic_34', 'topic_35', 'topic_36', 'topic_37', 'topic_38', 'topic_39', 'topic_40', 'topic_41', 'topic_42', 'topic_43', 'topic_44', 'topic_45', 'topic_46', 'topic_47', 'topic_48', 'topic_49', 'flag']\n",
      "['len_answer_content', 'len_user_intro', 'len_question_content', 'user_exp', 'len_user_edu', 'num_user_interst', 'num_user_followed', 'num_question_tags', 'num_user_saved', 'num_user_thanks', 'num_user_agrees', 'num_user_helped', 'num_user_recommend', 'answer_question_overlap', 'question_uinterest_overlap', 'uinterest_answer_overlap', 's2v_0', 's2v_1', 's2v_2', 's2v_3', 's2v_4', 's2v_5', 's2v_6', 's2v_7', 's2v_8', 's2v_9', 's2v_10', 's2v_11', 's2v_12', 's2v_13', 's2v_14', 's2v_15', 's2v_16', 's2v_17', 's2v_18', 's2v_19', 's2v_20', 's2v_21', 's2v_22', 's2v_23', 's2v_24', 's2v_25', 's2v_26', 's2v_27', 's2v_28', 's2v_29', 's2v_30', 's2v_31', 's2v_32', 's2v_33', 's2v_34', 's2v_35', 's2v_36', 's2v_37', 's2v_38', 's2v_39', 's2v_40', 's2v_41', 's2v_42', 's2v_43', 's2v_44', 's2v_45', 's2v_46', 's2v_47', 's2v_48', 's2v_49', 'topic_0', 'topic_1', 'topic_2', 'topic_3', 'topic_4', 'topic_5', 'topic_6', 'topic_7', 'topic_8', 'topic_9', 'topic_10', 'topic_11', 'topic_12', 'topic_13', 'topic_14', 'topic_15', 'topic_16', 'topic_17', 'topic_18', 'topic_19', 'topic_20', 'topic_21', 'topic_22', 'topic_23', 'topic_24', 'topic_25', 'topic_26', 'topic_27', 'topic_28', 'topic_29', 'topic_30', 'topic_31', 'topic_32', 'topic_33', 'topic_34', 'topic_35', 'topic_36', 'topic_37', 'topic_38', 'topic_39', 'topic_40', 'topic_41', 'topic_42', 'topic_43', 'topic_44', 'topic_45', 'topic_46', 'topic_47', 'topic_48', 'topic_49']\n",
      "116\n"
     ]
    }
   ],
   "source": [
    "# get all the features\n",
    "all_features = train_valid_shuffled.column_names()\n",
    "# need to pop and 'flag' \n",
    "print all_features\n",
    "all_features.pop(-1)\n",
    "print all_features\n",
    "all_features\n",
    "print len(all_features)"
   ]
  },
  {
   "cell_type": "markdown",
   "metadata": {},
   "source": [
    "# Selecting L1 penalty via the k cross validation "
   ]
  },
  {
   "cell_type": "code",
   "execution_count": 12,
   "metadata": {
    "collapsed": false
   },
   "outputs": [
    {
     "name": "stdout",
     "output_type": "stream",
     "text": [
      "0 (0, 3000)\n",
      "1 (3001, 6001)\n",
      "2 (6002, 9003)\n",
      "3 (9004, 12004)\n",
      "4 (12005, 15006)\n",
      "5 (15007, 18007)\n",
      "6 (18008, 21008)\n",
      "7 (21009, 24010)\n",
      "8 (24011, 27011)\n",
      "9 (27012, 30013)\n"
     ]
    }
   ],
   "source": [
    "n = len(train_valid_shuffled)\n",
    "k = 10 \n",
    "\n",
    "for i in xrange(k):\n",
    "    start = (n*i)/k\n",
    "    end = (n*(i+1))/k-1\n",
    "    print i, (start, end)"
   ]
  },
  {
   "cell_type": "markdown",
   "metadata": {},
   "source": [
    "After designating one of the k segments as the validation set, we train a model using the rest of the data. To choose the reaminder, we slice (0:start) && (end+1:n) of the data and paste them together. SFrame append() method can pastes together tow disjoint sets of rows originating from a common dataset."
   ]
  },
  {
   "cell_type": "code",
   "execution_count": 13,
   "metadata": {
    "collapsed": true
   },
   "outputs": [],
   "source": [
    "# implement the k-fold-cross-validation \n",
    "def k_fold_cross_validation(k, penalty, data, target, features_list):\n",
    "    sum_validation_accuracy = 0\n",
    "    n = len(data)\n",
    "    for i in xrange(k):\n",
    "        start = (n*i) / k\n",
    "        end = ( n*(i+1) ) / k\n",
    "        validation_set = data[start:end+1]\n",
    "        training_set = data[0:start].append( data[end+1:n] )\n",
    "        svm_model = graphlab.svm_classifier.create( training_set, \n",
    "                                                    target = target, \n",
    "                                                    features = features_list,\n",
    "                                                    penalty = penalty,\n",
    "                                                    validation_set = None, \n",
    "                                                    max_iterations = 20,\n",
    "                                                    verbose = False)\n",
    "        results = svm_model.evaluate(validation_set)\n",
    "        validation_acc = results['accuracy']\n",
    "        \n",
    "        sum_validation_accuracy = sum_validation_accuracy + validation_acc\n",
    "        \n",
    "    average_validation_accuracy = (sum_validation_accuracy) / k\n",
    "    return average_validation_accuracy"
   ]
  },
  {
   "cell_type": "markdown",
   "metadata": {},
   "source": [
    "We can write a loop to find the model that maximizes the average_validation_accuracy\n",
    "- For penalty in [10^1, 10^1.5, 10^2, 10^2.5, ..., 10^7]\n",
    "- Run the 10-fold corss-validation with the penalty"
   ]
  },
  {
   "cell_type": "code",
   "execution_count": 16,
   "metadata": {
    "collapsed": false
   },
   "outputs": [
    {
     "name": "stdout",
     "output_type": "stream",
     "text": [
      "penalty :0.1 accuracy:0.955500894841\n",
      "\n",
      "penalty :0.3 accuracy:0.955301050271\n",
      "\n",
      "penalty :1.0 accuracy:0.955534183782\n",
      "\n",
      "penalty :3.3 accuracy:0.955334317027\n",
      "\n",
      "penalty :10.0 accuracy:0.955334328119\n",
      "\n",
      "penalty :33.3 accuracy:0.955334328119\n",
      "\n",
      "penalty :100.0 accuracy:0.955334328119\n",
      "\n"
     ]
    }
   ],
   "source": [
    "average_validation_acc_dict = {}\n",
    "\n",
    "penalty = 0.1\n",
    "val_acc = k_fold_cross_validation(10, penalty, train_valid_shuffled, 'flag', all_features)\n",
    "print 'penalty :' + str(penalty) + ' accuracy:' + str(val_acc) + '\\n'\n",
    "average_validation_acc_dict[penalty] = val_acc\n",
    "\n",
    "penalty = 0.3\n",
    "val_acc = k_fold_cross_validation(10, penalty, train_valid_shuffled, 'flag', all_features)\n",
    "print 'penalty :' + str(penalty) + ' accuracy:' + str(val_acc) + '\\n'\n",
    "average_validation_acc_dict[penalty] = val_acc\n",
    "\n",
    "penalty = 1.0\n",
    "val_acc = k_fold_cross_validation(10, penalty, train_valid_shuffled, 'flag', all_features)\n",
    "print 'penalty :' + str(penalty) + ' accuracy:' + str(val_acc) + '\\n'\n",
    "average_validation_acc_dict[penalty] = val_acc\n",
    "\n",
    "penalty = 3.3\n",
    "val_acc = k_fold_cross_validation(10, penalty, train_valid_shuffled, 'flag', all_features)\n",
    "print 'penalty :' + str(penalty) + ' accuracy:' + str(val_acc) + '\\n'\n",
    "average_validation_acc_dict[penalty] = val_acc\n",
    "\n",
    "penalty = 10.0\n",
    "val_acc = k_fold_cross_validation(10, penalty, train_valid_shuffled, 'flag', all_features)\n",
    "print 'penalty :' + str(penalty) + ' accuracy:' + str(val_acc) + '\\n'\n",
    "average_validation_acc_dict[penalty] = val_acc\n",
    "\n",
    "penalty = 33.3\n",
    "val_acc = k_fold_cross_validation(10, penalty, train_valid_shuffled, 'flag', all_features)\n",
    "print 'penalty :' + str(penalty) + ' accuracy:' + str(val_acc) + '\\n'\n",
    "average_validation_acc_dict[penalty] = val_acc\n",
    "\n",
    "penalty = 100.0\n",
    "val_acc = k_fold_cross_validation(10, penalty, train_valid_shuffled, 'flag', all_features)\n",
    "print 'penalty :' + str(penalty) + ' accuracy:' + str(val_acc) + '\\n'\n",
    "average_validation_acc_dict[penalty] = val_acc"
   ]
  },
  {
   "cell_type": "code",
   "execution_count": 17,
   "metadata": {
    "collapsed": false
   },
   "outputs": [
    {
     "name": "stdout",
     "output_type": "stream",
     "text": [
      "{1.0: 0.9555341837820187, 100.0: 0.9553343281191383, 0.1: 0.9555008948413345, 10.0: 0.9553343281191383, 0.3: 0.9553010502710704, 3.3: 0.955334317026522, 33.3: 0.9553343281191383}\n",
      "+---------+---------------------+\n",
      "| penalty | validation_accuracy |\n",
      "+---------+---------------------+\n",
      "|   1.0   |    0.955534183782   |\n",
      "|  100.0  |    0.955334328119   |\n",
      "|   0.1   |    0.955500894841   |\n",
      "|   10.0  |    0.955334328119   |\n",
      "|   0.3   |    0.955301050271   |\n",
      "|   3.3   |    0.955334317027   |\n",
      "|   33.3  |    0.955334328119   |\n",
      "+---------+---------------------+\n",
      "[7 rows x 2 columns]\n",
      "\n"
     ]
    },
    {
     "data": {
      "image/png": "[encoded data removed]",
      "text/plain": [
       "<matplotlib.figure.Figure at 0x7fdf2e2aead0>"
      ]
     },
     "metadata": {},
     "output_type": "display_data"
    }
   ],
   "source": [
    "# Plot the penalty in x axis and the cross-validation-accuracy in the y axis\n",
    "# using plt.xscale('log') will make your plot more intuitive\n",
    "print average_validation_acc_dict\n",
    "\n",
    "penalty = graphlab.SArray( average_validation_acc_dict.keys() )\n",
    "validation_accuracy = graphlab.SArray( average_validation_acc_dict.values() )\n",
    "\n",
    "sf = graphlab.SFrame({'penalty':penalty,'validation_accuracy':validation_accuracy})\n",
    "print sf \n",
    "\n",
    "plt.plot(sf['penalty'], sf['validation_accuracy'], 'k.')\n",
    "plt.xscale('log')\n"
   ]
  },
  {
   "cell_type": "code",
   "execution_count": 14,
   "metadata": {
    "collapsed": false
   },
   "outputs": [
    {
     "name": "stdout",
     "output_type": "stream",
     "text": [
      "PROGRESS: WARNING: Detected extremely low variance for feature(s) 'len_question_content', 'num_question_tags' because all entries are nearly the same.\n",
      "Proceeding with model training using all features. If the model does not provide results of adequate quality, exclude the above mentioned feature(s) from the input dataset.\n",
      "PROGRESS: SVM:\n",
      "PROGRESS: --------------------------------------------------------\n",
      "PROGRESS: Number of examples          : 30014\n",
      "PROGRESS: Number of classes           : 2\n",
      "PROGRESS: Number of feature columns   : 116\n",
      "PROGRESS: Number of unpacked features : 116\n",
      "PROGRESS: Number of coefficients    : 117\n",
      "PROGRESS: Starting L-BFGS\n",
      "PROGRESS: --------------------------------------------------------\n",
      "PROGRESS: +-----------+----------+-----------+--------------+-------------------+\n",
      "PROGRESS: | Iteration | Passes   | Step size | Elapsed Time | Training-accuracy |\n",
      "PROGRESS: +-----------+----------+-----------+--------------+-------------------+\n",
      "PROGRESS: | 1         | 3        | 0.000033  | 1.178784     | 0.888519          |\n",
      "PROGRESS: | 2         | 5        | 1.000000  | 1.344151     | 0.909509          |\n",
      "PROGRESS: | 3         | 6        | 1.000000  | 1.436545     | 0.922769          |\n",
      "PROGRESS: | 4         | 7        | 1.000000  | 1.522651     | 0.934431          |\n",
      "PROGRESS: | 5         | 8        | 1.000000  | 1.618819     | 0.939861          |\n",
      "PROGRESS: | 6         | 9        | 1.000000  | 1.699624     | 0.946758          |\n",
      "PROGRESS: | 10        | 13       | 1.000000  | 2.013570     | 0.956920          |\n",
      "PROGRESS: | 11        | 14       | 1.000000  | 2.104458     | 0.958186          |\n",
      "PROGRESS: | 20        | 23       | 1.000000  | 2.881740     | 0.957886          |\n",
      "PROGRESS: | 30        | 33       | 1.000000  | 3.738144     | 0.958020          |\n",
      "PROGRESS: | 40        | 44       | 1.000000  | 4.619503     | 0.957953          |\n",
      "PROGRESS: | 50        | 55       | 1.000000  | 5.675512     | 0.957953          |\n",
      "PROGRESS: | 51        | 56       | 1.000000  | 5.756829     | 0.957953          |\n",
      "PROGRESS: | 60        | 67       | 1.000000  | 6.689597     | 0.957953          |\n",
      "PROGRESS: +-----------+----------+-----------+--------------+-------------------+\n",
      "PROGRESS: SUCCESS: Optimal solution found.\n",
      "PROGRESS:\n"
     ]
    }
   ],
   "source": [
    "final_model = graphlab.svm_classifier.create( train_valid_shuffled, \n",
    "                                              target = 'flag', \n",
    "                                              features = all_features,\n",
    "                                              penalty = 1.0,\n",
    "                                              validation_set = None, \n",
    "                                              max_iterations = 100)"
   ]
  },
  {
   "cell_type": "code",
   "execution_count": 15,
   "metadata": {
    "collapsed": false
   },
   "outputs": [
    {
     "name": "stdout",
     "output_type": "stream",
     "text": [
      "+----------------------------+-------+-------+-------------------+\n",
      "|            name            | index | class |       value       |\n",
      "+----------------------------+-------+-------+-------------------+\n",
      "|        (intercept)         |  None |   1   |  -0.204319720723  |\n",
      "|     len_answer_content     |  None |   1   |   0.428898366775  |\n",
      "|       len_user_intro       |  None |   1   |   -1.88476941696  |\n",
      "|    len_question_content    |  None |   1   |        0.0        |\n",
      "|          user_exp          |  None |   1   |  -0.0621154229861 |\n",
      "|        len_user_edu        |  None |   1   |  -0.0380260993054 |\n",
      "|      num_user_interst      |  None |   1   |   -1.65790763059  |\n",
      "|     num_user_followed      |  None |   1   |   0.070703903979  |\n",
      "|     num_question_tags      |  None |   1   |        0.0        |\n",
      "|       num_user_saved       |  None |   1   |   -1.3606192562   |\n",
      "|      num_user_thanks       |  None |   1   |   0.496945903665  |\n",
      "|      num_user_agrees       |  None |   1   |   -2.42739501363  |\n",
      "|      num_user_helped       |  None |   1   |   1.77587930843   |\n",
      "|     num_user_recommend     |  None |   1   |   1.21864368565   |\n",
      "|  answer_question_overlap   |  None |   1   |   2.92076997182   |\n",
      "| question_uinterest_overlap |  None |   1   |   -2.14788931156  |\n",
      "|  uinterest_answer_overlap  |  None |   1   |   1.25505570944   |\n",
      "|           s2v_0            |  None |   1   |   0.135551231318  |\n",
      "|           s2v_1            |  None |   1   |  -0.566025783877  |\n",
      "|           s2v_2            |  None |   1   |   0.424453247017  |\n",
      "|           s2v_3            |  None |   1   |   0.261617081263  |\n",
      "|           s2v_4            |  None |   1   |   0.259550999326  |\n",
      "|           s2v_5            |  None |   1   |  -0.0747171529356 |\n",
      "|           s2v_6            |  None |   1   |   0.251039745127  |\n",
      "|           s2v_7            |  None |   1   |  -0.256519588683  |\n",
      "|           s2v_8            |  None |   1   |   0.257217478442  |\n",
      "|           s2v_9            |  None |   1   |   0.432117658039  |\n",
      "|           s2v_10           |  None |   1   |   0.147334295002  |\n",
      "|           s2v_11           |  None |   1   |  -0.118181725669  |\n",
      "|           s2v_12           |  None |   1   |   0.111692162665  |\n",
      "|           s2v_13           |  None |   1   |   0.325698407292  |\n",
      "|           s2v_14           |  None |   1   |  -0.0171303096467 |\n",
      "|           s2v_15           |  None |   1   |  -0.575406538395  |\n",
      "|           s2v_16           |  None |   1   |  -0.845582346648  |\n",
      "|           s2v_17           |  None |   1   |  0.0412251560055  |\n",
      "|           s2v_18           |  None |   1   |  -0.190583766656  |\n",
      "|           s2v_19           |  None |   1   |   0.230362639816  |\n",
      "|           s2v_20           |  None |   1   |   1.03669799702   |\n",
      "|           s2v_21           |  None |   1   |  -0.675395872697  |\n",
      "|           s2v_22           |  None |   1   |  -0.0790501348697 |\n",
      "|           s2v_23           |  None |   1   |   0.175991251429  |\n",
      "|           s2v_24           |  None |   1   |  -0.561540230258  |\n",
      "|           s2v_25           |  None |   1   |  -0.106235705404  |\n",
      "|           s2v_26           |  None |   1   |   0.345882839909  |\n",
      "|           s2v_27           |  None |   1   |   0.376162192685  |\n",
      "|           s2v_28           |  None |   1   |   0.367912615832  |\n",
      "|           s2v_29           |  None |   1   |  -0.379015490678  |\n",
      "|           s2v_30           |  None |   1   |   0.18266447458   |\n",
      "|           s2v_31           |  None |   1   |  -0.285502796977  |\n",
      "|           s2v_32           |  None |   1   |  -0.355783409269  |\n",
      "|           s2v_33           |  None |   1   |  -0.178710827763  |\n",
      "|           s2v_34           |  None |   1   |    -0.098840404   |\n",
      "|           s2v_35           |  None |   1   |  -0.574717146608  |\n",
      "|           s2v_36           |  None |   1   |   -1.30439903607  |\n",
      "|           s2v_37           |  None |   1   |  -0.0637021200387 |\n",
      "|           s2v_38           |  None |   1   | -0.00901798296776 |\n",
      "|           s2v_39           |  None |   1   |  -0.628119673432  |\n",
      "|           s2v_40           |  None |   1   |   0.15692984164   |\n",
      "|           s2v_41           |  None |   1   |  -0.332196562855  |\n",
      "|           s2v_42           |  None |   1   |  -0.0842160689064 |\n",
      "|           s2v_43           |  None |   1   |  -0.249113558357  |\n",
      "|           s2v_44           |  None |   1   |  -0.0804394524311 |\n",
      "|           s2v_45           |  None |   1   |    0.1755284459   |\n",
      "|           s2v_46           |  None |   1   |  -0.379717465027  |\n",
      "|           s2v_47           |  None |   1   |   0.476825229165  |\n",
      "|           s2v_48           |  None |   1   |   -0.11627732038  |\n",
      "|           s2v_49           |  None |   1   |   0.348694166295  |\n",
      "|          topic_0           |  None |   1   |   -6.44327651298  |\n",
      "|          topic_1           |  None |   1   |   -5.50793420756  |\n",
      "|          topic_2           |  None |   1   |   -4.69781672963  |\n",
      "|          topic_3           |  None |   1   |   -1.06022158232  |\n",
      "|          topic_4           |  None |   1   |   -6.67005957318  |\n",
      "|          topic_5           |  None |   1   |   -5.70476209215  |\n",
      "|          topic_6           |  None |   1   |   -4.95865323939  |\n",
      "|          topic_7           |  None |   1   |   -4.94495704977  |\n",
      "|          topic_8           |  None |   1   |   -5.09501852753  |\n",
      "|          topic_9           |  None |   1   |   -5.67160025573  |\n",
      "|          topic_10          |  None |   1   |   -8.82013356988  |\n",
      "|          topic_11          |  None |   1   |   -6.78827174347  |\n",
      "|          topic_12          |  None |   1   |   -6.52026851793  |\n",
      "|          topic_13          |  None |   1   |   -5.7425893155   |\n",
      "|          topic_14          |  None |   1   |   -6.59917213393  |\n",
      "|          topic_15          |  None |   1   |   -3.33396369146  |\n",
      "|          topic_16          |  None |   1   |   -5.79299289271  |\n",
      "|          topic_17          |  None |   1   |   -6.2007286883   |\n",
      "|          topic_18          |  None |   1   |   -4.7524072206   |\n",
      "|          topic_19          |  None |   1   |   -7.16117947974  |\n",
      "|          topic_20          |  None |   1   |   -6.83450143001  |\n",
      "|          topic_21          |  None |   1   |   -2.40874363071  |\n",
      "|          topic_22          |  None |   1   |   -4.71682014336  |\n",
      "|          topic_23          |  None |   1   |   -6.40916586393  |\n",
      "|          topic_24          |  None |   1   |   -6.73718634626  |\n",
      "|          topic_25          |  None |   1   |   -8.91967018668  |\n",
      "|          topic_26          |  None |   1   |   -4.05270979814  |\n",
      "|          topic_27          |  None |   1   |   -5.36893187824  |\n",
      "|          topic_28          |  None |   1   |   -2.14124259199  |\n",
      "|          topic_29          |  None |   1   |   -2.59402109739  |\n",
      "|          topic_30          |  None |   1   |   -6.42028741206  |\n",
      "|          topic_31          |  None |   1   |   -9.01256315751  |\n",
      "|          topic_32          |  None |   1   |   -7.48191515672  |\n",
      "+----------------------------+-------+-------+-------------------+\n",
      "[117 rows x 4 columns]\n",
      "\n"
     ]
    }
   ],
   "source": [
    "final_model.get('coefficients').print_rows(num_rows=100)"
   ]
  },
  {
   "cell_type": "code",
   "execution_count": 16,
   "metadata": {
    "collapsed": false
   },
   "outputs": [],
   "source": [
    "results = final_model.evaluate(test)"
   ]
  },
  {
   "cell_type": "code",
   "execution_count": 17,
   "metadata": {
    "collapsed": false
   },
   "outputs": [],
   "source": [
    "# test"
   ]
  },
  {
   "cell_type": "code",
   "execution_count": 18,
   "metadata": {
    "collapsed": false
   },
   "outputs": [
    {
     "name": "stdout",
     "output_type": "stream",
     "text": [
      "{'f1_score': 0.962367135880494, 'recall': 0.9654178674351584, 'confusion_matrix': Columns:\n",
      "\ttarget_label\tint\n",
      "\tpredicted_label\tint\n",
      "\tcount\tint\n",
      "\n",
      "Rows: 4\n",
      "\n",
      "Data:\n",
      "+--------------+-----------------+-------+\n",
      "| target_label | predicted_label | count |\n",
      "+--------------+-----------------+-------+\n",
      "|      -1      |        1        |   71  |\n",
      "|      -1      |        -1       |  1580 |\n",
      "|      1       |        -1       |   60  |\n",
      "|      1       |        1        |  1675 |\n",
      "+--------------+-----------------+-------+\n",
      "[4 rows x 3 columns]\n",
      ", 'precision': 0.9593356242840779, 'accuracy': 0.9613112817483757}\n"
     ]
    }
   ],
   "source": [
    "print results"
   ]
  },
  {
   "cell_type": "code",
   "execution_count": 19,
   "metadata": {
    "collapsed": true
   },
   "outputs": [],
   "source": [
    "coefficients =  final_model.coefficients['value'].to_numpy()"
   ]
  },
  {
   "cell_type": "code",
   "execution_count": 20,
   "metadata": {
    "collapsed": true
   },
   "outputs": [],
   "source": [
    "test0 = pd.read_csv('./Normal_S2V_Topic/test0.csv')\n",
    "test1 = pd.read_csv('./Normal_S2V_Topic/test1.csv')\n",
    "test2 = pd.read_csv('./Normal_S2V_Topic/test2.csv')"
   ]
  },
  {
   "cell_type": "code",
   "execution_count": 21,
   "metadata": {
    "collapsed": false
   },
   "outputs": [],
   "source": [
    "test0 = test0.fillna(0)\n",
    "test1 = test1.fillna(0)\n",
    "test2 = test2.fillna(0)\n",
    "# test : 3368 x 117\n",
    "# len(test0)"
   ]
  },
  {
   "cell_type": "code",
   "execution_count": 25,
   "metadata": {
    "collapsed": false
   },
   "outputs": [],
   "source": [
    "from numpy import array\n",
    "# t0 = array( [1.] + test0.iloc[[0]].values.tolist()[0] )\n",
    "# t1 = array( [1.] + test0.iloc[[1]].values.tolist()[0] )\n",
    "# s0 = t0 - t1"
   ]
  },
  {
   "cell_type": "code",
   "execution_count": 26,
   "metadata": {
    "collapsed": false
   },
   "outputs": [],
   "source": [
    "# t0.shape"
   ]
  },
  {
   "cell_type": "code",
   "execution_count": 27,
   "metadata": {
    "collapsed": true
   },
   "outputs": [],
   "source": [
    "def score(coefficients, answer0, answer1):\n",
    "    sub = answer0 - answer1\n",
    "    score = sub.dot(coefficients)\n",
    "    if score >= 0:\n",
    "        return 1\n",
    "    else :\n",
    "        return -1"
   ]
  },
  {
   "cell_type": "code",
   "execution_count": 29,
   "metadata": {
    "collapsed": false
   },
   "outputs": [],
   "source": [
    "import operator\n",
    "import collections, math\n",
    "A_0_score = 0\n",
    "# print test0.icol[[30]]\n",
    "\n",
    "def Rank_List( AnswerList ):\n",
    "    Score_Map = collections.defaultdict(lambda : 0)\n",
    "    for i in range( len(AnswerList) - 1 ):\n",
    "\n",
    "        for j in range(i+1, len(AnswerList) ):\n",
    "\n",
    "            #print (i, j)\n",
    "\n",
    "            answer_i = array( [1.] + AnswerList.iloc[[i]].values.tolist()[0] )\n",
    "            answer_j = array( [1.] + AnswerList.iloc[[j]].values.tolist()[0] )\n",
    "\n",
    "            key_i = 'A_' + str(i) + '_score'\n",
    "            key_j = 'A_' + str(j) + '_score'\n",
    "\n",
    "            value_i = 0\n",
    "            value_j = 0\n",
    "            value_i += score(coefficients, answer_i, answer_j) \n",
    "            value_j -= score(coefficients, answer_i, answer_j)\n",
    "\n",
    "            Score_Map[key_i] += value_i\n",
    "            Score_Map[key_j] += value_j\n",
    "    \n",
    "    Sorted_scores = sorted(Score_Map.items(), key=operator.itemgetter(1), reverse=True)\n",
    "    return Sorted_scores\n",
    "    "
   ]
  },
  {
   "cell_type": "code",
   "execution_count": 32,
   "metadata": {
    "collapsed": false
   },
   "outputs": [],
   "source": [
    "# import operator\n",
    "# sorted_scores = sorted(Score_Map.items(), key=operator.itemgetter(1), reverse=True)\n",
    "\n",
    "A0_List = Rank_List( test0 )\n",
    "A1_List = Rank_List( test1 )\n",
    "A2_List = Rank_List( test2 )"
   ]
  },
  {
   "cell_type": "code",
   "execution_count": 31,
   "metadata": {
    "collapsed": false
   },
   "outputs": [
    {
     "data": {
      "text/plain": [
       "[('A_11_score', 29),\n",
       " ('A_15_score', 27),\n",
       " ('A_13_score', 25),\n",
       " ('A_17_score', 23),\n",
       " ('A_0_score', 21),\n",
       " ('A_8_score', 19),\n",
       " ('A_5_score', 17),\n",
       " ('A_26_score', 15),\n",
       " ('A_27_score', 13),\n",
       " ('A_6_score', 11),\n",
       " ('A_1_score', 9),\n",
       " ('A_9_score', 7),\n",
       " ('A_7_score', 5),\n",
       " ('A_24_score', 3),\n",
       " ('A_23_score', 1),\n",
       " ('A_10_score', -1),\n",
       " ('A_3_score', -3),\n",
       " ('A_12_score', -5),\n",
       " ('A_16_score', -7),\n",
       " ('A_18_score', -9),\n",
       " ('A_22_score', -11),\n",
       " ('A_28_score', -13),\n",
       " ('A_2_score', -15),\n",
       " ('A_29_score', -17),\n",
       " ('A_21_score', -19),\n",
       " ('A_19_score', -21),\n",
       " ('A_14_score', -23),\n",
       " ('A_20_score', -25),\n",
       " ('A_4_score', -27),\n",
       " ('A_25_score', -29)]"
      ]
     },
     "execution_count": 31,
     "metadata": {},
     "output_type": "execute_result"
    }
   ],
   "source": [
    "A0_List"
   ]
  },
  {
   "cell_type": "code",
   "execution_count": 33,
   "metadata": {
    "collapsed": false
   },
   "outputs": [
    {
     "data": {
      "text/plain": [
       "[('A_7_score', 29),\n",
       " ('A_18_score', 27),\n",
       " ('A_26_score', 25),\n",
       " ('A_0_score', 23),\n",
       " ('A_28_score', 21),\n",
       " ('A_25_score', 19),\n",
       " ('A_19_score', 17),\n",
       " ('A_11_score', 15),\n",
       " ('A_24_score', 13),\n",
       " ('A_1_score', 11),\n",
       " ('A_21_score', 9),\n",
       " ('A_4_score', 7),\n",
       " ('A_29_score', 5),\n",
       " ('A_15_score', 3),\n",
       " ('A_2_score', 1),\n",
       " ('A_14_score', -1),\n",
       " ('A_17_score', -3),\n",
       " ('A_3_score', -5),\n",
       " ('A_9_score', -7),\n",
       " ('A_8_score', -9),\n",
       " ('A_10_score', -11),\n",
       " ('A_13_score', -13),\n",
       " ('A_22_score', -15),\n",
       " ('A_23_score', -17),\n",
       " ('A_16_score', -19),\n",
       " ('A_6_score', -21),\n",
       " ('A_20_score', -23),\n",
       " ('A_5_score', -25),\n",
       " ('A_12_score', -27),\n",
       " ('A_27_score', -29)]"
      ]
     },
     "execution_count": 33,
     "metadata": {},
     "output_type": "execute_result"
    }
   ],
   "source": [
    "A1_List"
   ]
  },
  {
   "cell_type": "code",
   "execution_count": 34,
   "metadata": {
    "collapsed": false
   },
   "outputs": [
    {
     "data": {
      "text/plain": [
       "[('A_0_score', 29),\n",
       " ('A_13_score', 27),\n",
       " ('A_20_score', 25),\n",
       " ('A_16_score', 23),\n",
       " ('A_10_score', 21),\n",
       " ('A_5_score', 19),\n",
       " ('A_15_score', 17),\n",
       " ('A_28_score', 15),\n",
       " ('A_25_score', 13),\n",
       " ('A_23_score', 11),\n",
       " ('A_18_score', 9),\n",
       " ('A_22_score', 7),\n",
       " ('A_3_score', 5),\n",
       " ('A_6_score', 3),\n",
       " ('A_4_score', 1),\n",
       " ('A_11_score', -1),\n",
       " ('A_26_score', -3),\n",
       " ('A_24_score', -5),\n",
       " ('A_7_score', -7),\n",
       " ('A_21_score', -9),\n",
       " ('A_14_score', -11),\n",
       " ('A_12_score', -13),\n",
       " ('A_17_score', -15),\n",
       " ('A_19_score', -17),\n",
       " ('A_9_score', -19),\n",
       " ('A_8_score', -21),\n",
       " ('A_1_score', -23),\n",
       " ('A_2_score', -25),\n",
       " ('A_27_score', -27),\n",
       " ('A_29_score', -29)]"
      ]
     },
     "execution_count": 34,
     "metadata": {},
     "output_type": "execute_result"
    }
   ],
   "source": [
    "A2_List"
   ]
  },
  {
   "cell_type": "code",
   "execution_count": null,
   "metadata": {
    "collapsed": true
   },
   "outputs": [],
   "source": []
  }
 ],
 "metadata": {
  "kernelspec": {
   "display_name": "Python 2",
   "language": "python",
   "name": "python2"
  },
  "language_info": {
   "codemirror_mode": {
    "name": "ipython",
    "version": 2
   },
   "file_extension": ".py",
   "mimetype": "text/x-python",
   "name": "python",
   "nbconvert_exporter": "python",
   "pygments_lexer": "ipython2",
   "version": "2.7.11"
  }
 },
 "nbformat": 4,
 "nbformat_minor": 0
}
