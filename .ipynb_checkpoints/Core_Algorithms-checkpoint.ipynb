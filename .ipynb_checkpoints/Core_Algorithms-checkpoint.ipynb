{
 "cells": [
  {
   "cell_type": "code",
   "execution_count": 1,
   "metadata": {
    "collapsed": true
   },
   "outputs": [],
   "source": [
    "import pandas as pd\n",
    "import numpy as np"
   ]
  },
  {
   "cell_type": "code",
   "execution_count": 2,
   "metadata": {
    "collapsed": false
   },
   "outputs": [],
   "source": [
    "# Before you doing this, you need to remove the first line(header) of the below file\n",
    "match_best = pd.read_csv('Algorithm/match_best.csv', header=None)\n",
    "match_second = pd.read_csv('Algorithm/match_second.csv', header=None)\n",
    "match_third = pd.read_csv('Algorithm/match_third.csv', header=None)\n",
    "raw_data = pd.read_csv('Algorithm/raw_data.csv', header=None)\n",
    "Training_data = pd.read_csv('Algorithm/training_data.csv', header=None)\n",
    "Testing_data = pd.read_csv('Algorithm/testing_data.csv', header=None)\n",
    "\n",
    "similar01_best = pd.read_csv('Algorithm/similar01_best.csv', header=None)\n",
    "similar01_second = pd.read_csv('Algorithm/similar01_second.csv', header=None)\n",
    "similar01_third = pd.read_csv('Algorithm/similar01_third.csv', header=None)\n",
    "\n",
    "similar02_best = pd.read_csv('Algorithm/similar02_best.csv', header=None)\n",
    "similar02_second = pd.read_csv('Algorithm/similar02_second.csv', header=None)\n",
    "similar02_third = pd.read_csv('Algorithm/similar02_third.csv', header=None)\n",
    "\n",
    "similar03_best = pd.read_csv('Algorithm/similar03_best.csv', header=None)\n",
    "similar03_second = pd.read_csv('Algorithm/similar03_second.csv', header=None)\n",
    "similar03_third = pd.read_csv('Algorithm/similar03_third.csv', header=None)"
   ]
  },
  {
   "cell_type": "code",
   "execution_count": 3,
   "metadata": {
    "collapsed": false
   },
   "outputs": [],
   "source": [
    "# match_best"
   ]
  },
  {
   "cell_type": "code",
   "execution_count": 4,
   "metadata": {
    "collapsed": false
   },
   "outputs": [],
   "source": [
    "# U = match_second - match_third\n",
    "U  = similar01_best - similar01_second \n",
    "#U1 = similar02_best - similar02_second \n",
    "#U2 = similar03_best - similar03_second\n",
    "U3 = similar01_best - similar02_best\n",
    "# U4 = similar02_best - similar03_best\n",
    "U5 = similar01_third - similar01_best\n",
    "U6 = similar02_second - similar03_third"
   ]
  },
  {
   "cell_type": "code",
   "execution_count": 6,
   "metadata": {
    "collapsed": false
   },
   "outputs": [],
   "source": [
    "# U = U.append(U1)\n",
    "# U = U.append(U2)\n",
    "U = U.append(U3)\n",
    "# U = U.append(U4)\n",
    "U = U.append(U5)\n",
    "U = U.append(U6)"
   ]
  },
  {
   "cell_type": "code",
   "execution_count": 7,
   "metadata": {
    "collapsed": false
   },
   "outputs": [],
   "source": [
    "U = U.reset_index() # 5877 rows × 116 columns\n",
    "U = U.drop('index', axis=1)"
   ]
  },
  {
   "cell_type": "code",
   "execution_count": 8,
   "metadata": {
    "collapsed": false
   },
   "outputs": [],
   "source": [
    "# U 5877 rows × 116 columns"
   ]
  },
  {
   "cell_type": "code",
   "execution_count": 9,
   "metadata": {
    "collapsed": false
   },
   "outputs": [],
   "source": [
    "# U # 1959 rows × 116 columns\n",
    "numOfColumns = U.shape[1]"
   ]
  },
  {
   "cell_type": "code",
   "execution_count": 10,
   "metadata": {
    "collapsed": true
   },
   "outputs": [],
   "source": [
    "# INPORTANT : numOfColumns + 1 \n",
    "data = np.identity( numOfColumns + 1 )   # with topic features"
   ]
  },
  {
   "cell_type": "code",
   "execution_count": 11,
   "metadata": {
    "collapsed": false
   },
   "outputs": [],
   "source": [
    "# data"
   ]
  },
  {
   "cell_type": "code",
   "execution_count": 12,
   "metadata": {
    "collapsed": false
   },
   "outputs": [],
   "source": [
    "I = pd.DataFrame(data=data[1:,1:])"
   ]
  },
  {
   "cell_type": "code",
   "execution_count": 13,
   "metadata": {
    "collapsed": false
   },
   "outputs": [],
   "source": [
    "# I"
   ]
  },
  {
   "cell_type": "code",
   "execution_count": 14,
   "metadata": {
    "collapsed": true
   },
   "outputs": [],
   "source": [
    "parameter_l = 0.01\n",
    "parameter_u = 1.32\n",
    "# 0.01,1.32,0.04\n",
    "C = pd.concat([parameter_l * I, parameter_u * U],ignore_index=True)"
   ]
  },
  {
   "cell_type": "code",
   "execution_count": 15,
   "metadata": {
    "collapsed": false
   },
   "outputs": [],
   "source": [
    "# C"
   ]
  },
  {
   "cell_type": "code",
   "execution_count": 16,
   "metadata": {
    "collapsed": false
   },
   "outputs": [],
   "source": [
    "def S(x) :\n",
    "    if x > -1 and x < 1:\n",
    "        return x\n",
    "    elif x >= 1 :\n",
    "        return 1\n",
    "    else :\n",
    "        return -1\n",
    "\n",
    "# test the S(x)\n",
    "# print S(0)\n",
    "# print S(0.5)\n",
    "# print S(-0.7)\n",
    "# print S(-2)\n",
    "# print S(1.8)"
   ]
  },
  {
   "cell_type": "code",
   "execution_count": 17,
   "metadata": {
    "collapsed": true
   },
   "outputs": [],
   "source": [
    "random_num = np.random.uniform(-1, 1, size=numOfColumns)"
   ]
  },
  {
   "cell_type": "code",
   "execution_count": 18,
   "metadata": {
    "collapsed": false
   },
   "outputs": [],
   "source": [
    "w = pd.DataFrame(data=random_num)"
   ]
  },
  {
   "cell_type": "code",
   "execution_count": 19,
   "metadata": {
    "collapsed": false
   },
   "outputs": [],
   "source": [
    "# w # 116 rows × 1 columns"
   ]
  },
  {
   "cell_type": "code",
   "execution_count": 20,
   "metadata": {
    "collapsed": false
   },
   "outputs": [],
   "source": [
    "parameter_g = 0.04\n",
    "#0.01,1.32,0.04\n",
    "C_Dot_W = C.dot(w) / parameter_g"
   ]
  },
  {
   "cell_type": "code",
   "execution_count": 21,
   "metadata": {
    "collapsed": false
   },
   "outputs": [],
   "source": [
    "# C_Dot_W"
   ]
  },
  {
   "cell_type": "code",
   "execution_count": 22,
   "metadata": {
    "collapsed": false
   },
   "outputs": [],
   "source": [
    "A = C_Dot_W[0].apply(S)"
   ]
  },
  {
   "cell_type": "code",
   "execution_count": 23,
   "metadata": {
    "collapsed": false
   },
   "outputs": [],
   "source": [
    "# A"
   ]
  },
  {
   "cell_type": "code",
   "execution_count": 24,
   "metadata": {
    "collapsed": false
   },
   "outputs": [],
   "source": [
    "# C_T : C 's transpose\n",
    "C_T = C.transpose()"
   ]
  },
  {
   "cell_type": "code",
   "execution_count": 25,
   "metadata": {
    "collapsed": false
   },
   "outputs": [],
   "source": [
    "C_T_Dot_A = 0.5 * C_T.dot(A)"
   ]
  },
  {
   "cell_type": "code",
   "execution_count": 26,
   "metadata": {
    "collapsed": false
   },
   "outputs": [],
   "source": [
    "# C_T_Dot_A"
   ]
  },
  {
   "cell_type": "code",
   "execution_count": 27,
   "metadata": {
    "collapsed": false
   },
   "outputs": [],
   "source": [
    "# Training_data # 17583 rows × 118 columns"
   ]
  },
  {
   "cell_type": "code",
   "execution_count": 28,
   "metadata": {
    "collapsed": false
   },
   "outputs": [],
   "source": [
    "# with topic features\n",
    "X = Training_data.ix[0:, 0:numOfColumns-1]\n",
    "Y = Training_data.ix[0:, numOfColumns]"
   ]
  },
  {
   "cell_type": "code",
   "execution_count": 29,
   "metadata": {
    "collapsed": false
   },
   "outputs": [],
   "source": [
    "# X"
   ]
  },
  {
   "cell_type": "code",
   "execution_count": 30,
   "metadata": {
    "collapsed": false
   },
   "outputs": [],
   "source": [
    "# Y "
   ]
  },
  {
   "cell_type": "code",
   "execution_count": 31,
   "metadata": {
    "collapsed": false
   },
   "outputs": [],
   "source": [
    "X_Mul_Y = X.mul(Y, axis=0)"
   ]
  },
  {
   "cell_type": "code",
   "execution_count": 32,
   "metadata": {
    "collapsed": false
   },
   "outputs": [],
   "source": [
    "# X_Mul_Y"
   ]
  },
  {
   "cell_type": "code",
   "execution_count": 33,
   "metadata": {
    "collapsed": false
   },
   "outputs": [],
   "source": [
    "Sum_X_Mul_Y = X_Mul_Y.sum()"
   ]
  },
  {
   "cell_type": "code",
   "execution_count": 34,
   "metadata": {
    "collapsed": false
   },
   "outputs": [],
   "source": [
    "# Sum_X_Mul_Y"
   ]
  },
  {
   "cell_type": "code",
   "execution_count": 35,
   "metadata": {
    "collapsed": false
   },
   "outputs": [],
   "source": [
    "Target = Sum_X_Mul_Y - C_T_Dot_A"
   ]
  },
  {
   "cell_type": "code",
   "execution_count": 36,
   "metadata": {
    "collapsed": false
   },
   "outputs": [],
   "source": [
    "Target = Target.as_matrix()"
   ]
  },
  {
   "cell_type": "code",
   "execution_count": 37,
   "metadata": {
    "collapsed": false
   },
   "outputs": [
    {
     "data": {
      "text/plain": [
       "array([  2.25571265e+03,  -3.61367911e+02,   1.22805443e+03,\n",
       "         5.86077738e+02,  -9.35790139e+02,   1.06725213e+03,\n",
       "         9.14612696e+02,   1.46392789e+02,   1.57201106e+01,\n",
       "         4.99130788e+02,   7.43160988e+02,   3.95995611e+04,\n",
       "         3.39989487e+04,  -4.09797584e+03,   7.44871536e+03,\n",
       "         8.15646403e+03,   4.92403443e+03,  -1.86508253e+03,\n",
       "        -5.33291369e+03,   3.69564608e+03,   5.76068023e+03,\n",
       "        -1.31690029e+03,  -2.71574096e+03,  -2.02187036e+03,\n",
       "        -1.11441181e+03,  -6.89726117e+03,   3.75691232e+03,\n",
       "        -4.67059644e+03,   4.87658739e+03,   1.67094134e+03,\n",
       "        -6.61736771e+02,  -1.69833693e+03,  -8.80855308e+03,\n",
       "         5.24330827e+03,   5.76898190e+03,  -6.81356138e+03,\n",
       "        -1.47646082e+03,   1.16913698e+03,  -2.78242742e+02,\n",
       "        -2.98120523e+03,  -1.96643743e+03,  -8.69144538e+02,\n",
       "         2.30673024e+03,  -1.61314121e+03,   8.11782981e+03,\n",
       "         2.09112318e+03,   5.75777610e+03,   6.04168129e+03,\n",
       "         3.25650480e+03,  -1.91746838e+03,  -3.80275846e+02,\n",
       "         1.28427912e+03,  -7.12179074e+03,   1.84329014e+03,\n",
       "        -8.50043293e+02,  -3.99223667e+03,   3.44844393e+03,\n",
       "        -1.37075716e+03,  -9.95417889e+03,   2.82016183e+03,\n",
       "        -8.83751991e+03,   2.15038150e+03,   1.19475026e+03,\n",
       "         2.18194332e+03,  -1.02704050e+04,  -8.34095904e+02,\n",
       "        -1.17583728e+03,   6.42248607e+01,  -1.79294671e+03,\n",
       "        -1.83751815e+02,  -5.31020655e+02,  -1.94097621e+03,\n",
       "        -1.84886193e+03,  -6.79767706e+02,  -1.38805291e+02,\n",
       "        -8.67574486e+02,  -1.96060032e+03,  -2.43253513e+03,\n",
       "        -1.46998180e+03,  -4.63867139e+02,  -5.13686985e+02,\n",
       "        -8.44650254e+02,  -7.57638506e+02,  -7.65974884e+02,\n",
       "         1.63832549e+03,  -1.16863394e+03,  -1.82461319e+03,\n",
       "        -2.29736801e+01,  -6.28504228e-01,  -1.38078497e+03,\n",
       "         4.38696955e+02,   1.44428879e+02,  -2.86237822e+02,\n",
       "        -1.96503131e+03,   4.70236794e+02,  -6.72875188e+02,\n",
       "         1.14479006e+02,  -1.36125368e+03,  -1.49353434e+02,\n",
       "        -1.41814887e+03,   1.59412997e+02,   5.82349470e+00,\n",
       "        -9.31551745e+02,  -3.36240151e+02,  -6.85067576e+02,\n",
       "        -1.05776323e+03,  -4.54903249e+02,  -1.60968119e+03,\n",
       "        -9.38223736e+01,   7.63631782e+02,  -2.34013459e+03,\n",
       "        -3.13305731e+02,  -2.36072825e+02,  -7.47567958e+02,\n",
       "        -5.86296500e+02,  -1.88297406e+03])"
      ]
     },
     "execution_count": 37,
     "metadata": {},
     "output_type": "execute_result"
    }
   ],
   "source": [
    "Target"
   ]
  },
  {
   "cell_type": "code",
   "execution_count": 38,
   "metadata": {
    "collapsed": false
   },
   "outputs": [],
   "source": [
    "X_T = X.transpose()"
   ]
  },
  {
   "cell_type": "code",
   "execution_count": 39,
   "metadata": {
    "collapsed": false
   },
   "outputs": [],
   "source": [
    "# X"
   ]
  },
  {
   "cell_type": "code",
   "execution_count": 40,
   "metadata": {
    "collapsed": false
   },
   "outputs": [],
   "source": [
    "X_T_Dot_X = X_T.dot(X)"
   ]
  },
  {
   "cell_type": "code",
   "execution_count": 41,
   "metadata": {
    "collapsed": false
   },
   "outputs": [],
   "source": [
    "# X_T_Dot_X"
   ]
  },
  {
   "cell_type": "code",
   "execution_count": 42,
   "metadata": {
    "collapsed": true
   },
   "outputs": [],
   "source": [
    "Parameter = X_T_Dot_X.as_matrix()"
   ]
  },
  {
   "cell_type": "code",
   "execution_count": 43,
   "metadata": {
    "collapsed": false
   },
   "outputs": [],
   "source": [
    "# Parameter"
   ]
  },
  {
   "cell_type": "code",
   "execution_count": 44,
   "metadata": {
    "collapsed": false
   },
   "outputs": [],
   "source": [
    "w = np.linalg.solve(Parameter, Target)"
   ]
  },
  {
   "cell_type": "code",
   "execution_count": 45,
   "metadata": {
    "collapsed": false
   },
   "outputs": [
    {
     "data": {
      "text/plain": [
       "array([ -8.84403398e-02,   2.86692036e-03,   2.06433864e-02,\n",
       "         5.00346691e-03,  -6.69595936e-02,   1.23408316e-02,\n",
       "         9.90486583e-03,  -4.98429265e-02,   1.07422814e-02,\n",
       "         3.66263925e-02,   2.20845492e-02,   2.01899925e-01,\n",
       "         1.27262652e-01,  -1.39493136e-01,   5.45307705e-02,\n",
       "         4.50628485e-02,   3.64021593e-02,  -1.05747250e-02,\n",
       "        -6.55733028e-02,   6.10864690e-04,   4.41128206e-02,\n",
       "        -1.48423535e-02,  -2.58779272e-02,  -7.85399315e-03,\n",
       "        -6.30921815e-04,  -7.63078234e-02,   2.76843579e-02,\n",
       "        -3.19668634e-02,   1.07472032e-01,  -1.68368916e-02,\n",
       "         2.82187410e-02,  -3.96481283e-02,  -7.57292367e-02,\n",
       "         4.41320226e-02,   5.78967071e-02,  -6.89278435e-02,\n",
       "        -1.80584396e-02,   3.47189146e-03,   4.66148515e-03,\n",
       "        -6.59262189e-03,  -3.58148308e-02,   1.07278219e-02,\n",
       "         1.96066113e-03,   2.48193168e-02,   7.06906156e-02,\n",
       "         1.58779153e-02,   5.38452284e-02,   5.86031386e-02,\n",
       "         1.53050816e-02,  -6.03001464e-02,  -1.06112733e-02,\n",
       "         1.11538873e-02,  -1.39210277e-01,  -3.86480582e-02,\n",
       "        -3.24376043e-02,  -2.01560828e-02,   2.76542957e-02,\n",
       "        -4.37269103e-02,  -1.28576755e-01,   2.54584942e-02,\n",
       "        -7.19384475e-02,   1.46351383e-02,   7.34684466e-02,\n",
       "         4.76605837e-02,  -7.65524688e-02,  -9.67496649e-03,\n",
       "         1.53294713e-02,  -3.60603610e-03,  -2.72216362e-03,\n",
       "         7.32260709e-03,  -2.58626342e-02,  -1.08343995e-02,\n",
       "        -1.26919131e-02,   9.15642878e-03,   4.31240545e-02,\n",
       "        -3.06711459e-03,  -2.17268586e-03,  -2.43421759e-02,\n",
       "        -3.45626360e-03,  -1.87658429e-02,   9.68000412e-03,\n",
       "         5.01423639e-03,   3.95065933e-03,  -1.09697372e-02,\n",
       "         3.48323201e-02,   7.36508393e-05,  -2.86944205e-02,\n",
       "         5.39451825e-03,  -8.24962641e-03,  -3.36995095e-02,\n",
       "        -1.71304652e-02,   1.22549102e-03,   1.69259926e-02,\n",
       "        -4.22416666e-02,   3.19769758e-02,  -1.76604057e-02,\n",
       "         1.62101938e-02,   1.02857119e-02,   4.43178160e-02,\n",
       "         2.47618171e-02,   1.61944615e-02,   1.00449626e-02,\n",
       "         7.46564159e-03,   2.43155557e-02,  -1.88161327e-02,\n",
       "        -2.80536536e-03,  -3.16534114e-02,   1.75634624e-04,\n",
       "        -3.22933713e-03,   1.59625754e-02,  -1.56905729e-02,\n",
       "         2.04026954e-02,   1.10479883e-02,  -3.66653700e-03,\n",
       "        -1.51190364e-02,   2.25061623e-02])"
      ]
     },
     "execution_count": 45,
     "metadata": {},
     "output_type": "execute_result"
    }
   ],
   "source": [
    "w"
   ]
  },
  {
   "cell_type": "markdown",
   "metadata": {
    "collapsed": true
   },
   "source": [
    "# Optimaization Algorithm"
   ]
  },
  {
   "cell_type": "code",
   "execution_count": 46,
   "metadata": {
    "collapsed": false
   },
   "outputs": [
    {
     "name": "stdout",
     "output_type": "stream",
     "text": [
      "iterations:1 delta_A:132.817928226 delta_w:0.090658088144\n",
      "iterations:2 delta_A:41.2697810287 delta_w:0.0179932930328\n",
      "iterations:3 delta_A:13.9642878244 delta_w:0.00541626482016\n",
      "iterations:4 delta_A:4.99189122932 delta_w:0.00210328070924\n",
      "iterations:5 delta_A:1.97796281567 delta_w:0.000872651393628\n",
      "iterations:6 delta_A:0.835950358459 delta_w:0.000378597327322\n",
      "iterations:7 delta_A:0.365848893834 delta_w:0.000168837225859\n",
      "iterations:8 delta_A:0.163690897327 delta_w:7.67269747808e-05\n",
      "[-0.09041641  0.00289924  0.01274259 -0.00270929 -0.0606248   0.00122169\n",
      " -0.00151428 -0.03971719  0.00765143  0.04502791  0.01789094  0.18883114\n",
      "  0.1156987  -0.11281292  0.04797507  0.04942514  0.03393513 -0.01296578\n",
      " -0.0591177  -0.00902359  0.03488016 -0.01481264 -0.02172931 -0.01350016\n",
      " -0.00483105 -0.0763298   0.02596576 -0.02473781  0.10147952 -0.02303619\n",
      "  0.02502287 -0.02537271 -0.07376419  0.03538123  0.05088659 -0.069105\n",
      " -0.0151765   0.01145149  0.00439043 -0.00359095 -0.03763591  0.01703655\n",
      "  0.00743255  0.01492542  0.05667713  0.01573012  0.05139407  0.04656079\n",
      "  0.00592351 -0.05242035 -0.00820535  0.01164319 -0.13119601 -0.02903485\n",
      " -0.03316978 -0.02243706  0.0338028  -0.02910464 -0.11183352  0.02562854\n",
      " -0.05915633  0.01340212  0.05985434  0.04253046 -0.07853239 -0.01309414\n",
      "  0.01408638 -0.00609205 -0.00299392  0.00393321 -0.01671999 -0.00044377\n",
      " -0.00984997  0.00030033  0.03551263 -0.01888854 -0.00228005 -0.01792986\n",
      " -0.01037098 -0.01558831 -0.00021067  0.00520413  0.0027081  -0.00828202\n",
      "  0.02537724 -0.01255676 -0.02550729  0.00059152 -0.01503975 -0.02745315\n",
      " -0.02416249  0.00097912  0.00166153 -0.04247846  0.02508999 -0.01755327\n",
      "  0.009494    0.00917513  0.04852068  0.02220384  0.01188791  0.00470459\n",
      "  0.00270404  0.01821005 -0.01676574 -0.00547669 -0.0289964   0.0028545\n",
      " -0.00349627  0.00830312 -0.01775992  0.01976687  0.00270775 -0.01032292\n",
      " -0.01828391  0.02642416]\n"
     ]
    }
   ],
   "source": [
    "iterations = 0\n",
    "delta_A = 1000\n",
    "delta_w = 1000\n",
    "bound = 0.0001\n",
    "\n",
    "while delta_A > bound and delta_w > bound :\n",
    "    iterations += 1\n",
    "    \n",
    "    C_Dot_W = C.dot(w) / parameter_g\n",
    "    \n",
    "    # update vector A\n",
    "    A_now = C_Dot_W.apply(S)\n",
    "    \n",
    "    C_T_Dot_A = 0.5 * C_T.dot(A_now)\n",
    "    Target = Sum_X_Mul_Y - C_T_Dot_A\n",
    "    Target = Target.as_matrix()\n",
    "    \n",
    "    # update vector w\n",
    "    w_now = np.linalg.solve(Parameter, Target)\n",
    "    \n",
    "    delta_A = np.linalg.norm(A_now-A)\n",
    "    delta_w = np.linalg.norm(w_now-w)\n",
    "    \n",
    "    A = A_now\n",
    "    w = w_now\n",
    "    \n",
    "    print 'iterations:' + str(iterations) + ' ' + \\\n",
    "            'delta_A:' + str(delta_A) + ' ' + \\\n",
    "            'delta_w:' + str(delta_w)  \n",
    "print w"
   ]
  },
  {
   "cell_type": "code",
   "execution_count": 47,
   "metadata": {
    "collapsed": true
   },
   "outputs": [],
   "source": [
    "test_features = Testing_data.ix[0:, 0:numOfColumns-1]\n",
    "test_flag = Testing_data.ix[0:, numOfColumns]"
   ]
  },
  {
   "cell_type": "code",
   "execution_count": 48,
   "metadata": {
    "collapsed": false
   },
   "outputs": [],
   "source": [
    "# Testing_data\n",
    "# test_features"
   ]
  },
  {
   "cell_type": "code",
   "execution_count": 49,
   "metadata": {
    "collapsed": false
   },
   "outputs": [],
   "source": [
    "result = np.dot(test_features, w)"
   ]
  },
  {
   "cell_type": "code",
   "execution_count": 50,
   "metadata": {
    "collapsed": false
   },
   "outputs": [
    {
     "name": "stdout",
     "output_type": "stream",
     "text": [
      "2.14033314916\n",
      "-2.33922176724\n"
     ]
    }
   ],
   "source": [
    "print result.max()\n",
    "print result.min()\n",
    "#print result\n",
    "predict_flag = result > 0"
   ]
  },
  {
   "cell_type": "code",
   "execution_count": 51,
   "metadata": {
    "collapsed": false
   },
   "outputs": [
    {
     "name": "stdout",
     "output_type": "stream",
     "text": [
      "True\n",
      "True == 1\n"
     ]
    }
   ],
   "source": [
    "len(predict_flag)\n",
    "print predict_flag[0]\n",
    "if predict_flag[0] == 1:\n",
    "    print \"True == 1\""
   ]
  },
  {
   "cell_type": "code",
   "execution_count": 52,
   "metadata": {
    "collapsed": false
   },
   "outputs": [
    {
     "name": "stdout",
     "output_type": "stream",
     "text": [
      "0.837798957022\n",
      "0.838958180484\n",
      "0.831636363636\n",
      "0.835281227173\n"
     ]
    }
   ],
   "source": [
    "#test_flag\n",
    "\n",
    "true_positive = 0.0\n",
    "true_negative = 0.0\n",
    "false_positive = 0.0\n",
    "false_negative = 0.0\n",
    "\n",
    "for i in range( len(predict_flag) ):\n",
    "    if predict_flag[i] == True and test_flag[i] == 1 :\n",
    "        true_positive += 1\n",
    "    if predict_flag[i] == False and test_flag[i] == -1 :\n",
    "        true_negative += 1\n",
    "    if predict_flag[i] == True and test_flag[i] == -1 :\n",
    "        false_positive += 1\n",
    "    if predict_flag[i] == False and test_flag[i] == 1 :\n",
    "        false_negative += 1\n",
    "        \n",
    "#print true_positive\n",
    "#print true_negative\n",
    "#print false_positive\n",
    "#print false_negative\n",
    "\n",
    "ACC = (true_positive + true_negative) / (true_positive + true_negative + false_positive + false_negative)\n",
    "PRE = true_positive / (true_positive + false_positive)\n",
    "REC = true_positive / (true_positive + false_negative)\n",
    "F1 = 2*( PRE * REC) / (PRE + REC)\n",
    "print ACC\n",
    "print PRE\n",
    "print REC\n",
    "print F1"
   ]
  },
  {
   "cell_type": "code",
   "execution_count": 53,
   "metadata": {
    "collapsed": true
   },
   "outputs": [],
   "source": [
    "def Store_Model( Weights , File ) :\n",
    "    # Write Model's performance to the File\n",
    "    File.write(str(F1*100) + '%')\n",
    "    \n",
    "    # Write coefficients to the Filse \n",
    "    coefficients = Weights\n",
    "    for i in range( len(coefficients) ) :\n",
    "        # print i,coefficients[i]\n",
    "        File.write(',' + str(coefficients[i]) )"
   ]
  },
  {
   "cell_type": "code",
   "execution_count": 54,
   "metadata": {
    "collapsed": false
   },
   "outputs": [],
   "source": [
    "with open('./MODEL/MODEL_17.txt', 'w') as model :\n",
    "    Store_Model(w, model)"
   ]
  },
  {
   "cell_type": "code",
   "execution_count": null,
   "metadata": {
    "collapsed": true
   },
   "outputs": [],
   "source": []
  }
 ],
 "metadata": {
  "kernelspec": {
   "display_name": "Python 2",
   "language": "python",
   "name": "python2"
  },
  "language_info": {
   "codemirror_mode": {
    "name": "ipython",
    "version": 2
   },
   "file_extension": ".py",
   "mimetype": "text/x-python",
   "name": "python",
   "nbconvert_exporter": "python",
   "pygments_lexer": "ipython2",
   "version": "2.7.11"
  }
 },
 "nbformat": 4,
 "nbformat_minor": 0
}
