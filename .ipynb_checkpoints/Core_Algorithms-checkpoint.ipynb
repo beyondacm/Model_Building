{
 "cells": [
  {
   "cell_type": "code",
   "execution_count": 1,
   "metadata": {
    "collapsed": true
   },
   "outputs": [],
   "source": [
    "import pandas as pd\n",
    "import numpy as np"
   ]
  },
  {
   "cell_type": "code",
   "execution_count": 2,
   "metadata": {
    "collapsed": false
   },
   "outputs": [],
   "source": [
    "# Before you doing this, you need to remove the first line(header) of the below file\n",
    "match_best = pd.read_csv('Algorithm/match_best.csv', header=None)\n",
    "match_second = pd.read_csv('Algorithm/match_second.csv', header=None)\n",
    "match_third = pd.read_csv('Algorithm/match_third.csv', header=None)\n",
    "raw_data = pd.read_csv('Algorithm/raw_data.csv', header=None)\n",
    "Training_data = pd.read_csv('Algorithm/training_data.csv', header=None)\n",
    "Testing_data = pd.read_csv('Algorithm/testing_data.csv', header=None)"
   ]
  },
  {
   "cell_type": "code",
   "execution_count": 3,
   "metadata": {
    "collapsed": false,
    "scrolled": true
   },
   "outputs": [],
   "source": [
    "# Training_data # 17583 rows × 117 columns"
   ]
  },
  {
   "cell_type": "code",
   "execution_count": 4,
   "metadata": {
    "collapsed": false
   },
   "outputs": [],
   "source": [
    "U = match_second - match_third"
   ]
  },
  {
   "cell_type": "code",
   "execution_count": 5,
   "metadata": {
    "collapsed": false
   },
   "outputs": [],
   "source": [
    "# U # 1959 rows × 116 columns\n",
    "numOfColumns = U.shape[1]"
   ]
  },
  {
   "cell_type": "code",
   "execution_count": 6,
   "metadata": {
    "collapsed": true
   },
   "outputs": [],
   "source": [
    "# INPORTANT : numOfColumns + 1 \n",
    "data = np.identity( numOfColumns + 1 )   # with topic features"
   ]
  },
  {
   "cell_type": "code",
   "execution_count": 7,
   "metadata": {
    "collapsed": false
   },
   "outputs": [],
   "source": [
    "# data"
   ]
  },
  {
   "cell_type": "code",
   "execution_count": 8,
   "metadata": {
    "collapsed": false
   },
   "outputs": [],
   "source": [
    "I = pd.DataFrame(data=data[1:,1:])"
   ]
  },
  {
   "cell_type": "code",
   "execution_count": 9,
   "metadata": {
    "collapsed": false
   },
   "outputs": [],
   "source": [
    "# I"
   ]
  },
  {
   "cell_type": "code",
   "execution_count": 10,
   "metadata": {
    "collapsed": true
   },
   "outputs": [],
   "source": [
    "parameter_l = 0.5\n",
    "parameter_u = 0.5\n",
    "# 0.01,1.32,0.04\n",
    "C = pd.concat([parameter_l * I, parameter_u * U],ignore_index=True)"
   ]
  },
  {
   "cell_type": "code",
   "execution_count": 11,
   "metadata": {
    "collapsed": false
   },
   "outputs": [],
   "source": [
    "# C"
   ]
  },
  {
   "cell_type": "code",
   "execution_count": 12,
   "metadata": {
    "collapsed": false
   },
   "outputs": [],
   "source": [
    "def S(x) :\n",
    "    if x > -1 and x < 1:\n",
    "        return x\n",
    "    elif x >= 1 :\n",
    "        return 1\n",
    "    else :\n",
    "        return -1\n",
    "\n",
    "# test the S(x)\n",
    "# print S(0)\n",
    "# print S(0.5)\n",
    "# print S(-0.7)\n",
    "# print S(-2)\n",
    "# print S(1.8)"
   ]
  },
  {
   "cell_type": "code",
   "execution_count": 13,
   "metadata": {
    "collapsed": true
   },
   "outputs": [],
   "source": [
    "random_num = np.random.uniform(-1, 1, size=numOfColumns)"
   ]
  },
  {
   "cell_type": "code",
   "execution_count": 14,
   "metadata": {
    "collapsed": false
   },
   "outputs": [],
   "source": [
    "w = pd.DataFrame(data=random_num)"
   ]
  },
  {
   "cell_type": "code",
   "execution_count": 15,
   "metadata": {
    "collapsed": false
   },
   "outputs": [],
   "source": [
    "# w # 116 rows × 1 columns"
   ]
  },
  {
   "cell_type": "code",
   "execution_count": 16,
   "metadata": {
    "collapsed": false
   },
   "outputs": [],
   "source": [
    "parameter_g = 0.04\n",
    "#0.01,1.32,0.04\n",
    "C_Dot_W = C.dot(w) / parameter_g"
   ]
  },
  {
   "cell_type": "code",
   "execution_count": 17,
   "metadata": {
    "collapsed": false
   },
   "outputs": [],
   "source": [
    "# C_Dot_W"
   ]
  },
  {
   "cell_type": "code",
   "execution_count": 18,
   "metadata": {
    "collapsed": false
   },
   "outputs": [],
   "source": [
    "A = C_Dot_W[0].apply(S)"
   ]
  },
  {
   "cell_type": "code",
   "execution_count": 19,
   "metadata": {
    "collapsed": false
   },
   "outputs": [],
   "source": [
    "# A"
   ]
  },
  {
   "cell_type": "code",
   "execution_count": 20,
   "metadata": {
    "collapsed": false
   },
   "outputs": [],
   "source": [
    "# C_T : C 's transpose\n",
    "C_T = C.transpose()"
   ]
  },
  {
   "cell_type": "code",
   "execution_count": 21,
   "metadata": {
    "collapsed": false
   },
   "outputs": [],
   "source": [
    "C_T_Dot_A = 0.5 * C_T.dot(A)"
   ]
  },
  {
   "cell_type": "code",
   "execution_count": 22,
   "metadata": {
    "collapsed": false
   },
   "outputs": [],
   "source": [
    "# C_T_Dot_A"
   ]
  },
  {
   "cell_type": "code",
   "execution_count": 23,
   "metadata": {
    "collapsed": false
   },
   "outputs": [],
   "source": [
    "# Training_data # 17583 rows × 118 columns"
   ]
  },
  {
   "cell_type": "code",
   "execution_count": 24,
   "metadata": {
    "collapsed": false
   },
   "outputs": [],
   "source": [
    "# with topic features\n",
    "X = Training_data.ix[0:, 0:numOfColumns-1]\n",
    "Y = Training_data.ix[0:, numOfColumns]"
   ]
  },
  {
   "cell_type": "code",
   "execution_count": 25,
   "metadata": {
    "collapsed": false
   },
   "outputs": [],
   "source": [
    "# X"
   ]
  },
  {
   "cell_type": "code",
   "execution_count": 26,
   "metadata": {
    "collapsed": false
   },
   "outputs": [],
   "source": [
    "# Y "
   ]
  },
  {
   "cell_type": "code",
   "execution_count": 27,
   "metadata": {
    "collapsed": false
   },
   "outputs": [],
   "source": [
    "X_Mul_Y = X.mul(Y, axis=0)"
   ]
  },
  {
   "cell_type": "code",
   "execution_count": 28,
   "metadata": {
    "collapsed": false
   },
   "outputs": [],
   "source": [
    "# X_Mul_Y"
   ]
  },
  {
   "cell_type": "code",
   "execution_count": 29,
   "metadata": {
    "collapsed": false
   },
   "outputs": [],
   "source": [
    "Sum_X_Mul_Y = X_Mul_Y.sum()"
   ]
  },
  {
   "cell_type": "code",
   "execution_count": 30,
   "metadata": {
    "collapsed": false
   },
   "outputs": [],
   "source": [
    "# Sum_X_Mul_Y"
   ]
  },
  {
   "cell_type": "code",
   "execution_count": 31,
   "metadata": {
    "collapsed": false
   },
   "outputs": [],
   "source": [
    "Target = Sum_X_Mul_Y - C_T_Dot_A"
   ]
  },
  {
   "cell_type": "code",
   "execution_count": 32,
   "metadata": {
    "collapsed": false
   },
   "outputs": [],
   "source": [
    "Target = Target.as_matrix()"
   ]
  },
  {
   "cell_type": "code",
   "execution_count": 33,
   "metadata": {
    "collapsed": false
   },
   "outputs": [],
   "source": [
    "# Target"
   ]
  },
  {
   "cell_type": "code",
   "execution_count": 34,
   "metadata": {
    "collapsed": false
   },
   "outputs": [],
   "source": [
    "X_T = X.transpose()"
   ]
  },
  {
   "cell_type": "code",
   "execution_count": 35,
   "metadata": {
    "collapsed": false
   },
   "outputs": [],
   "source": [
    "X_T_Dot_X = X_T.dot(X)"
   ]
  },
  {
   "cell_type": "code",
   "execution_count": 36,
   "metadata": {
    "collapsed": false
   },
   "outputs": [],
   "source": [
    "# X_T_Dot_X"
   ]
  },
  {
   "cell_type": "code",
   "execution_count": 37,
   "metadata": {
    "collapsed": true
   },
   "outputs": [],
   "source": [
    "Parameter = X_T_Dot_X.as_matrix()"
   ]
  },
  {
   "cell_type": "code",
   "execution_count": 38,
   "metadata": {
    "collapsed": false
   },
   "outputs": [],
   "source": [
    "# Parameter"
   ]
  },
  {
   "cell_type": "code",
   "execution_count": 39,
   "metadata": {
    "collapsed": false
   },
   "outputs": [],
   "source": [
    "w = np.linalg.solve(Parameter, Target)"
   ]
  },
  {
   "cell_type": "code",
   "execution_count": 40,
   "metadata": {
    "collapsed": false
   },
   "outputs": [],
   "source": [
    "# w"
   ]
  },
  {
   "cell_type": "markdown",
   "metadata": {
    "collapsed": true
   },
   "source": [
    "# Optimaization Algorithm"
   ]
  },
  {
   "cell_type": "code",
   "execution_count": 41,
   "metadata": {
    "collapsed": false
   },
   "outputs": [
    {
     "name": "stdout",
     "output_type": "stream",
     "text": [
      "iterations:1 delta_A:59.7168314243 delta_w:0.145267762503\n",
      "iterations:2 delta_A:13.5256930756 delta_w:0.0299500702081\n",
      "iterations:3 delta_A:4.20167054014 delta_w:0.00975978344553\n",
      "iterations:4 delta_A:1.42107873432 delta_w:0.0033564288297\n",
      "iterations:5 delta_A:0.486588619365 delta_w:0.00116856241769\n",
      "iterations:6 delta_A:0.168322517399 delta_w:0.000402381656937\n",
      "iterations:7 delta_A:0.0582861738667 delta_w:0.000139951835337\n",
      "iterations:8 delta_A:0.0202017113986 delta_w:4.85129457162e-05\n",
      "[ -2.19580302e-01  -2.25487995e-01   3.32262029e-02  -9.38395553e-02\n",
      "   2.22734020e-01   7.25541447e-03  -1.36073298e-01   6.64881985e-03\n",
      "   7.41374919e-02   2.93115114e-01  -1.57682632e-02   7.49824714e-02\n",
      "   3.14079549e-01  -1.93514203e-01  -3.62729105e-02  -1.55548368e-02\n",
      "  -1.67904215e-01  -5.75815746e-02   5.19796644e-01  -3.14217753e-01\n",
      "  -2.49723844e-01   2.00417258e-02   2.10801800e-01  -1.63219538e-01\n",
      "   1.48404058e-01  -2.34334418e-01  -9.17171395e-02   1.42711350e-02\n",
      "  -3.64145101e-01  -6.41325452e-02  -2.56861249e-01  -6.53832610e-02\n",
      "   3.10904896e-01   2.01988312e-01  -2.62357009e-02  -7.19561714e-01\n",
      "  -4.51552546e-01  -4.22177626e-01  -6.33702336e-01  -6.10518703e-01\n",
      "  -2.78118977e-01  -1.47844782e-01   6.36817114e-01  -1.91496061e-01\n",
      "   5.58796524e-01  -5.59008194e-02   5.02760148e-01  -3.10620763e-01\n",
      "  -1.72416696e-01  -3.11587258e-01   2.85492816e-01  -3.51424770e-01\n",
      "   1.33126259e-01  -7.02785536e-03   6.17053448e-01   1.31165975e-01\n",
      "  -3.07128850e-01   3.51759068e-02  -1.39000286e-01   3.03902002e-01\n",
      "   3.37050114e-01   3.79862096e-01  -4.17180368e-02   3.37058152e-01\n",
      "   2.17075907e-03  -5.81414699e-02   1.22277576e-01  -1.05906265e-01\n",
      "  -4.63056616e-02   1.85638828e-01   2.66789221e-01   4.65221614e-04\n",
      "  -1.95502580e-02   1.62056673e-01  -2.25197637e-02   4.29256813e-02\n",
      "   1.35084210e-01   1.39776575e-01  -1.41100882e-01  -4.90337093e-02\n",
      "  -8.80088571e-02   1.91283466e-01   2.53158124e-01   6.02473951e-02\n",
      "   1.51648855e-01   9.12305516e-02   4.25663001e-02   9.10896717e-02\n",
      "   1.37880929e-01   1.18128587e-01   3.94341800e-01   2.08035691e-01\n",
      "   2.24427993e-01   1.16674643e-01   2.04680887e-01  -4.15746411e-03\n",
      "   1.69322443e-01   1.00224763e-01   5.72154583e-04   5.09912862e-03\n",
      "   3.60541783e-02   3.41706829e-01  -8.38206532e-02  -2.76304896e-01\n",
      "   2.82086682e-01   2.57791529e-01  -7.77566547e-02   3.24535048e-01\n",
      "  -3.21366557e-04  -3.49726103e-02  -2.16259170e-01   3.25004815e-02\n",
      "   3.19410248e-01   3.81311578e-01  -3.36235683e-01   6.87401615e-02]\n"
     ]
    }
   ],
   "source": [
    "iterations = 0\n",
    "delta_A = 1000\n",
    "delta_w = 1000\n",
    "bound = 0.0001\n",
    "\n",
    "while delta_A > bound and delta_w > bound :\n",
    "    iterations += 1\n",
    "    \n",
    "    C_Dot_W = C.dot(w) / parameter_g\n",
    "    \n",
    "    # update vector A\n",
    "    A_now = C_Dot_W.apply(S)\n",
    "    \n",
    "    C_T_Dot_A = 0.5 * C_T.dot(A_now)\n",
    "    Target = Sum_X_Mul_Y - C_T_Dot_A\n",
    "    Target = Target.as_matrix()\n",
    "    \n",
    "    # update vector w\n",
    "    w_now = np.linalg.solve(Parameter, Target)\n",
    "    \n",
    "    delta_A = np.linalg.norm(A_now-A)\n",
    "    delta_w = np.linalg.norm(w_now-w)\n",
    "    \n",
    "    A = A_now\n",
    "    w = w_now\n",
    "    \n",
    "    print 'iterations:' + str(iterations) + ' ' + \\\n",
    "            'delta_A:' + str(delta_A) + ' ' + \\\n",
    "            'delta_w:' + str(delta_w)  \n",
    "print w"
   ]
  },
  {
   "cell_type": "code",
   "execution_count": 42,
   "metadata": {
    "collapsed": true
   },
   "outputs": [],
   "source": [
    "test_features = Testing_data.ix[0:, 0:numOfColumns-1]\n",
    "test_flag = Testing_data.ix[0:, numOfColumns]"
   ]
  },
  {
   "cell_type": "code",
   "execution_count": 43,
   "metadata": {
    "collapsed": false
   },
   "outputs": [],
   "source": [
    "# Testing_data\n",
    "# test_features"
   ]
  },
  {
   "cell_type": "code",
   "execution_count": 44,
   "metadata": {
    "collapsed": false
   },
   "outputs": [],
   "source": [
    "result = np.dot(test_features, w)"
   ]
  },
  {
   "cell_type": "code",
   "execution_count": 45,
   "metadata": {
    "collapsed": false
   },
   "outputs": [
    {
     "name": "stdout",
     "output_type": "stream",
     "text": [
      "1.91225227565\n",
      "-2.72011575339\n"
     ]
    }
   ],
   "source": [
    "print result.max()\n",
    "print result.min()\n",
    "#print result\n",
    "predict_flag = result > 0"
   ]
  },
  {
   "cell_type": "code",
   "execution_count": 46,
   "metadata": {
    "collapsed": false
   },
   "outputs": [
    {
     "name": "stdout",
     "output_type": "stream",
     "text": [
      "True\n",
      "True == 1\n"
     ]
    }
   ],
   "source": [
    "len(predict_flag)\n",
    "print predict_flag[0]\n",
    "if predict_flag[0] == 1:\n",
    "    print \"True == 1\""
   ]
  },
  {
   "cell_type": "code",
   "execution_count": 47,
   "metadata": {
    "collapsed": false
   },
   "outputs": [
    {
     "name": "stdout",
     "output_type": "stream",
     "text": [
      "0.969477658905\n",
      "0.967841682127\n",
      "0.972049689441\n",
      "0.969941121785\n"
     ]
    }
   ],
   "source": [
    "#test_flag\n",
    "\n",
    "true_positive = 0.0\n",
    "true_negative = 0.0\n",
    "false_positive = 0.0\n",
    "false_negative = 0.0\n",
    "\n",
    "for i in range( len(predict_flag) ):\n",
    "    if predict_flag[i] == True and test_flag[i] == 1 :\n",
    "        true_positive += 1\n",
    "    if predict_flag[i] == False and test_flag[i] == -1 :\n",
    "        true_negative += 1\n",
    "    if predict_flag[i] == True and test_flag[i] == -1 :\n",
    "        false_positive += 1\n",
    "    if predict_flag[i] == False and test_flag[i] == 1 :\n",
    "        false_negative += 1\n",
    "        \n",
    "#print true_positive\n",
    "#print true_negative\n",
    "#print false_positive\n",
    "#print false_negative\n",
    "\n",
    "ACC = (true_positive + true_negative) / (true_positive + true_negative + false_positive + false_negative)\n",
    "PRE = true_positive / (true_positive + false_positive)\n",
    "REC = true_positive / (true_positive + false_negative)\n",
    "F1 = 2*( PRE * REC) / (PRE + REC)\n",
    "print ACC\n",
    "print PRE\n",
    "print REC\n",
    "print F1"
   ]
  },
  {
   "cell_type": "code",
   "execution_count": 48,
   "metadata": {
    "collapsed": true
   },
   "outputs": [],
   "source": [
    "def Store_Model( Weights , File ) :\n",
    "    # Write Model's performance to the File\n",
    "    File.write(str(F1*100) + '%')\n",
    "    \n",
    "    # Write coefficients to the Filse \n",
    "    coefficients = Weights\n",
    "    for i in range( len(coefficients) ) :\n",
    "        # print i,coefficients[i]\n",
    "        File.write(',' + str(coefficients[i]) )"
   ]
  },
  {
   "cell_type": "code",
   "execution_count": 49,
   "metadata": {
    "collapsed": false
   },
   "outputs": [],
   "source": [
    "with open('./MODEL/MODEL_02.txt', 'w') as model01 :\n",
    "    Store_Model(w, model01)"
   ]
  },
  {
   "cell_type": "code",
   "execution_count": null,
   "metadata": {
    "collapsed": true
   },
   "outputs": [],
   "source": []
  }
 ],
 "metadata": {
  "kernelspec": {
   "display_name": "Python 2",
   "language": "python",
   "name": "python2"
  },
  "language_info": {
   "codemirror_mode": {
    "name": "ipython",
    "version": 2
   },
   "file_extension": ".py",
   "mimetype": "text/x-python",
   "name": "python",
   "nbconvert_exporter": "python",
   "pygments_lexer": "ipython2",
   "version": "2.7.11"
  }
 },
 "nbformat": 4,
 "nbformat_minor": 0
}
